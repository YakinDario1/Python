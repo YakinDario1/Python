{
 "cells": [
  {
   "cell_type": "markdown",
   "id": "8cad0100-9368-4d46-9c87-485ade9e989b",
   "metadata": {},
   "source": [
    "# Operadores de decision "
   ]
  },
  {
   "cell_type": "markdown",
   "id": "dd337218-bf60-44ce-a055-2d5d705d9b49",
   "metadata": {},
   "source": [
    "## Booleanos\n",
    "\n",
    "**Dato booleano.** Es un tipo de dato que solamente puede tomar 2 valores: `True` (verdadero) o `False` (falso).\n",
    "\n",
    "**Variable lógica.** Variable que almacena datos booleanos."
   ]
  },
  {
   "cell_type": "code",
   "execution_count": 1,
   "id": "a7fd3bef-1443-4716-b61c-f19a9ab6eaba",
   "metadata": {
    "tags": []
   },
   "outputs": [
    {
     "data": {
      "text/plain": [
       "bool"
      ]
     },
     "execution_count": 1,
     "metadata": {},
     "output_type": "execute_result"
    }
   ],
   "source": [
    "is_adult = True\n",
    "type(is_adult)"
   ]
  },
  {
   "cell_type": "markdown",
   "id": "219200f1-c746-4575-9024-7ef3f3dafcfc",
   "metadata": {},
   "source": [
    "### Tablas de verdad\n",
    "\n",
    "Dadas dos variables lógicas, $A$ y $B$, , podemos definir los operadores básicos mediante tablas de verdad, donde el valor verdadero se representa con la letra $V$ o bien con un $1$, mientras que el valor falso se representa mediante la letra $F$ o bien con un $0$.\n",
    "\n",
    "La tabla de verdad para la variable $A$ sería\n",
    "\n",
    "| $A$ |\n",
    "| :---: |\n",
    "| $V$ |\n",
    "| $F$ |\n",
    "\n",
    "La tabla de verdad para la variable $B$ sería\n",
    "\n",
    "| $B$ |\n",
    "| :---: |\n",
    "| $V$ |\n",
    "| $F$ |\n",
    "\n"
   ]
  },
  {
   "cell_type": "markdown",
   "id": "546ffafb-2f69-46d3-90d5-2182477db3ec",
   "metadata": {},
   "source": [
    "#### Negación\n",
    "\n",
    "El operador negación aplicado a una variable se representa con $\\neg$ y devuelve el valor contrario.\n",
    "\n",
    "| $A$ | $\\neg A$ |\n",
    "| :---: | :---: |\n",
    "| $V$ | $F$ |\n",
    "| $F$ | $V$ |"
   ]
  },
  {
   "cell_type": "markdown",
   "id": "6c98ffac-95d7-427a-8965-9416d58ca022",
   "metadata": {},
   "source": [
    "#### Conjunción\n",
    "\n",
    "La conjunción entre dos variables se representa con $\\wedge$ y devuelve verdadero únicamente cuando ambas variables valen verdadero.\n",
    "\n",
    "| $A$ | $B$ | $A\\wedge B$ |\n",
    "| :---: | :---: | :---: |\n",
    "| $V$ | $V$ | $V$ |\n",
    "| $V$ | $F$ | $F$ |\n",
    "| $F$ | $V$ | $F$ |\n",
    "| $F$ | $F$ | $F$ |"
   ]
  },
  {
   "cell_type": "markdown",
   "id": "3521f2dd-6c92-43b4-8f5c-72f5bfff1349",
   "metadata": {},
   "source": [
    "#### Disyunción\n",
    "\n",
    "La disyunción entre dos variables se representa con $\\vee$ y devuelve verdadero cuando almenos una de las variables lógicas vale verdadero.\n",
    "\n",
    "| $A$ | $B$ | $A\\vee B$ |\n",
    "| :---: | :---: | :---: |\n",
    "| $V$ | $V$ | $V$ |\n",
    "| $V$ | $F$ | $V$ |\n",
    "| $F$ | $V$ | $V$ |\n",
    "| $F$ | $F$ | $F$ |"
   ]
  },
  {
   "cell_type": "markdown",
   "id": "8cbd37f9-05cb-459d-a323-11ab5b53128b",
   "metadata": {},
   "source": [
    "### Operadores lógicos en `Python`\n",
    "\n",
    "Para hacer la negación, utilizamos el operador `not`."
   ]
  },
  {
   "cell_type": "code",
   "execution_count": 2,
   "id": "430cd12d-652a-4c79-85ce-89f89ebeded6",
   "metadata": {
    "tags": []
   },
   "outputs": [
    {
     "data": {
      "text/plain": [
       "False"
      ]
     },
     "execution_count": 2,
     "metadata": {},
     "output_type": "execute_result"
    }
   ],
   "source": [
    "A = True\n",
    "not A"
   ]
  },
  {
   "cell_type": "code",
   "execution_count": 3,
   "id": "0ed01b08-43fc-47b8-8bb5-13d7be2b45e8",
   "metadata": {
    "tags": []
   },
   "outputs": [
    {
     "data": {
      "text/plain": [
       "True"
      ]
     },
     "execution_count": 3,
     "metadata": {},
     "output_type": "execute_result"
    }
   ],
   "source": [
    "B = False\n",
    "not B"
   ]
  },
  {
   "cell_type": "markdown",
   "id": "e1928ea6-7a27-48e3-b5f1-b24f34092f39",
   "metadata": {},
   "source": [
    "Para hacer la conjunción entre dos variables lógicas, utilizamos el operador `and`."
   ]
  },
  {
   "cell_type": "code",
   "execution_count": 5,
   "id": "8d1f5e91-f003-4cc0-9f49-5cdd4876e1e7",
   "metadata": {
    "tags": []
   },
   "outputs": [
    {
     "data": {
      "text/plain": [
       "True"
      ]
     },
     "execution_count": 5,
     "metadata": {},
     "output_type": "execute_result"
    }
   ],
   "source": [
    "A, B = True, True\n",
    "A and B"
   ]
  },
  {
   "cell_type": "code",
   "execution_count": 6,
   "id": "4f9c033b-144c-41cf-adaa-65a932474b11",
   "metadata": {
    "tags": []
   },
   "outputs": [
    {
     "data": {
      "text/plain": [
       "False"
      ]
     },
     "execution_count": 6,
     "metadata": {},
     "output_type": "execute_result"
    }
   ],
   "source": [
    "A and (not B)"
   ]
  },
  {
   "cell_type": "markdown",
   "id": "c316f31a-953c-46d6-9eb1-f04233f153af",
   "metadata": {},
   "source": [
    "Para hacer la disyunción entre dos variables lógicas, utilizamos el operador `or`."
   ]
  },
  {
   "cell_type": "code",
   "execution_count": 7,
   "id": "842f5926-3054-412f-9aaf-6e55dc8d8140",
   "metadata": {
    "tags": []
   },
   "outputs": [
    {
     "data": {
      "text/plain": [
       "False"
      ]
     },
     "execution_count": 7,
     "metadata": {},
     "output_type": "execute_result"
    }
   ],
   "source": [
    "A, B = False, False \n",
    "A or B"
   ]
  },
  {
   "cell_type": "code",
   "execution_count": 8,
   "id": "28385292-94e3-4934-bea1-1efaea938eb5",
   "metadata": {
    "tags": []
   },
   "outputs": [
    {
     "data": {
      "text/plain": [
       "True"
      ]
     },
     "execution_count": 8,
     "metadata": {},
     "output_type": "execute_result"
    }
   ],
   "source": [
    "A or (not B)"
   ]
  },
  {
   "cell_type": "markdown",
   "id": "c167d261-4050-4a77-87e0-42434902b3de",
   "metadata": {},
   "source": [
    "### Operadores de comparación\n",
    "\n",
    "En `Python` podemos comparar datos y obtener un resultado booleano. Los operadores de comparación disponibles son\n",
    "\n",
    "| Operador | Significado |\n",
    "| :---: | :--- |\n",
    "| $>$ | Estrictamente mayor |\n",
    "| $\\ge$ | Mayor o igual |\n",
    "| $<$ | Estrictamente menor |\n",
    "| $\\le$ | Menor o igual |\n",
    "| $==$ | Igual |\n",
    "| $!=$ | Diferente |"
   ]
  },
  {
   "cell_type": "code",
   "execution_count": 9,
   "id": "6f611231-4608-495f-a50e-91b7edbd2253",
   "metadata": {
    "tags": []
   },
   "outputs": [
    {
     "data": {
      "text/plain": [
       "True"
      ]
     },
     "execution_count": 9,
     "metadata": {},
     "output_type": "execute_result"
    }
   ],
   "source": [
    "7 == 7.0 "
   ]
  },
  {
   "cell_type": "code",
   "execution_count": 11,
   "id": "cd83b5b5-b8cf-441c-8002-05d3cde94c1b",
   "metadata": {
    "tags": []
   },
   "outputs": [
    {
     "data": {
      "text/plain": [
       "False"
      ]
     },
     "execution_count": 11,
     "metadata": {},
     "output_type": "execute_result"
    }
   ],
   "source": [
    "3.14 > 9"
   ]
  },
  {
   "cell_type": "code",
   "execution_count": 12,
   "id": "88b9fe85-e034-4ad8-a722-48c96e937b68",
   "metadata": {
    "tags": []
   },
   "outputs": [
    {
     "data": {
      "text/plain": [
       "True"
      ]
     },
     "execution_count": 12,
     "metadata": {},
     "output_type": "execute_result"
    }
   ],
   "source": [
    "7 != \"7\""
   ]
  },
  {
   "cell_type": "code",
   "execution_count": 13,
   "id": "db4023fd-3cfe-4a6e-b795-e45076e24802",
   "metadata": {
    "tags": []
   },
   "outputs": [
    {
     "data": {
      "text/plain": [
       "True"
      ]
     },
     "execution_count": 13,
     "metadata": {},
     "output_type": "execute_result"
    }
   ],
   "source": [
    "0.01 <= 1"
   ]
  },
  {
   "cell_type": "markdown",
   "id": "ab80dbd9-450a-44c9-8e26-93574d5b6104",
   "metadata": {},
   "source": [
    "#### Múltiples comparaciones simultáneas\n",
    "\n",
    "Podemos realizar múltiples comparaciones a la vez.\n",
    "\n",
    "Supongamos que tenemos que tener 16 años o más, pero como mucho 40 para poder concertar una entrevista y aspirar a ser miembros de la tripulación del pirata Pyratilla.\n",
    "\n",
    "Queremos saber si nos concederá una entrevista si tenemos 17 años."
   ]
  },
  {
   "cell_type": "code",
   "execution_count": 14,
   "id": "7ea4340c-58a3-46ed-99fa-74827d20d14b",
   "metadata": {
    "tags": []
   },
   "outputs": [
    {
     "data": {
      "text/plain": [
       "True"
      ]
     },
     "execution_count": 14,
     "metadata": {},
     "output_type": "execute_result"
    }
   ],
   "source": [
    "edad  = 17 \n",
    "(edad >= 16) and (edad <= 40)"
   ]
  },
  {
   "cell_type": "markdown",
   "id": "6101ff64-c4fb-4a13-944d-b7fd35ac56ec",
   "metadata": {},
   "source": [
    "#### Comparaciones de strings\n",
    "\n",
    "No solamente podemos comparar datos numéricos, sino que también podemos comparar strings en relación al orden alfabético."
   ]
  },
  {
   "cell_type": "code",
   "execution_count": 15,
   "id": "0b1e8c5f-858c-4966-b324-14942d72b1b8",
   "metadata": {
    "tags": []
   },
   "outputs": [
    {
     "data": {
      "text/plain": [
       "False"
      ]
     },
     "execution_count": 15,
     "metadata": {},
     "output_type": "execute_result"
    }
   ],
   "source": [
    "\"Mallorca\" < \"Dubai\""
   ]
  },
  {
   "cell_type": "code",
   "execution_count": 17,
   "id": "5f4d8b60-05c2-4c20-8af6-8853afdb3381",
   "metadata": {
    "tags": []
   },
   "outputs": [
    {
     "data": {
      "text/plain": [
       "True"
      ]
     },
     "execution_count": 17,
     "metadata": {},
     "output_type": "execute_result"
    }
   ],
   "source": [
    "\"Mallorca\" >= \"Madrid\""
   ]
  },
  {
   "cell_type": "markdown",
   "id": "e51c93c1-17cf-4e52-97ed-f3255f9f36a0",
   "metadata": {},
   "source": [
    "### Más métodos de string\n",
    "\n",
    "El método `.startswith()` nos devuelve verdadero si el string empieza con el caracter o la cadena de caracteres indicado."
   ]
  },
  {
   "cell_type": "code",
   "execution_count": 18,
   "id": "f32869d0-8167-42d0-be01-1bbb6411448a",
   "metadata": {
    "tags": []
   },
   "outputs": [
    {
     "data": {
      "text/plain": [
       "False"
      ]
     },
     "execution_count": 18,
     "metadata": {},
     "output_type": "execute_result"
    }
   ],
   "source": [
    "s = \"Mallorca es una isla preciosa\"\n",
    "s.startswith(\"m\")"
   ]
  },
  {
   "cell_type": "code",
   "execution_count": 19,
   "id": "44cf9030-ab4c-4155-a7ae-e4a72bdabb8c",
   "metadata": {
    "tags": []
   },
   "outputs": [
    {
     "data": {
      "text/plain": [
       "True"
      ]
     },
     "execution_count": 19,
     "metadata": {},
     "output_type": "execute_result"
    }
   ],
   "source": [
    "s.startswith(\"Mallorca\")"
   ]
  },
  {
   "cell_type": "code",
   "execution_count": 20,
   "id": "b198f27c-7728-4bfd-875f-49e6f1be17a5",
   "metadata": {
    "tags": []
   },
   "outputs": [
    {
     "data": {
      "text/plain": [
       "True"
      ]
     },
     "execution_count": 20,
     "metadata": {},
     "output_type": "execute_result"
    }
   ],
   "source": [
    "s = \"Mallorca es una isla preciosa\"\n",
    "s.endswith(\"a\")"
   ]
  },
  {
   "cell_type": "code",
   "execution_count": 21,
   "id": "922f356c-cdc4-4be4-9abc-6acab89f348e",
   "metadata": {
    "tags": []
   },
   "outputs": [
    {
     "data": {
      "text/plain": [
       "False"
      ]
     },
     "execution_count": 21,
     "metadata": {},
     "output_type": "execute_result"
    }
   ],
   "source": [
    "s.endswith(\"bonita\")"
   ]
  },
  {
   "cell_type": "markdown",
   "id": "2d7f6085-3b7c-4c15-b990-97c3bbc91d02",
   "metadata": {},
   "source": [
    "El método `.isalnum()` nos devuelve verdadero si todos los caracteres del string son alfanuméricos."
   ]
  },
  {
   "cell_type": "code",
   "execution_count": 22,
   "id": "73fd81cd-14cf-4b5e-ac37-5d2e39d0deba",
   "metadata": {
    "tags": []
   },
   "outputs": [
    {
     "data": {
      "text/plain": [
       "True"
      ]
     },
     "execution_count": 22,
     "metadata": {},
     "output_type": "execute_result"
    }
   ],
   "source": [
    "s = \"Python365\"\n",
    "s.isalnum()"
   ]
  },
  {
   "cell_type": "code",
   "execution_count": 23,
   "id": "c55c79da-ca81-4f41-afe4-590919987c5c",
   "metadata": {
    "tags": []
   },
   "outputs": [
    {
     "data": {
      "text/plain": [
       "False"
      ]
     },
     "execution_count": 23,
     "metadata": {},
     "output_type": "execute_result"
    }
   ],
   "source": [
    "s = \"Han creado un blog llamado Python365\"\n",
    "s.isalnum()"
   ]
  },
  {
   "cell_type": "markdown",
   "id": "9190aada-1e72-49d1-b767-7795175282b9",
   "metadata": {},
   "source": [
    "El método `.isalpha()` nos devuelve verdadero si todos los caracteres del string son del alfabeto."
   ]
  },
  {
   "cell_type": "code",
   "execution_count": 24,
   "id": "48badb06-34fa-4ccb-929a-709dcc5b113e",
   "metadata": {
    "tags": []
   },
   "outputs": [
    {
     "data": {
      "text/plain": [
       "True"
      ]
     },
     "execution_count": 24,
     "metadata": {},
     "output_type": "execute_result"
    }
   ],
   "source": [
    "s = \"Cachalote\"\n",
    "s.isalpha()"
   ]
  },
  {
   "cell_type": "code",
   "execution_count": 25,
   "id": "ad59876f-09a2-484e-914a-4175eba39c9a",
   "metadata": {
    "tags": []
   },
   "outputs": [
    {
     "data": {
      "text/plain": [
       "False"
      ]
     },
     "execution_count": 25,
     "metadata": {},
     "output_type": "execute_result"
    }
   ],
   "source": [
    "s = \"Mi perro se llama Guindilla\"\n",
    "s.isalpha()"
   ]
  },
  {
   "cell_type": "markdown",
   "id": "bbc899bd-cef7-451b-88bc-b6ff89fe166b",
   "metadata": {},
   "source": [
    "El método .isdigit() nos devuelve verdadero si todos los caracteres del string son dígitos."
   ]
  },
  {
   "cell_type": "code",
   "execution_count": 26,
   "id": "cfbe299f-882f-4ab3-ba6c-d67fe8a79743",
   "metadata": {
    "tags": []
   },
   "outputs": [
    {
     "data": {
      "text/plain": [
       "True"
      ]
     },
     "execution_count": 26,
     "metadata": {},
     "output_type": "execute_result"
    }
   ],
   "source": [
    "s = \"365\"\n",
    "s.isdigit()"
   ]
  },
  {
   "cell_type": "code",
   "execution_count": 27,
   "id": "8c570c25-b23c-406e-a59d-62480052300b",
   "metadata": {
    "tags": []
   },
   "outputs": [
    {
     "data": {
      "text/plain": [
       "False"
      ]
     },
     "execution_count": 27,
     "metadata": {},
     "output_type": "execute_result"
    }
   ],
   "source": [
    "s = \"Pyo365\"\n",
    "s.isdigit()"
   ]
  },
  {
   "cell_type": "markdown",
   "id": "eb21d1f8-2dd5-44d4-86b2-e0c7d8633e48",
   "metadata": {},
   "source": [
    "El método `.isspace()` nos devuelve verdadero si todos los caracteres del string son espacios en blanco."
   ]
  },
  {
   "cell_type": "code",
   "execution_count": 28,
   "id": "96d67a02-3da6-4320-a387-b1e5f611d7a0",
   "metadata": {
    "tags": []
   },
   "outputs": [
    {
     "data": {
      "text/plain": [
       "True"
      ]
     },
     "execution_count": 28,
     "metadata": {},
     "output_type": "execute_result"
    }
   ],
   "source": [
    "s = \"                  \"\n",
    "s.isspace()"
   ]
  },
  {
   "cell_type": "markdown",
   "id": "499435ac-b05b-48f0-9b4d-9a420587db1b",
   "metadata": {},
   "source": [
    "El método `.islower()` nos devuelve verdadero si todos los caracteres del string están en minúscula."
   ]
  },
  {
   "cell_type": "code",
   "execution_count": 29,
   "id": "2db5f111-0c94-4ccb-aee6-7e4a6021ee9d",
   "metadata": {
    "tags": []
   },
   "outputs": [
    {
     "data": {
      "text/plain": [
       "False"
      ]
     },
     "execution_count": 29,
     "metadata": {},
     "output_type": "execute_result"
    }
   ],
   "source": [
    "s = \"Mi gato se llama Bigotes\"\n",
    "s.islower()"
   ]
  },
  {
   "cell_type": "code",
   "execution_count": 30,
   "id": "78c72e76-a36b-4ffa-ab01-a125e525a0b8",
   "metadata": {
    "tags": []
   },
   "outputs": [
    {
     "data": {
      "text/plain": [
       "True"
      ]
     },
     "execution_count": 30,
     "metadata": {},
     "output_type": "execute_result"
    }
   ],
   "source": [
    "s = \"me gusta hacer puzzles\"\n",
    "s.islower()"
   ]
  },
  {
   "cell_type": "markdown",
   "id": "d6678a89-082d-4691-99d1-1f93f66a3149",
   "metadata": {},
   "source": [
    "El método `.isupper()` nos devuelve verdadero si todos los caracteres del string están en mayúscula."
   ]
  },
  {
   "cell_type": "code",
   "execution_count": 31,
   "id": "a35da198-3cdb-42ef-abdc-048af99fe579",
   "metadata": {
    "tags": []
   },
   "outputs": [
    {
     "data": {
      "text/plain": [
       "False"
      ]
     },
     "execution_count": 31,
     "metadata": {},
     "output_type": "execute_result"
    }
   ],
   "source": [
    "s = \"Mi gato se llama Bigotes\"\n",
    "s.isupper()"
   ]
  },
  {
   "cell_type": "code",
   "execution_count": 32,
   "id": "29c1479d-0b9f-40b2-b2a7-5292a82670d4",
   "metadata": {
    "tags": []
   },
   "outputs": [
    {
     "data": {
      "text/plain": [
       "True"
      ]
     },
     "execution_count": 32,
     "metadata": {},
     "output_type": "execute_result"
    }
   ],
   "source": [
    "s = \"ME GUSTA HACER PUZZLES\"\n",
    "s.isupper()"
   ]
  },
  {
   "cell_type": "markdown",
   "id": "946e4365-0525-426a-8e01-59da83f4895c",
   "metadata": {},
   "source": [
    "El método .istitle() nos devuelve verdadero si todas las palabras del string empiezan en mayúscula y el resto de las letras de la palabra están en minúscula."
   ]
  },
  {
   "cell_type": "code",
   "execution_count": 33,
   "id": "578247e3-a223-4339-8796-18df22d59d60",
   "metadata": {
    "tags": []
   },
   "outputs": [
    {
     "data": {
      "text/plain": [
       "True"
      ]
     },
     "execution_count": 33,
     "metadata": {},
     "output_type": "execute_result"
    }
   ],
   "source": [
    "s = \"Platero Y Yo\"\n",
    "s.istitle()"
   ]
  },
  {
   "cell_type": "code",
   "execution_count": 34,
   "id": "d13a9b5d-d6d1-4349-9af7-5531ac9e2f01",
   "metadata": {
    "tags": []
   },
   "outputs": [
    {
     "data": {
      "text/plain": [
       "False"
      ]
     },
     "execution_count": 34,
     "metadata": {},
     "output_type": "execute_result"
    }
   ],
   "source": [
    "s = \"PLATERO Y YO\"\n",
    "s.istitle()"
   ]
  },
  {
   "cell_type": "markdown",
   "id": "6e06f981-e6fc-41ba-b045-dbd410080b24",
   "metadata": {
    "tags": []
   },
   "source": [
    "## Operadores de decisión\n"
   ]
  },
  {
   "cell_type": "markdown",
   "id": "ff5d2051-4386-46a4-bccc-d373bfd079b3",
   "metadata": {},
   "source": [
    "### `if`\n",
    "\n",
    "Cuando queremos comprobar si se cumple alguna condición, utilizamos el operador de decisión `if`. La sintaxis que debemos seguir es la siguiente:"
   ]
  },
  {
   "cell_type": "raw",
   "id": "b55c7c93-ea64-4f4d-8c8a-09175eda3e23",
   "metadata": {},
   "source": [
    "if condicion:\n",
    "    consecuencia"
   ]
  },
  {
   "cell_type": "code",
   "execution_count": 39,
   "id": "67b2456c-8572-42d8-8f09-5e1c9f438229",
   "metadata": {
    "tags": []
   },
   "outputs": [
    {
     "name": "stdout",
     "output_type": "stream",
     "text": [
      "Eres mayor a de 18 \n"
     ]
    }
   ],
   "source": [
    "age = 18 \n",
    "if (age >= 18 and age <= 40):\n",
    "    print(\"Eres mayor a de 18 \")"
   ]
  },
  {
   "cell_type": "markdown",
   "id": "5d1ac248-1a64-4fb1-96a1-fd08bcc97258",
   "metadata": {},
   "source": [
    "--- \n",
    "# Ejercicio\n",
    "\n",
    "Dado un string, vamos a comprobar si contiene espacios en blanco y, en caso de ser cierto, contaremos cuántos tiene.\n",
    "\n",
    "PISTA: Investiga el operador `in`"
   ]
  },
  {
   "cell_type": "code",
   "execution_count": 40,
   "id": "5d24c309-29c0-489c-af7f-46cfb6cf8cef",
   "metadata": {
    "tags": []
   },
   "outputs": [
    {
     "name": "stdout",
     "output_type": "stream",
     "text": [
      "El string tiene 3 espacios en blanco\n"
     ]
    }
   ],
   "source": [
    "s = \"Mi nombre es yakin\"\n",
    "espacio = \" \"\n",
    "if espacio in s:\n",
    "    print(\"El string tiene {} espacios en blanco\".format(s.count(espacio)))"
   ]
  },
  {
   "cell_type": "markdown",
   "id": "41ffb316-a67b-4b95-bf13-e4f096c09d5e",
   "metadata": {},
   "source": [
    "---\n",
    "### `else`\n",
    "\n",
    "Ahora, nos podríamos preguntar qué le podríamos decir al usuario en el caso en que no satisfaga la condición. Ahí es donde entra en juego el operador de decisión `else`. Esta vez, la sintaxis a seguir es la siguiente:"
   ]
  },
  {
   "cell_type": "raw",
   "id": "3742db7d-599c-4b88-9095-8c26ae532a92",
   "metadata": {},
   "source": [
    "if condición:\n",
    "    consecuencia_si_es_verdad\n",
    "else:\n",
    "    consecuencia_si_es_falsa"
   ]
  },
  {
   "cell_type": "code",
   "execution_count": 41,
   "id": "64f71168-4249-45d1-838b-e1e6a6c30a32",
   "metadata": {
    "tags": []
   },
   "outputs": [
    {
     "name": "stdout",
     "output_type": "stream",
     "text": [
      "No eres mayor de edad\n"
     ]
    }
   ],
   "source": [
    "age = 15\n",
    "if (age >= 18 and age <= 40):\n",
    "    print(\"Eres mayor a de 18 \")\n",
    "else:\n",
    "    print(\"No eres mayor de edad\")"
   ]
  },
  {
   "cell_type": "markdown",
   "id": "59334198-0ddf-4fa6-b47f-675f1c7ffc98",
   "metadata": {},
   "source": [
    "---\n",
    "\n",
    "# Ejercicio\n",
    "\n",
    "Vamos a hacer un programa que resuelva ecuaciones de primer grado de la forma $Ax + B = 0$ proporcionadas por el usuario donde $A \\ne 0$."
   ]
  },
  {
   "cell_type": "code",
   "execution_count": 43,
   "id": "996fe04d-e82c-4e3a-8c18-09268a851a1d",
   "metadata": {
    "tags": []
   },
   "outputs": [
    {
     "name": "stdin",
     "output_type": "stream",
     "text": [
      "Coeficiente A =  2\n",
      "Coeficiente B =  2\n"
     ]
    },
    {
     "name": "stdout",
     "output_type": "stream",
     "text": [
      "La solucion es x =  -1.0\n"
     ]
    }
   ],
   "source": [
    "A = float(input(\"Coeficiente A = \"))\n",
    "B = float(input(\"Coeficiente B = \"))\n",
    "\n",
    "if A != 0:\n",
    "    sol = -B / A\n",
    "    print(\"La solucion es x = \", sol)\n",
    "else:\n",
    "    print(\"No hay ecuacion que resolver, por que A = 0\")\n",
    "    "
   ]
  },
  {
   "cell_type": "markdown",
   "id": "b341c7d6-fceb-4962-ae03-e28ae9d16ddd",
   "metadata": {},
   "source": [
    "### `elif`\n",
    "\n",
    "El operador `elif` funciona del siguiente modo: se empieza con un operador `if`; si la condición de este no se cumple, pasamos a la siguiente condición posible precedida de un `elif`; si esta tampoco se cumple, pasamos al siguiente `elif`; seguimos así hasta que o bien se satisface alguna condición y realizamos su consecuencia, o hasta llegar al `else`, que implica que no se ha satisfecho ninguna de las condiciones anteriores."
   ]
  },
  {
   "cell_type": "raw",
   "id": "9e7bf7f2-fbb7-4eba-9949-d2d0600dde98",
   "metadata": {},
   "source": [
    "if condición_1:\n",
    "  consecuencia\n",
    "elif condición_2:\n",
    "  consecuencia\n",
    "elif condición_3:\n",
    "  consecuencia\n",
    ". \n",
    ". \n",
    ". \n",
    "else:\n",
    "  consecuencia"
   ]
  },
  {
   "cell_type": "code",
   "execution_count": 45,
   "id": "d6582d70-8c10-4bd1-ace4-c2a402691296",
   "metadata": {
    "tags": []
   },
   "outputs": [
    {
     "name": "stdout",
     "output_type": "stream",
     "text": [
      "aun eres mayor de 18\n"
     ]
    }
   ],
   "source": [
    "age = 18\n",
    "if age > 40:\n",
    "    print(\"Ya eres muy viejo\")\n",
    "elif age >= 18:\n",
    "    print(\"aun eres mayor de 18\")\n",
    "else:\n",
    "    print(\"Eres aun muy pequeño :c\")"
   ]
  },
  {
   "cell_type": "markdown",
   "id": "5db29877-5676-4ee8-8bef-e65cbc6a3061",
   "metadata": {},
   "source": [
    "### Operador ternario\n",
    "\n",
    "Si queremos hacer un simple `if` / `else` en una sola línea de código, podemos utilizar el operador ternario, que tiene la siguiente estructura:"
   ]
  },
  {
   "cell_type": "raw",
   "id": "c00b85ac-965d-445c-a727-0fb289d08ff6",
   "metadata": {},
   "source": [
    "consecuencia_cierto if condición else consecuencia_falso"
   ]
  },
  {
   "cell_type": "code",
   "execution_count": 46,
   "id": "522a9e86-7105-4ed7-bca9-b78bbf6e2fa0",
   "metadata": {
    "tags": []
   },
   "outputs": [
    {
     "name": "stdout",
     "output_type": "stream",
     "text": [
      "Eres mayor de edad\n"
     ]
    }
   ],
   "source": [
    "age = 18 \n",
    "mayor = \"Eres mayor de edad\"\n",
    "menor = \"Eres menor de edad\"\n",
    "\n",
    "print(mayor) if age >=18 else print(menor)"
   ]
  },
  {
   "cell_type": "markdown",
   "id": "0d62d026-c52b-4185-b4da-1f1f00cfc196",
   "metadata": {},
   "source": [
    "--- \n",
    "# Ejercicio\n",
    "\n",
    "Vamos a comprobar si un número es par o impar haciendo uso del operador ternario."
   ]
  },
  {
   "cell_type": "code",
   "execution_count": 1,
   "id": "d2291048-2177-42de-a527-1faab32910b3",
   "metadata": {
    "tags": []
   },
   "outputs": [
    {
     "name": "stdout",
     "output_type": "stream",
     "text": [
      "El numero es par\n"
     ]
    }
   ],
   "source": [
    "n = 10 \n",
    "r = \"El numero es par\" if n % 2 == 0 else \"El numeor es impar\"\n",
    "print(r)"
   ]
  },
  {
   "cell_type": "markdown",
   "id": "21d6112b-7b80-46fa-89de-111c8a830deb",
   "metadata": {},
   "source": [
    "--- \n",
    "# Ejercicio\n",
    "\n",
    "Vamos a comprobar si un punto del plano euclidiano de la forma $(x, y)$ pertenece o no al cuadrado unidad.\n",
    "\n",
    "El cuadrado unidad es el que tiene por vértices los puntos $(0, 0)$, $(0, 1)$, $(1, 0)$ y $(1, 1)$"
   ]
  },
  {
   "attachments": {
    "a9eea1ea-7730-4974-9add-b2e3c7ce494c.png": {
     "image/png": "[encoded data removed]"
    }
   },
   "cell_type": "markdown",
   "id": "9346a666-3d73-4c7f-b552-eb4143fbb277",
   "metadata": {},
   "source": [
    "![image.png](attachment:a9eea1ea-7730-4974-9add-b2e3c7ce494c.png)"
   ]
  },
  {
   "cell_type": "code",
   "execution_count": 4,
   "id": "32196a8f-f041-414e-bff5-622df60563af",
   "metadata": {
    "tags": []
   },
   "outputs": [
    {
     "name": "stdin",
     "output_type": "stream",
     "text": [
      "x =  -2\n",
      "y =  0\n"
     ]
    },
    {
     "name": "stdout",
     "output_type": "stream",
     "text": [
      "El punto (-2.0,0.0) no pertenece al cuadro unidad\n"
     ]
    }
   ],
   "source": [
    "x = float(input(\"x = \"))\n",
    "y = float(input(\"y = \"))\n",
    "\n",
    "if x >= 0 and x <= 1 and y >= 0 and y <= 1:\n",
    "    print(\"El punto ({},{}) se encuentra en el cuadrado unidad\".format(x,y))\n",
    "else:\n",
    "    print(\"El punto ({},{}) no pertenece al cuadro unidad\".format(x,y))"
   ]
  },
  {
   "cell_type": "markdown",
   "id": "cfe10499-0c28-4f9c-acdf-9510ee0735e0",
   "metadata": {},
   "source": [
    "--- \n",
    "# Ejercicio\n",
    "\n",
    "Vamos a comprobar si un año es bisiesto o no.\n",
    "\n",
    "Un año es bisiesto si es divisible entre cuatro pero no es múltiplo de cien a no ser que lo sea de 400."
   ]
  },
  {
   "cell_type": "code",
   "execution_count": 2,
   "id": "05ad01a9-5442-4762-84cf-a6c7e104c522",
   "metadata": {
    "tags": []
   },
   "outputs": [
    {
     "name": "stdin",
     "output_type": "stream",
     "text": [
      "Año:  2019\n"
     ]
    },
    {
     "name": "stdout",
     "output_type": "stream",
     "text": [
      "El año 2019 no es bisiesto\n"
     ]
    }
   ],
   "source": [
    "y = int(input(\"Año: \"))\n",
    "if y % 4 == 0: \n",
    "    if y % 100 == 0:\n",
    "        if y % 400 == 0:\n",
    "            print(\"El año {} es bisiesto\".format(y))\n",
    "        else: print(\"El año {} no es bisiesto\".format(y))\n",
    "    else: print(\"El año {} es bisiesto\".format(y))\n",
    "else: print(\"El año {} no es bisiesto\".format(y))"
   ]
  },
  {
   "cell_type": "code",
   "execution_count": null,
   "id": "12cc47c8-5839-4af5-a41b-b5268bc64e0a",
   "metadata": {},
   "outputs": [],
   "source": []
  }
 ],
 "metadata": {
  "kernelspec": {
   "display_name": "Python 3 (ipykernel)",
   "language": "python",
   "name": "python3"
  },
  "language_info": {
   "codemirror_mode": {
    "name": "ipython",
    "version": 3
   },
   "file_extension": ".py",
   "mimetype": "text/x-python",
   "name": "python",
   "nbconvert_exporter": "python",
   "pygments_lexer": "ipython3",
   "version": "3.11.5"
  }
 },
 "nbformat": 4,
 "nbformat_minor": 5
}
