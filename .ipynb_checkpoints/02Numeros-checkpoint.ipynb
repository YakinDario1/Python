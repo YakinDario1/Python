{
 "cells": [
  {
   "cell_type": "markdown",
   "id": "645ec8e3-0f17-4633-bfcb-7cfe193d2a39",
   "metadata": {},
   "source": [
    "# Numeros "
   ]
  },
  {
   "cell_type": "markdown",
   "id": "dae9783b-05b6-4b57-ae12-3902a2a0ee1d",
   "metadata": {},
   "source": [
    "## Tipos de números\n",
    "\n",
    "- `int`: número entero\n",
    "- `float`: número en coma flotante"
   ]
  },
  {
   "cell_type": "markdown",
   "id": "877fd4e5-695a-4431-8f76-0955cc76dd88",
   "metadata": {},
   "source": [
    "Para saber el tipo de dato de un número podemos utilizar la función `type()`"
   ]
  },
  {
   "cell_type": "code",
   "execution_count": 1,
   "id": "aa069c3c-44b2-4d9a-93dd-31cbaf9572de",
   "metadata": {
    "tags": []
   },
   "outputs": [
    {
     "data": {
      "text/plain": [
       "int"
      ]
     },
     "execution_count": 1,
     "metadata": {},
     "output_type": "execute_result"
    }
   ],
   "source": [
    "type(5)"
   ]
  },
  {
   "cell_type": "code",
   "execution_count": 2,
   "id": "149e8bab-d4ea-4a25-9377-9946b0242a61",
   "metadata": {
    "tags": []
   },
   "outputs": [
    {
     "data": {
      "text/plain": [
       "float"
      ]
     },
     "execution_count": 2,
     "metadata": {},
     "output_type": "execute_result"
    }
   ],
   "source": [
    "type(5.0)"
   ]
  },
  {
   "cell_type": "markdown",
   "id": "683497b6-70cc-4df9-a34e-6b08a50b6dec",
   "metadata": {},
   "source": [
    "---\n",
    "### Trasformacion de tipo numerico \n",
    "\n",
    "Podemos indicar el tipo de número que deseamos utilizar con las funciones `int()` y `float()`."
   ]
  },
  {
   "cell_type": "code",
   "execution_count": 3,
   "id": "bd203157-38e9-423b-b722-572772d1d246",
   "metadata": {
    "tags": []
   },
   "outputs": [
    {
     "data": {
      "text/plain": [
       "int"
      ]
     },
     "execution_count": 3,
     "metadata": {},
     "output_type": "execute_result"
    }
   ],
   "source": [
    "type(int(5.2))"
   ]
  },
  {
   "cell_type": "code",
   "execution_count": 4,
   "id": "4a9dc43c-bf9d-4c6f-a9f3-e0968bf0fd78",
   "metadata": {
    "tags": []
   },
   "outputs": [
    {
     "data": {
      "text/plain": [
       "float"
      ]
     },
     "execution_count": 4,
     "metadata": {},
     "output_type": "execute_result"
    }
   ],
   "source": [
    "type(float(5))"
   ]
  },
  {
   "cell_type": "markdown",
   "id": "c6bc3b89-46fd-47d6-97ad-dc3e7a3d450e",
   "metadata": {},
   "source": [
    "--- \n",
    "\n",
    "### Operaciones aritmetico \n",
    "\n",
    "| Operación             | Ejemplo                  | Descripción                                          |\n",
    "|-----------------------|--------------------------|------------------------------------------------------|\n",
    "| Suma                  | `a + b`                  | Suma de dos números.                                 |\n",
    "| Resta                 | `a - b`                  | Resta de dos números.                                |\n",
    "| Multiplicación       | `a * b`                  | Multiplicación de dos números.                       |\n",
    "| División             | `a / b`                  | División de dos números.                             |\n",
    "| División Entera      | `a // b`                 | División entera de dos números.                      |\n",
    "| Resto de la División | `a % b`                  | Resto de la división de dos números.                |\n",
    "| Potenciación          | `a ** b`                 | Exponenciación de un número a una potencia.         |\n",
    "| Raíz Cuadrada        | `math.sqrt(a)`           | Calcula la raíz cuadrada de un número (requiere `import math`). |\n",
    "| Valor Absoluto       | `abs(a)`                 | Obtiene el valor absoluto de un número.             |\n",
    "| Redondeo             | `round(a, n)`            | Redondea un número a `n` decimales.                  |\n",
    "| Máximo               | `max(a, b)`              | Obtiene el valor máximo entre dos números.          |\n",
    "| Mínimo               | `min(a, b)`              | Obtiene el valor mínimo entre dos números.          |\n"
   ]
  },
  {
   "cell_type": "code",
   "execution_count": 5,
   "id": "6c41de3c-5374-4ec3-bb2b-492bc46cd12e",
   "metadata": {
    "tags": []
   },
   "outputs": [
    {
     "name": "stdout",
     "output_type": "stream",
     "text": [
      "3\n",
      "3.0\n",
      "3.0\n"
     ]
    }
   ],
   "source": [
    "print(2+1)\n",
    "print(2+1.) # la suma de un entero y punto decimala, da como resultado punto decimal\n",
    "print(2.0+1.0)"
   ]
  },
  {
   "cell_type": "code",
   "execution_count": 6,
   "id": "2a4125b9-1a08-484f-87a4-19f90ddf9085",
   "metadata": {
    "tags": []
   },
   "outputs": [
    {
     "name": "stdout",
     "output_type": "stream",
     "text": [
      "4\n",
      "4.0\n",
      "4.0\n"
     ]
    }
   ],
   "source": [
    "# Multiplicacion \n",
    "\n",
    "print(2*2)\n",
    "print(2.0*2) # da como resultado como decimal\n",
    "print(2.0*2.0)\n"
   ]
  },
  {
   "cell_type": "code",
   "execution_count": 7,
   "id": "22d16cbc-49da-4d13-a8bf-6ec5c0d2edf9",
   "metadata": {
    "tags": []
   },
   "outputs": [
    {
     "name": "stdout",
     "output_type": "stream",
     "text": [
      "1.2\n",
      "1.2\n",
      "1.2\n"
     ]
    }
   ],
   "source": [
    "# Divicion \n",
    "\n",
    "print(6/5)\n",
    "print(6./5.0)\n",
    "print(6/5.0)"
   ]
  },
  {
   "cell_type": "markdown",
   "id": "548998f5-db14-4b58-8db4-4e497cce5723",
   "metadata": {},
   "source": [
    "Para obtener el cociente de la división entera, utilizamos la función `//`"
   ]
  },
  {
   "cell_type": "code",
   "execution_count": 8,
   "id": "8d3e87db-8ed9-42f4-b6c1-e02082dd38f4",
   "metadata": {
    "tags": []
   },
   "outputs": [
    {
     "data": {
      "text/plain": [
       "3"
      ]
     },
     "execution_count": 8,
     "metadata": {},
     "output_type": "execute_result"
    }
   ],
   "source": [
    "10//3"
   ]
  },
  {
   "cell_type": "markdown",
   "id": "89052094-3777-43ee-8d3e-c58097ae5518",
   "metadata": {
    "tags": []
   },
   "source": [
    "Para obtener el resto de la división entera, utilizamos la función `%`"
   ]
  },
  {
   "cell_type": "code",
   "execution_count": 9,
   "id": "dcb80ae9-20da-4daa-b886-cea39663cb86",
   "metadata": {
    "tags": []
   },
   "outputs": [
    {
     "data": {
      "text/plain": [
       "1"
      ]
     },
     "execution_count": 9,
     "metadata": {},
     "output_type": "execute_result"
    }
   ],
   "source": [
    "10%3"
   ]
  },
  {
   "cell_type": "markdown",
   "id": "f80aa25c-4ed0-4533-87ef-06ad45a751ab",
   "metadata": {},
   "source": [
    "para calcular una funcion "
   ]
  },
  {
   "cell_type": "code",
   "execution_count": 10,
   "id": "fbb57ffc-4704-4a5c-92cf-380b72eddd30",
   "metadata": {
    "tags": []
   },
   "outputs": [
    {
     "data": {
      "text/plain": [
       "8"
      ]
     },
     "execution_count": 10,
     "metadata": {},
     "output_type": "execute_result"
    }
   ],
   "source": [
    "2 ** 3"
   ]
  },
  {
   "cell_type": "code",
   "execution_count": 11,
   "id": "0d2b4bff-5f5d-4bd7-be62-7f72beb421af",
   "metadata": {
    "tags": []
   },
   "outputs": [
    {
     "data": {
      "text/plain": [
       "8.0"
      ]
     },
     "execution_count": 11,
     "metadata": {},
     "output_type": "execute_result"
    }
   ],
   "source": [
    "2.0 ** 3"
   ]
  },
  {
   "cell_type": "code",
   "execution_count": 12,
   "id": "72c716a3-0d96-4b4c-8741-4760459b78d2",
   "metadata": {
    "tags": []
   },
   "outputs": [
    {
     "data": {
      "text/plain": [
       "32"
      ]
     },
     "execution_count": 12,
     "metadata": {},
     "output_type": "execute_result"
    }
   ],
   "source": [
    "pow(2,5) # Funcion para calcular la pontecia "
   ]
  },
  {
   "cell_type": "markdown",
   "id": "abe19a63-15ad-449b-b618-dbcc51446064",
   "metadata": {},
   "source": [
    "--- \n",
    "## Orden de las operaciones aritméticas\n",
    "\n",
    "El orden en que se llevan a cabo las operaciones aritméticas en `Python` es el siguiente:\n",
    "\n",
    "- Primero se calcula lo que se halla entre paréntesis.\n",
    "- A continuación, las potencias.\n",
    "- Después, productos y divisiones. En caso de haber varias, el orden que se sigue es de izquierda a derecha.\n",
    "- Finalmente, sumas y restas. En caso de haber varias, el orden que se sigue es de izquierda a derecha."
   ]
  },
  {
   "cell_type": "code",
   "execution_count": 13,
   "id": "17d9ee0a-4251-4468-8af9-d4ea8e1d73d0",
   "metadata": {
    "tags": []
   },
   "outputs": [
    {
     "data": {
      "text/plain": [
       "2.0"
      ]
     },
     "execution_count": 13,
     "metadata": {},
     "output_type": "execute_result"
    }
   ],
   "source": [
    "6 + 2 * 8 / 4 - 2 ** 3"
   ]
  },
  {
   "cell_type": "code",
   "execution_count": 14,
   "id": "eefd6a2f-ab85-4022-902a-6946ea65f99d",
   "metadata": {
    "tags": []
   },
   "outputs": [
    {
     "data": {
      "text/plain": [
       "512.0"
      ]
     },
     "execution_count": 14,
     "metadata": {},
     "output_type": "execute_result"
    }
   ],
   "source": [
    "(6 + 2) * (8 / (4 - 2)) ** 3"
   ]
  },
  {
   "cell_type": "code",
   "execution_count": 15,
   "id": "f795489d-6422-41e3-bb08-d23ce2247333",
   "metadata": {
    "tags": []
   },
   "outputs": [
    {
     "data": {
      "text/plain": [
       "8.0"
      ]
     },
     "execution_count": 15,
     "metadata": {},
     "output_type": "execute_result"
    }
   ],
   "source": [
    "(6 + 2) * 8 / (4 - 2) ** 3"
   ]
  },
  {
   "cell_type": "markdown",
   "id": "15a8987a-8114-428a-a5a9-e50c021a8f9c",
   "metadata": {},
   "source": [
    "--- \n",
    " # Numero complejo \n",
    " \n",
    " \n",
    "- **Número complejo.** Es un par ordenado de números reales $z = (a, b)$, con $a,b\\in\\mathbb{R}$.\n",
    "- **Parte real.** Es el primer elemento del par ordenado, $\\text{Re}(z) = a$.\n",
    "- **Parte imaginaria.** Es el segundo elemento del par ordenado, $\\text{Im}(z) = b$.\n",
    "- **Complejo real.** $z = (a, 0)$.\n",
    "- **Imaginario puro.** $z = (0, b)$.\n",
    "- **Unidad imaginaria.** $i = (0, 1)$.\n",
    "- **Conjunto de números complejos.** $\\mathbb{C} = \\{z = (a,b)\\ :\\ a,b\\in\\mathbb{R}\\}$.\n",
    "\n",
    "### Operaciones\n",
    "\n",
    "- Suma: $(a, b) + (c, d) = (a + c, b + d)$\n",
    "- Resta: $(a, b) - (c, d) = (a - c, b - d)$\n",
    "- Producto: $(a, b) \\cdot (c, d) = (a \\cdot c - b \\cdot d, a\\cdot d + b\\cdot c)$\n",
    "- División: $(a, b) \\div (c, d) = \\frac{(a \\cdot c + b \\cdot d, b \\cdot c - a \\cdot d)}{c^2 + d^2} = \\left(\\frac{a \\cdot c + b \\cdot d}{c^2 + d^2},\\frac{b \\cdot c - a \\cdot d}{c^2 + d^2}\\right)$\n"
   ]
  },
  {
   "cell_type": "markdown",
   "id": "c001929c-7c6e-4f2f-86a6-9706e117d33b",
   "metadata": {},
   "source": [
    "### Conjugado, Módulo y Argumento\n",
    "\n",
    "Dado un complejo $z = (a,b)$,\n",
    "\n",
    "- **Conjugado.** $\\bar{z} = (a, -b)$.\n",
    "- **Módulo.** $\\text{Mod}(z) = |z| = \\sqrt{\\text{Re}(z)^2 + \\text{Im}(z)^2} = \\sqrt{a^2 + b^2}$.\n",
    "- **Argumento.** $\\text{Arg}(z) = \\arctan\\left(\\frac{\\text{Im}(z)}{\\text{Re}(z)}\\right) = \\arctan\\left(\\frac{b}{a}\\right)$\n",
    "\n"
   ]
  },
  {
   "cell_type": "markdown",
   "id": "44792185-c3cf-4935-9e12-5b1dce0698d1",
   "metadata": {},
   "source": [
    "### Unidad imaginaria\n",
    "\n",
    "$i = (0, 1)$ satisface\n",
    "\n",
    "$$i^2 = (0, 1)^2 = (0, 1)\\cdot (0, 1) = (-1, 0)$$\n",
    "\n",
    "De aquí obtenemos la igualdad $i = \\sqrt{-1}$, que es otra de las definiciones que se le da a la unidad imaginaria."
   ]
  },
  {
   "cell_type": "markdown",
   "id": "6b693d10-1a40-431b-b992-2543cee43eec",
   "metadata": {},
   "source": [
    "### Otras representaciones\n",
    "\n",
    "*   Elemento de la lista\n",
    "*   Elemento de la lista\n",
    "\n",
    "\n",
    "\n",
    "Representación binómica: $z = a + bi$\n",
    "\n",
    "- $a = \\text{Re}(z)$\n",
    "- $b = \\text{Im}(z)$\n",
    "\n",
    "Representación polar: $z = re^{i\\phi}$\n",
    "\n",
    "- $r = \\text{Mod}(z)$\n",
    "- $\\phi = \\text{Arg}(z)$"
   ]
  },
  {
   "cell_type": "markdown",
   "id": "49a9ed71-8adc-4777-bea9-c64f47b8b4b4",
   "metadata": {},
   "source": [
    "---\n",
    "### Numero complejo \n",
    "\n",
    "En `Python`, los números complejos se definen en forma binómica y en vez de utilizar una `i`, se utiliza la letra `j` para representar la unidad imaginaria."
   ]
  },
  {
   "cell_type": "code",
   "execution_count": 16,
   "id": "3cea6cd1-3a0b-405d-90e5-3adc31f6ebfc",
   "metadata": {
    "tags": []
   },
   "outputs": [
    {
     "data": {
      "text/plain": [
       "complex"
      ]
     },
     "execution_count": 16,
     "metadata": {},
     "output_type": "execute_result"
    }
   ],
   "source": [
    "z = 2 + 5j\n",
    "z\n",
    "type(z)"
   ]
  },
  {
   "cell_type": "code",
   "execution_count": 17,
   "id": "109a5606-a648-47ec-80ec-48c1282b5fd1",
   "metadata": {
    "tags": []
   },
   "outputs": [
    {
     "name": "stdout",
     "output_type": "stream",
     "text": [
      "(1-7j)\n"
     ]
    },
    {
     "data": {
      "text/plain": [
       "complex"
      ]
     },
     "execution_count": 17,
     "metadata": {},
     "output_type": "execute_result"
    }
   ],
   "source": [
    "z = complex(1,-7)\n",
    "print(z)\n",
    "type(z)"
   ]
  },
  {
   "cell_type": "markdown",
   "id": "c14dc529-02b9-47d6-a927-f9fb528b1b2b",
   "metadata": {},
   "source": [
    "Para obtener la parte real, utilizamos el método `.real`\n"
   ]
  },
  {
   "cell_type": "code",
   "execution_count": 18,
   "id": "13a3ed8b-b23c-4c03-be01-675f31911e50",
   "metadata": {
    "tags": []
   },
   "outputs": [
    {
     "data": {
      "text/plain": [
       "1.0"
      ]
     },
     "execution_count": 18,
     "metadata": {},
     "output_type": "execute_result"
    }
   ],
   "source": [
    "z.real"
   ]
  },
  {
   "cell_type": "markdown",
   "id": "ca3bc50f-e57a-46d2-ab16-8eb7d5beee34",
   "metadata": {
    "tags": []
   },
   "source": [
    "Para obtener la parte imaginaria, utilizamos el método `.imag`\n"
   ]
  },
  {
   "cell_type": "code",
   "execution_count": 19,
   "id": "ee94133e-04ec-432f-854a-a1ea456f7b4d",
   "metadata": {
    "tags": []
   },
   "outputs": [
    {
     "data": {
      "text/plain": [
       "-7.0"
      ]
     },
     "execution_count": 19,
     "metadata": {},
     "output_type": "execute_result"
    }
   ],
   "source": [
    "z.imag"
   ]
  },
  {
   "cell_type": "markdown",
   "id": "59515cdd-7be5-48c9-b85d-e1b8853cd516",
   "metadata": {},
   "source": [
    "Para sumar números complejos, utilizamos la función `+`"
   ]
  },
  {
   "cell_type": "code",
   "execution_count": 20,
   "id": "5857f6c5-ffc5-4ec0-9fb1-6083a2ad74b6",
   "metadata": {
    "tags": []
   },
   "outputs": [
    {
     "data": {
      "text/plain": [
       "(7-2j)"
      ]
     },
     "execution_count": 20,
     "metadata": {},
     "output_type": "execute_result"
    }
   ],
   "source": [
    "z1 = 2-6j\n",
    "z2 = 5+4j\n",
    "\n",
    "z1 + z2"
   ]
  },
  {
   "cell_type": "markdown",
   "id": "19477a36-9de5-459d-9d88-4460959913cc",
   "metadata": {
    "tags": []
   },
   "source": [
    "Para restar números complejos, utilizamos la función `-`"
   ]
  },
  {
   "cell_type": "code",
   "execution_count": 21,
   "id": "cb8860fc-f939-4dea-aefb-607165013250",
   "metadata": {
    "tags": []
   },
   "outputs": [
    {
     "data": {
      "text/plain": [
       "(-3-10j)"
      ]
     },
     "execution_count": 21,
     "metadata": {},
     "output_type": "execute_result"
    }
   ],
   "source": [
    "z1 - z2"
   ]
  },
  {
   "cell_type": "markdown",
   "id": "aa29cd22-1e0d-4eb3-b696-8683f31f6f06",
   "metadata": {},
   "source": [
    "Para multiplicar una constante por un número complejo, o bien multiplicar dos números complejos, utilizamos la función `*`"
   ]
  },
  {
   "cell_type": "code",
   "execution_count": 22,
   "id": "3c560e15-fdd4-40d8-ad09-7c726b8c48a0",
   "metadata": {
    "tags": []
   },
   "outputs": [
    {
     "data": {
      "text/plain": [
       "(-2+6j)"
      ]
     },
     "execution_count": 22,
     "metadata": {},
     "output_type": "execute_result"
    }
   ],
   "source": [
    "-1 * z1"
   ]
  },
  {
   "cell_type": "code",
   "execution_count": 23,
   "id": "cd3d443b-f6b3-4205-a784-fc67b3af20e8",
   "metadata": {
    "tags": []
   },
   "outputs": [
    {
     "data": {
      "text/plain": [
       "(34-22j)"
      ]
     },
     "execution_count": 23,
     "metadata": {},
     "output_type": "execute_result"
    }
   ],
   "source": [
    "z1 * z2"
   ]
  },
  {
   "cell_type": "markdown",
   "id": "5313fe60-006e-459d-a620-b25095ada526",
   "metadata": {},
   "source": [
    "Para dividir números complejos, utilizamos la función `/`"
   ]
  },
  {
   "cell_type": "code",
   "execution_count": 24,
   "id": "d0f7b096-2966-48fc-bfc2-88912bbc0414",
   "metadata": {
    "tags": []
   },
   "outputs": [
    {
     "data": {
      "text/plain": [
       "-1j"
      ]
     },
     "execution_count": 24,
     "metadata": {},
     "output_type": "execute_result"
    }
   ],
   "source": [
    "z1 = -1 - 1j\n",
    "z2 = 1 - 1j\n",
    "\n",
    "z1 / z2"
   ]
  },
  {
   "cell_type": "markdown",
   "id": "88fafd14-bba2-4ec4-aaef-ce8b64cabc28",
   "metadata": {},
   "source": [
    "Para calcular el conjugado de un número complejo, utilizamos el método `.conjugate()`"
   ]
  },
  {
   "cell_type": "code",
   "execution_count": 25,
   "id": "310b26fa-76d1-4322-9fac-0ff742e9afb4",
   "metadata": {
    "tags": []
   },
   "outputs": [
    {
     "data": {
      "text/plain": [
       "(-2-1j)"
      ]
     },
     "execution_count": 25,
     "metadata": {},
     "output_type": "execute_result"
    }
   ],
   "source": [
    "z = -2 + 1j\n",
    "z.conjugate()"
   ]
  },
  {
   "cell_type": "markdown",
   "id": "e8e94b86-2952-4a51-be31-113802fd08a5",
   "metadata": {},
   "source": [
    "Para calcular el módulo de un número complejo, utilizamos la función `abs()`\n"
   ]
  },
  {
   "cell_type": "code",
   "execution_count": 26,
   "id": "4f7cddbf-317c-4fb9-a1f8-417278495bae",
   "metadata": {
    "tags": []
   },
   "outputs": [
    {
     "data": {
      "text/plain": [
       "2.0"
      ]
     },
     "execution_count": 26,
     "metadata": {},
     "output_type": "execute_result"
    }
   ],
   "source": [
    "z = -2j\n",
    "abs(z)"
   ]
  },
  {
   "cell_type": "markdown",
   "id": "7be59b98-ed24-44a5-a11d-ef844fcf6c98",
   "metadata": {},
   "source": [
    "Para calcular el argumento de un número complejo, utilizamos la función `phase()` del paquete `cmath`."
   ]
  },
  {
   "cell_type": "code",
   "execution_count": 27,
   "id": "026d19fd-59cc-4da9-8c44-3bc6e26713b6",
   "metadata": {
    "tags": []
   },
   "outputs": [
    {
     "data": {
      "text/plain": [
       "-1.5707963267948966"
      ]
     },
     "execution_count": 27,
     "metadata": {},
     "output_type": "execute_result"
    }
   ],
   "source": [
    "import cmath\n",
    "cmath.phase(z)"
   ]
  },
  {
   "cell_type": "markdown",
   "id": "f2290f36-9b95-4832-bdce-d3a76d9b2808",
   "metadata": {},
   "source": [
    "Para pasar de forma binómica a forma polar, usamos la función `polar()` \n"
   ]
  },
  {
   "cell_type": "code",
   "execution_count": 28,
   "id": "390e934c-499c-48c2-b359-14c8b860f053",
   "metadata": {
    "tags": []
   },
   "outputs": [
    {
     "data": {
      "text/plain": [
       "(-0-2j)"
      ]
     },
     "execution_count": 28,
     "metadata": {},
     "output_type": "execute_result"
    }
   ],
   "source": [
    "z"
   ]
  },
  {
   "cell_type": "code",
   "execution_count": 29,
   "id": "80ae3abe-f25a-444e-9a90-fdd943f01946",
   "metadata": {
    "tags": []
   },
   "outputs": [
    {
     "data": {
      "text/plain": [
       "(2.0, -1.5707963267948966)"
      ]
     },
     "execution_count": 29,
     "metadata": {},
     "output_type": "execute_result"
    }
   ],
   "source": [
    "cmath.polar(z)"
   ]
  },
  {
   "cell_type": "markdown",
   "id": "ec8dd70a-1b6f-4b96-aaa7-1f3b22b06b96",
   "metadata": {},
   "source": [
    "Para pasar de forma polar a forma binómica, usamos la función `rect()` del paquete `cmath`."
   ]
  },
  {
   "cell_type": "code",
   "execution_count": 30,
   "id": "0d84a968-4111-4669-83d9-3a82f14f4294",
   "metadata": {
    "tags": []
   },
   "outputs": [
    {
     "data": {
      "text/plain": [
       "(1.2246467991473532e-16-2j)"
      ]
     },
     "execution_count": 30,
     "metadata": {},
     "output_type": "execute_result"
    }
   ],
   "source": [
    "cmath.rect(abs(z), cmath.phase(z))"
   ]
  },
  {
   "cell_type": "code",
   "execution_count": null,
   "id": "61839480-7f79-43c7-b901-1010d4a6d81f",
   "metadata": {},
   "outputs": [],
   "source": []
  }
 ],
 "metadata": {
  "kernelspec": {
   "display_name": "Python 3 (ipykernel)",
   "language": "python",
   "name": "python3"
  },
  "language_info": {
   "codemirror_mode": {
    "name": "ipython",
    "version": 3
   },
   "file_extension": ".py",
   "mimetype": "text/x-python",
   "name": "python",
   "nbconvert_exporter": "python",
   "pygments_lexer": "ipython3",
   "version": "3.11.5"
  }
 },
 "nbformat": 4,
 "nbformat_minor": 5
}
