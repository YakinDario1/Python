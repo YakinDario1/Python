{
 "cells": [
  {
   "cell_type": "markdown",
   "id": "56c975de-abcf-47ff-8379-c4cab26494a2",
   "metadata": {},
   "source": [
    "## El bucle `while`\n",
    "\n",
    "La idea del bucle `while` es: mientras la condición sea cierta, seguimos realizando las líneas del interior del bucle. Una vez la condición deja de ser verdadera, salimos del bucle."
   ]
  },
  {
   "cell_type": "raw",
   "id": "6ed8baf8-fcea-4987-b376-8e80879b475c",
   "metadata": {},
   "source": [
    "inicialización de la variable de la condición\n",
    "while condición verdadera:\n",
    "  instrucción 1\n",
    "  instrucción 2\n",
    "  .\n",
    "  .\n",
    "  .\n",
    "  instrucción n"
   ]
  },
  {
   "cell_type": "code",
   "execution_count": 1,
   "id": "1bb9c30e-fc50-42c2-b0a1-63c44605ab29",
   "metadata": {
    "tags": []
   },
   "outputs": [
    {
     "name": "stdout",
     "output_type": "stream",
     "text": [
      "1\n",
      "2\n",
      "3\n",
      "4\n",
      "5\n",
      "6\n",
      "7\n",
      "8\n",
      "9\n",
      "10\n"
     ]
    }
   ],
   "source": [
    "i = 1\n",
    "while i <= 10:\n",
    "    print(i)\n",
    "    i += 1 "
   ]
  },
  {
   "cell_type": "markdown",
   "id": "f6f54a06-959a-4fae-9c3a-16ca7a7f201b",
   "metadata": {},
   "source": [
    "--- \n",
    "# Ejercicio\n",
    "\n",
    "Con un bucle `while`, dado un string vamos a recorrer una frase y contar el número total de vocales.\n"
   ]
  },
  {
   "cell_type": "code",
   "execution_count": 2,
   "id": "5381de7a-a557-4a21-b153-b57be368211a",
   "metadata": {
    "tags": []
   },
   "outputs": [
    {
     "name": "stdout",
     "output_type": "stream",
     "text": [
      "En total hay 7 vocales\n"
     ]
    }
   ],
   "source": [
    "s = \"La vaca hace muu\"\n",
    "\n",
    "i = 0\n",
    "count = 0 \n",
    "while i < len(s):\n",
    "    if s[i] == \"a\" or s[i] == \"e\" or s[i] == \"i\" or s[i] == \"o\" or s[i] == \"u\":\n",
    "        count +=1\n",
    "    i += 1\n",
    "    \n",
    "print(\"En total hay\", count, \"vocales\")"
   ]
  },
  {
   "cell_type": "markdown",
   "id": "8741762d-1556-4dec-b41b-886404bdea3a",
   "metadata": {},
   "source": [
    "---\n",
    "\n",
    "### Comando `break`\n",
    "\n",
    "`break` es muy útil si dada una condición queremos que se salga inmediatamente de un bucle `while`. Veámoslo con un ejemplo:"
   ]
  },
  {
   "cell_type": "markdown",
   "id": "01784f58-6c5a-4157-999d-48ee0b9237cf",
   "metadata": {},
   "source": [
    "#### Ejemplo 1\n",
    "\n",
    "La sucesión de Fibonacci es una sucesión infinita que se caracteriza porque cada término es la suma de los dos anteriores. Algunos de sus términos son 1, 1, 2, 3, 5, 8, 13.."
   ]
  },
  {
   "cell_type": "code",
   "execution_count": 6,
   "id": "7f18c9ce-a7e4-4c73-baca-74f7a877dc21",
   "metadata": {
    "tags": []
   },
   "outputs": [
    {
     "name": "stdout",
     "output_type": "stream",
     "text": [
      "El termino 1 ocupa la posicion 1\n",
      "El termino 1 ocupa la posicion 2\n",
      "El termino 2 ocupa la posicion 3\n",
      "El termino 3 ocupa la posicion 4\n",
      "El termino 5 ocupa la posicion 5\n",
      "El termino 8 ocupa la posicion 6\n",
      "El termino 13 ocupa la posicion 7\n",
      "El termino 21 ocupa la posicion 8\n",
      "El termino 34 ocupa la posicion 9\n",
      "El termino 55 ocupa la posicion 10\n",
      "El termino 89 ocupa la posicion 11\n",
      "El termino 144 ocupa la posicion 12\n",
      "El termino 233 ocupa la posicion 13\n",
      "El termino 377 ocupa la posicion 14\n",
      "El termino 610 ocupa la posicion 15\n",
      "El termino 987 ocupa la posicion 16\n",
      "El termino 1597 ocupa la posicion 17\n",
      "El termino 2584 ocupa la posicion 18\n",
      "El termino 4181 ocupa la posicion 19\n",
      "El termino 6765 ocupa la posicion 20\n"
     ]
    }
   ],
   "source": [
    "fibo_ant = 1 \n",
    "fibo = 1\n",
    "idx = 3 \n",
    "\n",
    "print(\"El termino {} ocupa la posicion {}\".format(fibo_ant, 1))\n",
    "print(\"El termino {} ocupa la posicion {}\".format(fibo,2))\n",
    "while fibo <= 5000:\n",
    "    tempo = fibo\n",
    "    fibo = fibo + fibo_ant\n",
    "    fibo_ant = tempo \n",
    "    \n",
    "    print(\"El termino {} ocupa la posicion {}\".format(fibo, idx))\n",
    "    \n",
    "    if idx == 20:\n",
    "        break\n",
    "    \n",
    "    idx += 1"
   ]
  },
  {
   "cell_type": "markdown",
   "id": "8e4657dd-d84b-4a5f-a815-cb2d4a2330ef",
   "metadata": {},
   "source": [
    "---\n",
    "# Ejercicio\n",
    "\n",
    "Con un bucle `while`, dados dos números enteros proporcionados por el usuario, vamos a encontrar el primer número divisible entre 2, 3 y 5, siempre que sea posible, que se encuentre dentro del intervalo formado por los dos números dados por el usuario (ambos extremos también incluidos)."
   ]
  },
  {
   "cell_type": "code",
   "execution_count": 9,
   "id": "b88600c0-0909-465d-9917-357b1b6674a7",
   "metadata": {
    "tags": []
   },
   "outputs": [
    {
     "name": "stdin",
     "output_type": "stream",
     "text": [
      "Introduce el extremo izquierdo del intervalo:  10\n",
      "Introduce el extremo derecho del intervalo:  33\n"
     ]
    },
    {
     "name": "stdout",
     "output_type": "stream",
     "text": [
      "30\n"
     ]
    }
   ],
   "source": [
    "a = int(input(\"Introduce el extremo izquierdo del intervalo: \"))\n",
    "b = int(input(\"Introduce el extremo derecho del intervalo: \"))\n",
    "\n",
    "n = a\n",
    "while n <= b:\n",
    "    if n % 2 == 0 and n % 3 == 0 and n % 5 == 0:\n",
    "        print(n)\n",
    "        break\n",
    "    \n",
    "    n+= 1\n",
    "    \n",
    "if n == b + 1:\n",
    "    print(\"dentro del intervalo que has propocionado,  no hay numeros divisible entre 2,3 y 5\")"
   ]
  },
  {
   "cell_type": "markdown",
   "id": "f47724ed-5625-4462-8466-d81e63c7a8a3",
   "metadata": {},
   "source": [
    "---\n",
    "### Combinación `while ... else`\n",
    "\n",
    "Podemos combinar un bucle `while` con el operador `else` para ejecutar un bloque de código una vez la condición del `while` haya dejado de ser verdadera."
   ]
  },
  {
   "cell_type": "code",
   "execution_count": 10,
   "id": "2643de94-4e23-444b-b605-14861f1e0946",
   "metadata": {
    "tags": []
   },
   "outputs": [
    {
     "name": "stdout",
     "output_type": "stream",
     "text": [
      "Prepadados para despegue. empiza la cuenta atras. \n",
      "10\n",
      "9\n",
      "8\n",
      "7\n",
      "6\n",
      "5\n",
      "4\n",
      "3\n",
      "2\n",
      "1\n",
      "0\n",
      "La cuenta atras ha finalizado. \n"
     ]
    }
   ],
   "source": [
    "# numero de retroceso \n",
    "i = 10 \n",
    "print(\"Prepadados para despegue. empiza la cuenta atras. \")\n",
    "while i >= 0:\n",
    "    print(i)\n",
    "    i -= 1 \n",
    "else: \n",
    "    print(\"La cuenta atras ha finalizado. \")"
   ]
  },
  {
   "cell_type": "markdown",
   "id": "347cc7e5-c5af-4a16-9af5-4e9af19b0b2a",
   "metadata": {},
   "source": [
    "---\n",
    "# Ejercicio\n",
    "\n",
    "Vamos a hacer que el usuario introduzca números por teclado e ir sumándolos. Cuando el usuario introduzca 0 saldremos del bucle `while`. Al salir del bucle, con un `else` mostraremos la suma."
   ]
  },
  {
   "cell_type": "code",
   "execution_count": 11,
   "id": "0582f919-db3d-4f98-b1ff-f880cdb77e54",
   "metadata": {
    "tags": []
   },
   "outputs": [
    {
     "name": "stdin",
     "output_type": "stream",
     "text": [
      "Introduce un numero:  8\n",
      "Introduce un numero:  5\n",
      "Introduce un numero:  -2\n",
      "Introduce un numero:  2\n",
      "Introduce un numero:  3\n",
      "Introduce un numero:  0\n"
     ]
    },
    {
     "name": "stdout",
     "output_type": "stream",
     "text": [
      "La suma  total es 16.0\n"
     ]
    }
   ],
   "source": [
    "n = float(input(\"Introduce un numero: \"))\n",
    "sum = 0\n",
    "\n",
    "while n != 0:\n",
    "    sum += n\n",
    "    n = float(input(\"Introduce un numero: \"))\n",
    "else: \n",
    "    print(\"La suma  total es\", sum)\n",
    "    "
   ]
  },
  {
   "cell_type": "markdown",
   "id": "202cd48e-bdf4-49c6-a2df-717f6f538c59",
   "metadata": {},
   "source": [
    "# Ejercicio\n",
    "\n",
    "Imaginemos las letras del abecedario ordenadas y dispuestas en círculo. Es decir, a la derecha de la A está la B, luego la C, y así sucesivamente hasta la Z. A la derecha de la Z, se encuentra de nuevo la letra A.\n",
    "\n",
    "Vamos a hacer que el usuario introduzca un valor entero `n`, que se corresponderá con la rotación que llevará a una determinada letra `n` posiciones a su derecha. Por ejemplo, si la rotación es 4, entonces la A pasará a la E, la B a la F, ..., la Y a la C y la Z a la D.\n",
    "\n",
    "Con un bucle `while`, vamos a construir el programa que desplazará las letras `n` posiciones a la derecha.\n",
    "\n",
    "PISTA: Investiga las funciones `chr()` y `ord()` para pasar del valor [`ASCII`](https://elcodigoascii.com.ar/) de un caracter al caracter y viceversa."
   ]
  },
  {
   "cell_type": "code",
   "execution_count": 15,
   "id": "ff6f20bd-0af9-40e6-bff6-4157dd68443a",
   "metadata": {
    "tags": []
   },
   "outputs": [
    {
     "name": "stdin",
     "output_type": "stream",
     "text": [
      "Introduce una rotacion:  2\n"
     ]
    },
    {
     "name": "stdout",
     "output_type": "stream",
     "text": [
      "A : C\n",
      "B : D\n",
      "C : E\n",
      "D : F\n",
      "E : G\n",
      "F : H\n",
      "G : I\n",
      "H : J\n",
      "I : K\n",
      "J : L\n",
      "K : M\n",
      "L : N\n",
      "M : O\n",
      "N : P\n",
      "O : Q\n",
      "P : R\n",
      "Q : S\n",
      "R : T\n",
      "S : U\n",
      "T : V\n",
      "U : W\n",
      "V : X\n",
      "W : Y\n",
      "X : Z\n",
      "Y : A\n",
      "Z : B\n"
     ]
    }
   ],
   "source": [
    "n = int(input(\"Introduce una rotacion: \"))\n",
    "i = 65 \n",
    "\n",
    "while i <= 90: \n",
    "    if i + n <= 90: \n",
    "        print(chr(i) + \" : \"+ chr(i + n))\n",
    "    else:\n",
    "        print(chr(i) + \" : \" + chr((i - 26) + n))\n",
    "    i += 1"
   ]
  },
  {
   "cell_type": "markdown",
   "id": "0bc9747c-e60c-4f30-ac9f-1f89f52e5c2f",
   "metadata": {},
   "source": [
    "--- \n",
    "\n",
    "## Bucle `for`\n",
    "\n",
    "La idea del bucle `for` es: para todos los elementos de la clave, seguimos realizando las líneas del bucle. Una vez nos quedemos sin elementos, salimos del bucle.\n",
    "\n",
    "Su estructura es la siguiente"
   ]
  },
  {
   "cell_type": "raw",
   "id": "899f3147-b93d-4f4b-b1b8-2372757a0f8a",
   "metadata": {},
   "source": [
    "for clave:\n",
    "  instrucción 1\n",
    "  instrucción 2\n",
    "  .\n",
    "  .\n",
    "  .\n",
    "  instrucción n"
   ]
  },
  {
   "cell_type": "code",
   "execution_count": 1,
   "id": "d5b4b00c-6c37-4f30-9fcb-67e11c97842a",
   "metadata": {
    "tags": []
   },
   "outputs": [
    {
     "name": "stdout",
     "output_type": "stream",
     "text": [
      "M\n",
      "e\n",
      " \n",
      "g\n",
      "u\n",
      "s\n",
      "t\n",
      "a\n",
      "n\n",
      " \n",
      "l\n",
      "a\n",
      "s\n",
      " \n",
      "m\n",
      "a\n",
      "t\n",
      "e\n",
      "m\n",
      "á\n",
      "t\n",
      "i\n",
      "c\n",
      "a\n",
      "s\n"
     ]
    }
   ],
   "source": [
    "s = \"Me gustan las matemáticas\"\n",
    "\n",
    "for c in s:\n",
    "  print(c)"
   ]
  },
  {
   "cell_type": "markdown",
   "id": "b7a1eced-21c2-4d98-9348-66e7ae39243b",
   "metadata": {},
   "source": [
    "--- \n",
    "### Ejercicio\n",
    "\n",
    "Vamos a recorrer un string dado con un bucle `for` y lo vamos a devolver impreso del revés."
   ]
  },
  {
   "cell_type": "code",
   "execution_count": 2,
   "id": "fa424843-d747-44c6-aaea-af7e06bf32ee",
   "metadata": {
    "tags": []
   },
   "outputs": [
    {
     "name": "stdout",
     "output_type": "stream",
     "text": [
      "odnum aloH\n"
     ]
    }
   ],
   "source": [
    "s = \"Hola mundo\"\n",
    "s_inv = \"\"\n",
    "\n",
    "for c in s:\n",
    "    s_inv = c + s_inv\n",
    "    \n",
    "print(s_inv)"
   ]
  },
  {
   "cell_type": "markdown",
   "id": "c913806e-0a66-44f1-8722-621d2a7dac53",
   "metadata": {},
   "source": [
    "--- \n",
    "### Función `range()`\n",
    "\n",
    "La función `range()` tiene 3 posibles argumentos: \n",
    " \n",
    " - `start` \n",
    " - `stop` \n",
    " - `step`\n",
    "\n",
    "Veremos el uso de la función `range()` con un ejemplo. Recuperemos el ejemplo en que queríamos imprimir los 10 primeros números naturales:"
   ]
  },
  {
   "cell_type": "code",
   "execution_count": 5,
   "id": "dacf97e7-2830-4c74-a4d2-2a91fbe8ee10",
   "metadata": {
    "tags": []
   },
   "outputs": [
    {
     "name": "stdout",
     "output_type": "stream",
     "text": [
      "0\n",
      "2\n",
      "4\n",
      "6\n",
      "8\n",
      "10\n"
     ]
    }
   ],
   "source": [
    "for i in range(0, 11, 2):\n",
    "  print(i)"
   ]
  },
  {
   "cell_type": "code",
   "execution_count": 6,
   "id": "e982990c-01e6-41d9-9ce3-aed0e4cd1159",
   "metadata": {
    "tags": []
   },
   "outputs": [
    {
     "name": "stdout",
     "output_type": "stream",
     "text": [
      "1\n",
      "2\n",
      "3\n",
      "4\n",
      "5\n",
      "6\n",
      "7\n",
      "8\n",
      "9\n",
      "10\n"
     ]
    }
   ],
   "source": [
    "for i in range(1, 11):\n",
    "  print(i)"
   ]
  },
  {
   "cell_type": "code",
   "execution_count": 7,
   "id": "a800884d-1159-4e9f-8c8c-15ba1c9b4249",
   "metadata": {
    "tags": []
   },
   "outputs": [
    {
     "name": "stdout",
     "output_type": "stream",
     "text": [
      "10\n",
      "9\n",
      "8\n",
      "7\n",
      "6\n",
      "5\n",
      "4\n",
      "3\n",
      "2\n",
      "1\n"
     ]
    }
   ],
   "source": [
    "for i in range(10, 0, -1):\n",
    "  print(i)"
   ]
  },
  {
   "cell_type": "markdown",
   "id": "339fef1e-4032-4e05-9cfb-78140779555b",
   "metadata": {},
   "source": [
    "---\n",
    "\n",
    "# Ejercicio\n",
    "\n",
    "Con un bucle `for`, dada una [progresión aritmética](https://es.wikipedia.org/wiki/Progresi%C3%B3n_aritm%C3%A9tica) de números enteros indicada por el usuario (nos dará el primer término, la diferencia y la cota), vamos a calcular la suma de los elementos incluyendo la cota.\n",
    "\n",
    "Un ejemplo de progresión aritmética es: 0, 2, 4, 6, 8, ... donde el primer término es 0 y la diferencia entre sus términos es 2."
   ]
  },
  {
   "cell_type": "code",
   "execution_count": 10,
   "id": "35b2111d-50f7-42a8-94a6-6c870fda2932",
   "metadata": {
    "tags": []
   },
   "outputs": [
    {
     "name": "stdin",
     "output_type": "stream",
     "text": [
      "INtroduce el termino inicial de una progresion aritmetica:  1\n",
      "Introduce la diferencia de dicha progresion aritmetica:  2\n",
      "Indica la cota para finalizar 8\n"
     ]
    },
    {
     "name": "stdout",
     "output_type": "stream",
     "text": [
      "La suma de los terminos de la sucesion que has indicado es 16\n"
     ]
    }
   ],
   "source": [
    "a0 = int(input(\"INtroduce el termino inicial de una progresion aritmetica: \"))\n",
    "d = int(input(\"Introduce la diferencia de dicha progresion aritmetica: \"))\n",
    "af = int(input(\"Indica la cota para finalizar\"))\n",
    "sum_an = 0\n",
    "\n",
    "for an in range(a0,af +1, d):\n",
    "    sum_an  += an \n",
    "\n",
    "\n",
    "print(f\"La suma de los terminos de la sucesion que has indicado es {sum_an}\")"
   ]
  },
  {
   "cell_type": "markdown",
   "id": "a75a11a4-d431-43ba-94f3-961a54ff65a1",
   "metadata": {},
   "source": [
    "--- \n",
    "### Comando `continue`\n",
    "\n",
    "El comando `continue` es similar a `break`, pero en vez de salir del bucle, lo que hace es interrumpir la iteración en la que se encuentra y empezar la siguiente iteración.\n"
   ]
  },
  {
   "cell_type": "code",
   "execution_count": 11,
   "id": "fa2249da-50d1-4f8c-9b20-0f6e5248ae16",
   "metadata": {
    "tags": []
   },
   "outputs": [
    {
     "name": "stdout",
     "output_type": "stream",
     "text": [
      "1\n",
      "3\n",
      "7\n",
      "9\n",
      "11\n",
      "13\n",
      "17\n",
      "19\n",
      "21\n",
      "23\n",
      "27\n",
      "29\n",
      "31\n",
      "33\n",
      "37\n",
      "39\n",
      "41\n",
      "43\n",
      "47\n",
      "49\n",
      "51\n",
      "53\n",
      "57\n",
      "59\n",
      "61\n",
      "63\n",
      "67\n",
      "69\n",
      "71\n",
      "73\n",
      "77\n",
      "79\n",
      "81\n",
      "83\n",
      "87\n",
      "89\n",
      "91\n",
      "93\n",
      "97\n",
      "99\n"
     ]
    }
   ],
   "source": [
    "for i in range(101):\n",
    "  if i % 2 == 0 or i % 5 == 0:\n",
    "    continue\n",
    "  print(i)"
   ]
  },
  {
   "cell_type": "markdown",
   "id": "d893c74c-8849-44ca-ab59-da7e8f70165b",
   "metadata": {},
   "source": [
    "--- \n",
    "# Ejercicio\n",
    "\n",
    "Con un bucle `for`, vamos a recorrer un string dado y vamos a imprimir todas las letras salvo por la letra indicada por el usuario."
   ]
  },
  {
   "cell_type": "code",
   "execution_count": 4,
   "id": "0bc2952d-8def-4dab-a0fa-4e02bd53cc76",
   "metadata": {
    "tags": []
   },
   "outputs": [
    {
     "name": "stdin",
     "output_type": "stream",
     "text": [
      "Introducen la letra que quieres eleminar:  a\n"
     ]
    },
    {
     "name": "stdout",
     "output_type": "stream",
     "text": [
      "hol mundo"
     ]
    }
   ],
   "source": [
    "s = \"Hola mundo\"\n",
    "letter = input(\"Introducen la letra que quieres eleminar: \")\n",
    "s = s.lower()\n",
    "letter = letter.lower()\n",
    "\n",
    "\n",
    "for c in s:\n",
    "    if c == letter:\n",
    "        continue\n",
    "    else:\n",
    "        print(c, end=\"\")\n",
    "        \n"
   ]
  },
  {
   "cell_type": "markdown",
   "id": "59a512a5-7523-43e9-be07-3ac03c51e57e",
   "metadata": {},
   "source": [
    "---\n",
    "\n",
    "# Ejercicio\n",
    "\n",
    "Dado un string, con un bucle `for` vamos a imprimirlo sin vocales y vamos a salir del bucle si la letra que indique el usuario aparece más de `n` veces, número que también nos proporcionará el usuario."
   ]
  },
  {
   "cell_type": "code",
   "execution_count": 9,
   "id": "184ee977-d1b0-42e0-afaa-58033d6a00e6",
   "metadata": {
    "tags": []
   },
   "outputs": [
    {
     "name": "stdin",
     "output_type": "stream",
     "text": [
      "Indica el maximo numero de veces que quieres que aparesca la letra anterior:  a\n",
      "Cuanto veces quieres que aparescas las letras  2\n"
     ]
    },
    {
     "name": "stdout",
     "output_type": "stream",
     "text": [
      "Hla q ta\n",
      "Se ha superado el numero de apareciones \n"
     ]
    }
   ],
   "source": [
    "s = \"Hola que tal, \"\n",
    "letter = input(\"Indica el maximo numero de veces que quieres que aparesca la letra anterior: \")\n",
    "n = int(input(\"Cuanto veces quieres que aparescas las letras \"))\n",
    "\n",
    "count = 0\n",
    "\n",
    "for c in s: \n",
    "    if count >= n: \n",
    "        print(\"\\nSe ha superado el numero de apareciones \")\n",
    "        break\n",
    "    if c == letter:\n",
    "        count += 1\n",
    "    elif c == \"a\" or c == \"e\" or c == \"i\" or c == \"o\" or c == \"u\":\n",
    "        continue\n",
    "    print(c, end = \"\")\n",
    "        \n"
   ]
  },
  {
   "cell_type": "code",
   "execution_count": null,
   "id": "a0aa2c1a-45bc-412b-b19d-7c243caffbaa",
   "metadata": {},
   "outputs": [],
   "source": []
  }
 ],
 "metadata": {
  "kernelspec": {
   "display_name": "Python 3 (ipykernel)",
   "language": "python",
   "name": "python3"
  },
  "language_info": {
   "codemirror_mode": {
    "name": "ipython",
    "version": 3
   },
   "file_extension": ".py",
   "mimetype": "text/x-python",
   "name": "python",
   "nbconvert_exporter": "python",
   "pygments_lexer": "ipython3",
   "version": "3.11.5"
  }
 },
 "nbformat": 4,
 "nbformat_minor": 5
}
