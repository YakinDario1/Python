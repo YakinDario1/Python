{
 "cells": [
  {
   "cell_type": "markdown",
   "id": "7046709b-7436-4c36-bcfa-62afc76faf5f",
   "metadata": {},
   "source": [
    "# String en Python"
   ]
  },
  {
   "cell_type": "markdown",
   "id": "2f56fdd4-c197-407c-80fc-c61214833ca6",
   "metadata": {},
   "source": [
    "Una variable de tipo string es aquella que almacena caracters o texto. Cuando queremos que una variable se trate de una variable de tipo string, `str` en `Python`, a la hora de declararla, el contenido de la variable debe ir o bien entre comillas dobles `\" \"`, o bien entre comillas simples `' ' `."
   ]
  },
  {
   "cell_type": "code",
   "execution_count": 1,
   "id": "95304733-e92c-4ba7-84e8-bdc52242d5b6",
   "metadata": {
    "tags": []
   },
   "outputs": [
    {
     "name": "stdout",
     "output_type": "stream",
     "text": [
      "Hola Mundo   <class 'str'>\n",
      "hello word!!   <class 'str'>\n"
     ]
    }
   ],
   "source": [
    "s1 = \"Hola Mundo\" # Comillas dobles\n",
    "s2 = 'hello word!!' # Comilla simple\n",
    "print(s1, \" \" ,type(s1))\n",
    "print(s2, ' ',type(s2))"
   ]
  },
  {
   "cell_type": "markdown",
   "id": "5ed3dcbb-5330-4053-80c8-8305516b0490",
   "metadata": {},
   "source": [
    "--- \n",
    "\n",
    "### String literals\n",
    "\n",
    "El hecho de que el contenido de las variables de tipo `str` vaya entre comillas, ya sean simples o dobles, conlleva a que algunos caracteres deban ser tratados de forma especial. \n",
    "\n",
    "Aquí entran en juego los string literals. Algunos de los más utilizados se muestran en la siguiente tabla:"
   ]
  },
  {
   "cell_type": "markdown",
   "id": "faaf7434-3b3b-4ac8-ad09-320fc4a99d20",
   "metadata": {},
   "source": [
    "Código | Significado |\n",
    "--- | --- |\n",
    "`\\\\` | Backslash, `\\`| \n",
    "`\\'` | Comilla simple, `'`| \n",
    "`\\\"` | Comilla doble, `\"`|  \n",
    "`\\n` | Salto de línea| \n",
    "`\\t` | Tabulación horizontal| \n"
   ]
  },
  {
   "cell_type": "markdown",
   "id": "78cdcc38-c180-442a-aa4c-36fdb68635d6",
   "metadata": {},
   "source": [
    "Ejemplo"
   ]
  },
  {
   "cell_type": "code",
   "execution_count": 2,
   "id": "6e4d356b-a2c0-432e-be8e-bef4862891f2",
   "metadata": {
    "tags": []
   },
   "outputs": [
    {
     "data": {
      "text/plain": [
       "'Juan dijo: \"le gusta el chicolate\"'"
      ]
     },
     "execution_count": 2,
     "metadata": {},
     "output_type": "execute_result"
    }
   ],
   "source": [
    "s1 = \"Juan dijo: \\\"le gusta el chicolate\\\"\"\n",
    "s1"
   ]
  },
  {
   "cell_type": "code",
   "execution_count": 3,
   "id": "22fb9155-3c93-4345-99b1-894550f19132",
   "metadata": {
    "tags": []
   },
   "outputs": [
    {
     "name": "stdout",
     "output_type": "stream",
     "text": [
      "Con diez cañones por banda,\n",
      "viento en popa a toda vela\n"
     ]
    }
   ],
   "source": [
    "s3 = \"Con diez cañones por banda,\\nviento en popa a toda vela\"\n",
    "print(s3)"
   ]
  },
  {
   "cell_type": "markdown",
   "id": "2a9df6b9-8f4b-4a47-8fa9-9d049a7647fa",
   "metadata": {},
   "source": [
    "---\n",
    "\n",
    "Concatenación de strings\n",
    "\n",
    "La concatenación es una operación que une dos o más strings en uno solo.\n",
    "\n",
    "En `Python`, para concatenar dos variables de tipo string usamos la función `+`."
   ]
  },
  {
   "cell_type": "code",
   "execution_count": 4,
   "id": "458c1bb9-a4fb-4ba6-ab4a-5f61ada8231e",
   "metadata": {
    "tags": []
   },
   "outputs": [
    {
     "data": {
      "text/plain": [
       "'Hola Mundo'"
      ]
     },
     "execution_count": 4,
     "metadata": {},
     "output_type": "execute_result"
    }
   ],
   "source": [
    "t1 = \"Hola\"\n",
    "t2 = \" Mundo\"\n",
    "t1+t2"
   ]
  },
  {
   "cell_type": "markdown",
   "id": "c8e0d5d1-e2aa-4623-8ba8-2c45dedabe29",
   "metadata": {},
   "source": [
    "---\n",
    "\n",
    "### Repeticiones de string \n",
    "\n",
    "La repetición es una operación que repite la variable string tantas veces como indiquemos.\n",
    "\n",
    "En `Python`, para repetir una variable de tipo string usamos la función `*`. El orden de los factores no altera el producto. Es decir, tanto da usar la sintaxis `num_repeticiones * variable_str` como `variable_str * num__repeticiones`."
   ]
  },
  {
   "cell_type": "code",
   "execution_count": 5,
   "id": "9ae65be1-b742-44c2-abc5-ae678c283a11",
   "metadata": {
    "tags": []
   },
   "outputs": [
    {
     "data": {
      "text/plain": [
       "'Hello Yakin!!Hello Yakin!!Hello Yakin!!Hello Yakin!!Hello Yakin!!'"
      ]
     },
     "execution_count": 5,
     "metadata": {},
     "output_type": "execute_result"
    }
   ],
   "source": [
    "h1 = \"Hello Yakin!!\"\n",
    "h1 * 5 "
   ]
  },
  {
   "cell_type": "markdown",
   "id": "3a611b89-86bf-40e1-8506-4a1e96687503",
   "metadata": {},
   "source": [
    "--- \n",
    "\n",
    "### La funcion `print()`"
   ]
  },
  {
   "cell_type": "markdown",
   "id": "593600ab-08cb-4887-a714-2e777ad6c339",
   "metadata": {},
   "source": [
    "La función `print()` nos sirve, entre otras muchas cosas, para mostrar strings por pantalla."
   ]
  },
  {
   "cell_type": "code",
   "execution_count": 6,
   "id": "cc6db167-6939-468d-82a9-4cb3c6850d08",
   "metadata": {
    "tags": []
   },
   "outputs": [
    {
     "name": "stdout",
     "output_type": "stream",
     "text": [
      "Hola mundo!!\n"
     ]
    }
   ],
   "source": [
    "t1 = \"Hola mundo!!\"\n",
    "print(t1)"
   ]
  },
  {
   "cell_type": "markdown",
   "id": "5e236569-ed7d-410f-b4fa-85307979a2b5",
   "metadata": {},
   "source": [
    "Al igual que podíamos concatenar strings con la función `+`, combinando ésta junto con la función `print()` podemos concatenar strings con variables que almacenan strings"
   ]
  },
  {
   "cell_type": "code",
   "execution_count": 7,
   "id": "11d24419-eddb-47c2-8495-d750bf687274",
   "metadata": {
    "tags": []
   },
   "outputs": [
    {
     "name": "stdout",
     "output_type": "stream",
     "text": [
      "Buenos dias Yakin Dario !!\n"
     ]
    }
   ],
   "source": [
    "name = \"Yakin Dario\"\n",
    "print(\"Buenos dias \" + name + \" !!\")"
   ]
  },
  {
   "cell_type": "markdown",
   "id": "320311c4-2950-4892-99ea-69255b9ae219",
   "metadata": {},
   "source": [
    "--- \n",
    "\n",
    "### Ejercicio #1 "
   ]
  },
  {
   "cell_type": "markdown",
   "id": "d3bd88bd-5c66-492d-8dfa-51f8b0825bc1",
   "metadata": {
    "tags": []
   },
   "source": [
    "Vamos a combinar concatenación y repetición de strings para reproducir la canción \"Cumpleaños feliz\""
   ]
  },
  {
   "cell_type": "code",
   "execution_count": 8,
   "id": "39a0e72b-70fa-4486-83cf-fb4d1f9291d2",
   "metadata": {
    "tags": []
   },
   "outputs": [
    {
     "name": "stdout",
     "output_type": "stream",
     "text": [
      "Cumpleaños feliz! \n",
      "Cumpleaños feliz! \n",
      " Te deseamos todos\n",
      " Cumpleaños feliz! \n"
     ]
    }
   ],
   "source": [
    "t1 = \"Cumpleaños feliz! \"\n",
    "t2 = \"Te deseamos todos\"\n",
    "\n",
    "print(((t1 + \"\\n\") * 2), t2 + \"\\n\", t1)"
   ]
  },
  {
   "cell_type": "markdown",
   "id": "98371ee4-9587-4de5-9492-f8a0adf60415",
   "metadata": {},
   "source": [
    "--- \n",
    "\n",
    "### Funcion `str()` \n",
    "Con la función `str()`, podemos concatenar strings y variables de cualquier tipo dentro de un `print()`:"
   ]
  },
  {
   "cell_type": "code",
   "execution_count": 9,
   "id": "5102c4bd-21ad-4cc5-89a3-9cdd03e2fcc6",
   "metadata": {
    "tags": []
   },
   "outputs": [
    {
     "name": "stdout",
     "output_type": "stream",
     "text": [
      "Me llamo Yakin Dario  y su edad es 26\n"
     ]
    }
   ],
   "source": [
    "nombre = \"Yakin Dario \"\n",
    "edad = 26\n",
    "\n",
    "print(\"Me llamo \"+ nombre + \" y su edad es \" + str(edad))"
   ]
  },
  {
   "cell_type": "markdown",
   "id": "602450f4-b95e-4869-934d-3ab7eade7b96",
   "metadata": {},
   "source": [
    "--- \n",
    "\n",
    "### Metodo `.format()`\n",
    "\n",
    "\n",
    "Existe otra forma de concatenar strings y variables de cualquier tipo dentro de un `print()` y es gracias al método `.format()`. Lo que hay que hacer es indicar con llaves, `{}`, donde queremos situar el resultado de las variables y luego, dentro de los paréntesis del método `.format()`, indicar las variables en su respectivo orden"
   ]
  },
  {
   "cell_type": "code",
   "execution_count": 10,
   "id": "dc339fc5-1f82-45da-94ac-14cd3604f5c0",
   "metadata": {
    "tags": []
   },
   "outputs": [
    {
     "name": "stdout",
     "output_type": "stream",
     "text": [
      "Mi abuelo se llama santigo y tiene 3 gatos\n"
     ]
    }
   ],
   "source": [
    "nombre = \"santigo\"\n",
    "numeroGatos = 3\n",
    "print(\"Mi abuelo se llama {} y tiene {} gatos\".format(nombre, numeroGatos))"
   ]
  },
  {
   "cell_type": "markdown",
   "id": "8220df36-0670-433d-a7e2-b5645e538747",
   "metadata": {},
   "source": [
    "--- \n",
    "\n",
    "### Substring \n",
    "\n",
    "Para acceder a un caracter de una variable string usamos la sintaxis de `[]`"
   ]
  },
  {
   "cell_type": "code",
   "execution_count": 11,
   "id": "b83a4623-b8ff-4644-8e98-f2d3ce23f3a2",
   "metadata": {
    "tags": []
   },
   "outputs": [
    {
     "data": {
      "text/plain": [
       "'M'"
      ]
     },
     "execution_count": 11,
     "metadata": {},
     "output_type": "execute_result"
    }
   ],
   "source": [
    "s = \"Me gusta las peliculas\"\n",
    "s[0]"
   ]
  },
  {
   "cell_type": "code",
   "execution_count": 12,
   "id": "8cf202e6-e382-474a-a44d-397a86ed1ad1",
   "metadata": {
    "tags": []
   },
   "outputs": [
    {
     "data": {
      "text/plain": [
       "'l'"
      ]
     },
     "execution_count": 12,
     "metadata": {},
     "output_type": "execute_result"
    }
   ],
   "source": [
    "s[-3]"
   ]
  },
  {
   "cell_type": "markdown",
   "id": "99d2639d-347f-441a-990a-08d4ece92f8a",
   "metadata": {},
   "source": [
    "Si queremos acceder a varios caracteres seguidos, podemos utilizar la función `:`"
   ]
  },
  {
   "cell_type": "code",
   "execution_count": 13,
   "id": "dac870f3-f27f-48c1-827e-dfc864e882a8",
   "metadata": {
    "tags": []
   },
   "outputs": [
    {
     "data": {
      "text/plain": [
       "'s pelicul'"
      ]
     },
     "execution_count": 13,
     "metadata": {},
     "output_type": "execute_result"
    }
   ],
   "source": [
    "s[11:20]"
   ]
  },
  {
   "cell_type": "markdown",
   "id": "0459d8f5-4648-4a1d-b13c-64a586d73b8c",
   "metadata": {},
   "source": [
    "---\n",
    "\n",
    "## Metodos para trabajar con string en python "
   ]
  },
  {
   "cell_type": "markdown",
   "id": "83afa0b0-5eee-4b49-9ea4-28944bc01f8d",
   "metadata": {},
   "source": [
    "- El método `.lower()` nos transforma el string que indiquemos a minúsculas."
   ]
  },
  {
   "cell_type": "code",
   "execution_count": 14,
   "id": "ceabaf9f-90ed-441d-a1b6-a0264f9576a9",
   "metadata": {
    "tags": []
   },
   "outputs": [
    {
     "data": {
      "text/plain": [
       "'me encantan el chocolate y las galletas'"
      ]
     },
     "execution_count": 14,
     "metadata": {},
     "output_type": "execute_result"
    }
   ],
   "source": [
    "s = \"Me ENCANTAN el chocolate y las galletas\"\n",
    "s.lower()"
   ]
  },
  {
   "cell_type": "markdown",
   "id": "facd8932-5588-40ef-b0e7-d24ed5368caa",
   "metadata": {},
   "source": [
    "- El método `.upper()`, por el contrario, lo transforma a mayúsculas."
   ]
  },
  {
   "cell_type": "code",
   "execution_count": 15,
   "id": "184e0f7d-caff-48ea-b58d-435de790e25b",
   "metadata": {
    "tags": []
   },
   "outputs": [
    {
     "data": {
      "text/plain": [
       "'ME ENCANTAN EL CHOCOLATE Y LAS GALLETAS'"
      ]
     },
     "execution_count": 15,
     "metadata": {},
     "output_type": "execute_result"
    }
   ],
   "source": [
    "s.upper()"
   ]
  },
  {
   "cell_type": "markdown",
   "id": "f384847c-c602-4efd-925d-73bbb3e88ead",
   "metadata": {},
   "source": [
    "- El método `.count()` cuenta cuántas veces aparece una letra o un string dentro del string al cuál le aplicamos dicho método."
   ]
  },
  {
   "cell_type": "code",
   "execution_count": 16,
   "id": "26884319-a898-4fa1-b977-679b120cb691",
   "metadata": {
    "tags": []
   },
   "outputs": [
    {
     "data": {
      "text/plain": [
       "2"
      ]
     },
     "execution_count": 16,
     "metadata": {},
     "output_type": "execute_result"
    }
   ],
   "source": [
    "s.count(\"o\")"
   ]
  },
  {
   "cell_type": "code",
   "execution_count": 17,
   "id": "6f7327c2-0c29-434f-b0dd-4d1f4d669329",
   "metadata": {
    "tags": []
   },
   "outputs": [
    {
     "data": {
      "text/plain": [
       "2"
      ]
     },
     "execution_count": 17,
     "metadata": {},
     "output_type": "execute_result"
    }
   ],
   "source": [
    "s.count(\"la\")"
   ]
  },
  {
   "cell_type": "markdown",
   "id": "288df812-d7fc-46b9-affb-a27fe5ea4e61",
   "metadata": {},
   "source": [
    "- El método `.capitalize()` convierte a mayúscula el primer caracter de un string.\n"
   ]
  },
  {
   "cell_type": "code",
   "execution_count": 18,
   "id": "8936cf91-2144-4ddc-9311-c34afb9fad3d",
   "metadata": {
    "tags": []
   },
   "outputs": [
    {
     "data": {
      "text/plain": [
       "'Me encantan el chocolate y las galletas'"
      ]
     },
     "execution_count": 18,
     "metadata": {},
     "output_type": "execute_result"
    }
   ],
   "source": [
    "s.capitalize()"
   ]
  },
  {
   "cell_type": "markdown",
   "id": "0991fded-8375-4de4-bcfc-40e4640316ae",
   "metadata": {},
   "source": [
    "- El método `.title()` convierte a mayúscula el primer caracter de cada palabra de un string."
   ]
  },
  {
   "cell_type": "code",
   "execution_count": 19,
   "id": "8df23c9c-857e-47fb-a8e6-5faf115ad0ca",
   "metadata": {
    "tags": []
   },
   "outputs": [
    {
     "data": {
      "text/plain": [
       "'Me Encantan El Chocolate Y Las Galletas'"
      ]
     },
     "execution_count": 19,
     "metadata": {},
     "output_type": "execute_result"
    }
   ],
   "source": [
    "s.title()"
   ]
  },
  {
   "cell_type": "markdown",
   "id": "bc189d1d-3e5e-4899-b1bb-daf2e009407a",
   "metadata": {},
   "source": [
    "El método `.swapcase()` convierte a mayúscula las minúsculas y viceversa."
   ]
  },
  {
   "cell_type": "code",
   "execution_count": 20,
   "id": "839bdb0c-1ed1-4554-b330-8b4a025ecf21",
   "metadata": {
    "tags": []
   },
   "outputs": [
    {
     "data": {
      "text/plain": [
       "'mE encantan EL CHOCOLATE Y LAS GALLETAS'"
      ]
     },
     "execution_count": 20,
     "metadata": {},
     "output_type": "execute_result"
    }
   ],
   "source": [
    "s.swapcase()"
   ]
  },
  {
   "cell_type": "markdown",
   "id": "7ca8b66d-a272-40a8-9132-d4bb0bb81bc3",
   "metadata": {},
   "source": [
    "- El método `.replace()` reemplaza el caracter (o caracteres) que le indiquemos por el string que queramos."
   ]
  },
  {
   "cell_type": "code",
   "execution_count": 21,
   "id": "8a7d97cd-d275-4a2d-a0b6-aa6c36848b27",
   "metadata": {
    "tags": []
   },
   "outputs": [
    {
     "data": {
      "text/plain": [
       "'Los tomberis son malos'"
      ]
     },
     "execution_count": 21,
     "metadata": {},
     "output_type": "execute_result"
    }
   ],
   "source": [
    "s = \"Los tomberis son buenos\"\n",
    "s.replace(\"buenos\", \"malos\")"
   ]
  },
  {
   "cell_type": "markdown",
   "id": "d5e8f54c-9dbb-4300-a2ed-4d4068b3e134",
   "metadata": {},
   "source": [
    "- El método `.split()` rompe el string en el caracter que le indiquemos y elimina dicho caracter."
   ]
  },
  {
   "cell_type": "code",
   "execution_count": 22,
   "id": "543cda16-b55f-43fd-84bd-4a1a6a555ada",
   "metadata": {},
   "outputs": [
    {
     "data": {
      "text/plain": [
       "['El ', 'l', 'fant', ' ti', 'n', ' las or', 'jas muy grand', 's']"
      ]
     },
     "execution_count": 22,
     "metadata": {},
     "output_type": "execute_result"
    }
   ],
   "source": [
    "s = \"El elefante tiene las orejas muy grandes\"\n",
    "s.split(\"e\") # Rompemos por la letra e minúscula"
   ]
  },
  {
   "cell_type": "code",
   "execution_count": 23,
   "id": "42204ec2-800a-4d4d-a9a0-66a5630bcfa5",
   "metadata": {
    "tags": []
   },
   "outputs": [
    {
     "data": {
      "text/plain": [
       "['El', 'elefante', 'tiene', 'las', 'orejas', 'muy', 'grandes']"
      ]
     },
     "execution_count": 23,
     "metadata": {},
     "output_type": "execute_result"
    }
   ],
   "source": [
    "s.split(\" \") # Espacio en blanco"
   ]
  },
  {
   "cell_type": "markdown",
   "id": "89fdb87c-8ef7-4ca2-91cb-3b8a901fa71c",
   "metadata": {},
   "source": [
    "- El método `.strip()` elimina los espacios sobrantes a principio y final del string."
   ]
  },
  {
   "cell_type": "code",
   "execution_count": 24,
   "id": "0c9d2ca0-8484-434c-b2ac-1d6f0ce8a8bf",
   "metadata": {
    "tags": []
   },
   "outputs": [
    {
     "data": {
      "text/plain": [
       "'El elefante tiene las orejas sobrante'"
      ]
     },
     "execution_count": 24,
     "metadata": {},
     "output_type": "execute_result"
    }
   ],
   "source": [
    "s = \"    El elefante tiene las orejas sobrante    \"\n",
    "s.strip()"
   ]
  },
  {
   "cell_type": "code",
   "execution_count": 25,
   "id": "322a0255-d6c3-4d43-a620-5c6c79fa6b6a",
   "metadata": {
    "tags": []
   },
   "outputs": [
    {
     "name": "stdout",
     "output_type": "stream",
     "text": [
      "    El elefante tiene las orejas sobrante\n",
      "El elefante tiene las orejas sobrante    \n"
     ]
    }
   ],
   "source": [
    "print(s.rstrip()) # Elimina la derecha \n",
    "print(s.lstrip()) # ELimana la izquierda "
   ]
  },
  {
   "cell_type": "markdown",
   "id": "c8b95fcb-c14e-4a07-be9a-de21738368f0",
   "metadata": {},
   "source": [
    "- El método `.find()` busca el caracter que indiquemos y nos devuelve la primera posición en la que aparece."
   ]
  },
  {
   "cell_type": "code",
   "execution_count": 26,
   "id": "6ba8495b-dad2-4917-a972-94f89b22d8f7",
   "metadata": {
    "tags": []
   },
   "outputs": [
    {
     "data": {
      "text/plain": [
       "9"
      ]
     },
     "execution_count": 26,
     "metadata": {},
     "output_type": "execute_result"
    }
   ],
   "source": [
    "s = \"Este es un curso de Python para hacer en casa o en cualquier lado\"\n",
    "s.find(\"n\")"
   ]
  },
  {
   "cell_type": "code",
   "execution_count": 27,
   "id": "933007c0-f595-46c7-9bd0-1ba99a1de29c",
   "metadata": {
    "tags": []
   },
   "outputs": [
    {
     "data": {
      "text/plain": [
       "41"
      ]
     },
     "execution_count": 27,
     "metadata": {},
     "output_type": "execute_result"
    }
   ],
   "source": [
    "s.find(\"casa\")"
   ]
  },
  {
   "cell_type": "markdown",
   "id": "55eab4ef-6dd2-4814-a1ea-7c7ec9e5d27b",
   "metadata": {},
   "source": [
    "- El método `.index()` busca el caracter que indiquemos y nos devuelve la primera posición en la que aparece."
   ]
  },
  {
   "cell_type": "code",
   "execution_count": 28,
   "id": "f9f56918-43dd-4c28-885b-6cc75b1d9ea2",
   "metadata": {
    "tags": []
   },
   "outputs": [
    {
     "data": {
      "text/plain": [
       "9"
      ]
     },
     "execution_count": 28,
     "metadata": {},
     "output_type": "execute_result"
    }
   ],
   "source": [
    "s.index(\"n\")"
   ]
  },
  {
   "cell_type": "code",
   "execution_count": 29,
   "id": "13f3a129-a5dc-4c6d-9c89-b72ee0549f14",
   "metadata": {
    "tags": []
   },
   "outputs": [
    {
     "data": {
      "text/plain": [
       "41"
      ]
     },
     "execution_count": 29,
     "metadata": {},
     "output_type": "execute_result"
    }
   ],
   "source": [
    "s.index(\"casa\")"
   ]
  },
  {
   "cell_type": "markdown",
   "id": "283ff659-214b-4db1-b814-07c6e8fc785c",
   "metadata": {},
   "source": [
    "La función `len()` nos devuelve el número de caracteres del string."
   ]
  },
  {
   "cell_type": "code",
   "execution_count": 30,
   "id": "69b552e0-bd80-48cf-9c62-39965784102e",
   "metadata": {
    "tags": []
   },
   "outputs": [
    {
     "data": {
      "text/plain": [
       "23"
      ]
     },
     "execution_count": 30,
     "metadata": {},
     "output_type": "execute_result"
    }
   ],
   "source": [
    "s = \"Hola mi nombre es yakin\"\n",
    "len(s)"
   ]
  },
  {
   "cell_type": "markdown",
   "id": "17f2e2f3-3afe-47ca-98b4-f2456800a697",
   "metadata": {},
   "source": [
    "La función `input()` sirve para que el usuario introduzca un string por consola:"
   ]
  },
  {
   "cell_type": "code",
   "execution_count": 31,
   "id": "10ac5390-d58c-493b-a296-8c9e072dfd60",
   "metadata": {
    "tags": []
   },
   "outputs": [
    {
     "name": "stdout",
     "output_type": "stream",
     "text": [
      "Introduce tu nombre: \n"
     ]
    },
    {
     "name": "stdin",
     "output_type": "stream",
     "text": [
      "Nombre:  yakin\n"
     ]
    }
   ],
   "source": [
    "print(\"Introduce tu nombre: \")\n",
    "name = input(\"Nombre: \")"
   ]
  },
  {
   "cell_type": "code",
   "execution_count": 32,
   "id": "31326d27-5134-4e20-bb34-8d99ef96d07c",
   "metadata": {
    "tags": []
   },
   "outputs": [
    {
     "data": {
      "text/plain": [
       "'yakin'"
      ]
     },
     "execution_count": 32,
     "metadata": {},
     "output_type": "execute_result"
    }
   ],
   "source": [
    "name "
   ]
  },
  {
   "cell_type": "code",
   "execution_count": 33,
   "id": "4f462d02-f6fb-4d40-8566-604ba6820855",
   "metadata": {
    "tags": []
   },
   "outputs": [
    {
     "name": "stdout",
     "output_type": "stream",
     "text": [
      "Introduce tu edad: \n"
     ]
    },
    {
     "name": "stdin",
     "output_type": "stream",
     "text": [
      "Edad:  26\n"
     ]
    }
   ],
   "source": [
    "print(\"Introduce tu edad: \")\n",
    "age = int(input(\"Edad: \"))"
   ]
  },
  {
   "cell_type": "code",
   "execution_count": 34,
   "id": "8cab6835-28c0-4e25-aafb-92b86037e884",
   "metadata": {
    "tags": []
   },
   "outputs": [
    {
     "data": {
      "text/plain": [
       "26"
      ]
     },
     "execution_count": 34,
     "metadata": {},
     "output_type": "execute_result"
    }
   ],
   "source": [
    "age"
   ]
  },
  {
   "cell_type": "code",
   "execution_count": 35,
   "id": "162830f9-2455-4808-8877-652f7bc22e85",
   "metadata": {
    "tags": []
   },
   "outputs": [
    {
     "name": "stdout",
     "output_type": "stream",
     "text": [
      "Hola yakin tu edad es 26\n"
     ]
    }
   ],
   "source": [
    "print(\"Hola {} tu edad es {}\".format(name,age))"
   ]
  },
  {
   "cell_type": "markdown",
   "id": "7e87aa93-dfcf-4b6e-92f4-fe7bfebc48a3",
   "metadata": {},
   "source": [
    "--- \n",
    "\n",
    "### Ejercicio \n"
   ]
  },
  {
   "cell_type": "markdown",
   "id": "d37c8c43-70bf-4fe1-912a-207efacc4fac",
   "metadata": {},
   "source": [
    "Dado un string, vamos a pedir al usuario que introduzca una palabra perteneciente a dicho string y vamos a obtener el substring sin la palabra indicada por el usuario utilizando el método `.find()` y la función `len()`"
   ]
  },
  {
   "cell_type": "code",
   "execution_count": 36,
   "id": "d8f1c107-a138-448f-9c2a-d585ae5b0c06",
   "metadata": {
    "tags": []
   },
   "outputs": [
    {
     "name": "stdout",
     "output_type": "stream",
     "text": [
      "Este es mi string Original: El camino esta cerrado pero  podemos  encontrar una alternativa\n",
      "Cual palabras puede eliminar\n"
     ]
    },
    {
     "name": "stdin",
     "output_type": "stream",
     "text": [
      "Palabra:  esta\n"
     ]
    },
    {
     "name": "stdout",
     "output_type": "stream",
     "text": [
      "El camino \n",
      " \n",
      "El camino cerrado pero  podemos  encontrar una alternativa\n"
     ]
    }
   ],
   "source": [
    "s1 = \"El camino esta cerrado pero  podemos  encontrar una alternativa\"\n",
    "print(\"Este es mi string Original:\", end=\" \")\n",
    "print(s1)\n",
    "\n",
    "print(\"Cual palabras puede eliminar\")\n",
    "word = input(\"Palabra: \")\n",
    "\n",
    "idx = s1.index(word)\n",
    "print(s1[:idx])\n",
    "print(s1[idx + len(word)])\n",
    "substring = s1[:idx] + s1[(idx + len(word) + 1):]\n",
    "\n",
    "print(substring)"
   ]
  },
  {
   "cell_type": "markdown",
   "id": "5506914f-7027-4e6a-8245-2356daaf700d",
   "metadata": {},
   "source": [
    "--- \n",
    "\n",
    "### Ejercicio\n",
    "\n",
    "Vamos a aprovechar el ejercicio sobre la canción \"Cumpleaños feliz\" y vamos a permitir al usuario elegir a quien va dirigida la canción"
   ]
  },
  {
   "cell_type": "code",
   "execution_count": 37,
   "id": "3612f4fb-9294-4054-99d7-838361502a39",
   "metadata": {
    "tags": []
   },
   "outputs": [
    {
     "name": "stdin",
     "output_type": "stream",
     "text": [
      "Indica el nombre del cumplañero yakin\n"
     ]
    },
    {
     "name": "stdout",
     "output_type": "stream",
     "text": [
      "Cumpleaños feliz! \n",
      "Cumpleaños feliz! \n",
      " Te deseamos yakin\n",
      " Cumpleaños feliz! \n"
     ]
    }
   ],
   "source": [
    "name = input(\"Indica el nombre del cumplañero\")\n",
    "t1 = \"Cumpleaños feliz! \"\n",
    "t2 = \"Te deseamos todos\"\n",
    "\n",
    "print(((t1 + \"\\n\") * 2), t2.replace(\"todos\", name) + \"\\n\", t1) # Utilizamos el metodo replace"
   ]
  },
  {
   "cell_type": "code",
   "execution_count": 38,
   "id": "8f9f0a1c-6468-4bb6-8ece-482745505cb8",
   "metadata": {
    "tags": []
   },
   "outputs": [
    {
     "name": "stdin",
     "output_type": "stream",
     "text": [
      "Indica el nombre del cumplañero dario \n"
     ]
    },
    {
     "name": "stdout",
     "output_type": "stream",
     "text": [
      "Cumpleaños feliz! \n",
      "Cumpleaños feliz! \n",
      " Te deseamos dario \n",
      " Cumpleaños feliz! \n"
     ]
    }
   ],
   "source": [
    "name = input(\"Indica el nombre del cumplañero\")\n",
    "t1 = \"Cumpleaños feliz! \"\n",
    "t2 = f\"Te deseamos {name}\"\n",
    "\n",
    "print(((t1 + \"\\n\") * 2), t2.replace(\"todos\", name) + \"\\n\", t1) # Utilizamos el metodo f-string "
   ]
  },
  {
   "cell_type": "markdown",
   "id": "ecd8586d-1f70-461d-a84c-f940aa2dadcc",
   "metadata": {},
   "source": [
    "--- \n",
    "\n",
    "# Ejercicio\n",
    "\n",
    "Vamos a pedirle al usuario palabras o frases y le vamos a devolver el mismo string modificado con alguno de los métodos aprendidos según se indique:\n",
    "\n",
    "1. Devolver la palabra en mayúscula\n",
    "2. Devolver la frase con todas las palabras empezando en mayúscula\n",
    "3. Devolver la palabra (con 3 o más letras) con todas las letras en minúscula salvo la tercera letra\n",
    "4. Devolver la palabra con todas las letras en mayúsculas salvo la primera y la última\n",
    "5. Devolver la frase donde cada vez que aparezcan las dos primeras letras de la primera palabra, sean substituidas por cualesquiera otras dos letras."
   ]
  },
  {
   "cell_type": "markdown",
   "id": "eedba111-ae05-443d-828b-64654932f143",
   "metadata": {},
   "source": [
    "1. Devolver la palabra en mayúscula"
   ]
  },
  {
   "cell_type": "code",
   "execution_count": 40,
   "id": "bd7312ea-d657-4f16-9980-672ca751bf79",
   "metadata": {
    "tags": []
   },
   "outputs": [
    {
     "name": "stdin",
     "output_type": "stream",
     "text": [
      "Introduce una palabra o frase, y te devuelvo en mayuscula  holi\n"
     ]
    },
    {
     "name": "stdout",
     "output_type": "stream",
     "text": [
      "HOLI\n"
     ]
    }
   ],
   "source": [
    "palabra = input(\"Introduce una palabra o frase, y te devuelvo en mayuscula \")\n",
    "print(palabra.upper())"
   ]
  },
  {
   "cell_type": "markdown",
   "id": "cec66003-37ea-41d2-9acc-b1582aaf0839",
   "metadata": {},
   "source": [
    "2. Devolver la frase con todas las palabras empezando en mayúscula"
   ]
  },
  {
   "cell_type": "code",
   "execution_count": 41,
   "id": "a961a256-a303-4bc5-bdaa-b4abf73976b7",
   "metadata": {
    "tags": []
   },
   "outputs": [
    {
     "name": "stdin",
     "output_type": "stream",
     "text": [
      "Intruduce una frace  hola, como estas?\n"
     ]
    },
    {
     "name": "stdout",
     "output_type": "stream",
     "text": [
      "Hola, Como Estas?\n"
     ]
    }
   ],
   "source": [
    "palabra2 = input(\"Intruduce una frace \")\n",
    "print(palabra2.title())"
   ]
  },
  {
   "cell_type": "markdown",
   "id": "2c29cb45-6d07-4ad5-8b47-e574f4c7f91b",
   "metadata": {},
   "source": [
    "3. Devolver la palabra (con 3 o más letras) con todas las letras en minúscula salvo la tercera letra"
   ]
  },
  {
   "cell_type": "code",
   "execution_count": 46,
   "id": "0de3d831-6fbf-4965-bc57-1a2b3e4212fc",
   "metadata": {
    "tags": []
   },
   "outputs": [
    {
     "name": "stdin",
     "output_type": "stream",
     "text": [
      "Intruduce una palabra de mayor de 3 letras playa\n"
     ]
    },
    {
     "name": "stdout",
     "output_type": "stream",
     "text": [
      "plAya\n"
     ]
    }
   ],
   "source": [
    "word = input(\"Intruduce una palabra de mayor de 3 letras\")\n",
    "word = word[:2].lower() + word[2].upper() + word[3:].lower()\n",
    "print(word)"
   ]
  },
  {
   "cell_type": "markdown",
   "id": "84056659-fef7-476b-a8bd-c10c903c209e",
   "metadata": {},
   "source": [
    "4. Devolver la palabra con todas las letras en mayúsculas salvo la primera y la última"
   ]
  },
  {
   "cell_type": "code",
   "execution_count": 52,
   "id": "86e3b1c3-3fb2-4fb2-b19c-37d259c1d0ba",
   "metadata": {
    "tags": []
   },
   "outputs": [
    {
     "name": "stdin",
     "output_type": "stream",
     "text": [
      "Introduce una palabra  playa\n"
     ]
    },
    {
     "name": "stdout",
     "output_type": "stream",
     "text": [
      "pLAYa\n"
     ]
    }
   ],
   "source": [
    "word = input(\"Introduce una palabra \")\n",
    "word = word[0].lower() + word[1:(len(word)-1)].upper() + word[-1].lower()\n",
    "print(word)"
   ]
  },
  {
   "cell_type": "markdown",
   "id": "ac63023a-3e6b-49a7-8a30-f236cb4cc28e",
   "metadata": {},
   "source": [
    "5. Devolver la frase donde cada vez que aparezcan las dos primeras letras de la primera palabra, sean substituidas por cualesquiera otras dos letras."
   ]
  },
  {
   "cell_type": "code",
   "execution_count": 53,
   "id": "28c57e14-4355-4aa2-af58-05b02ebd3121",
   "metadata": {
    "tags": []
   },
   "outputs": [
    {
     "name": "stdin",
     "output_type": "stream",
     "text": [
      "las palabras sitituidas por la palabra al mi mamá me mima esa es mi mamá\n"
     ]
    },
    {
     "name": "stdout",
     "output_type": "stream",
     "text": [
      "al mamá me alma esa es al mamá\n"
     ]
    }
   ],
   "source": [
    "sus = \"al\"\n",
    "word = input(f\"las palabras sitituidas por la palabra {sus}\")\n",
    "print(word.replace(word[:2], sus)) \n",
    "\n"
   ]
  },
  {
   "cell_type": "markdown",
   "id": "7dffabaa-db2f-4e4a-b7ac-f74761d35d85",
   "metadata": {},
   "source": [
    "--- \n",
    "\n",
    "# Ejercicio\n",
    "\n",
    "Vamos a pedirle al usuario su año de nacimiento y el año actual y le vamos a imprimir por pantalla su edad"
   ]
  },
  {
   "cell_type": "code",
   "execution_count": 55,
   "id": "6d0b2962-5c7f-4960-8949-4dff9bad84ef",
   "metadata": {
    "tags": []
   },
   "outputs": [
    {
     "name": "stdin",
     "output_type": "stream",
     "text": [
      "cuale es año de nacimiento 1996\n",
      "cual años es actualmente 2023\n"
     ]
    },
    {
     "name": "stdout",
     "output_type": "stream",
     "text": [
      "Tue edad es 27\n"
     ]
    }
   ],
   "source": [
    "nacimiento = int(input(\"cuale es año de nacimiento\"))\n",
    "añoActual = int(input(\"cual años es actualmente\"))\n",
    "edad = añoActual - nacimiento\n",
    "print(f\"Tue edad es {edad}\")\n"
   ]
  },
  {
   "cell_type": "code",
   "execution_count": null,
   "id": "8ce16918-f8b9-4d36-8753-9cedb1410d52",
   "metadata": {},
   "outputs": [],
   "source": []
  }
 ],
 "metadata": {
  "kernelspec": {
   "display_name": "Python 3 (ipykernel)",
   "language": "python",
   "name": "python3"
  },
  "language_info": {
   "codemirror_mode": {
    "name": "ipython",
    "version": 3
   },
   "file_extension": ".py",
   "mimetype": "text/x-python",
   "name": "python",
   "nbconvert_exporter": "python",
   "pygments_lexer": "ipython3",
   "version": "3.11.5"
  }
 },
 "nbformat": 4,
 "nbformat_minor": 5
}
