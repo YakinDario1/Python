{
 "cells": [
  {
   "cell_type": "markdown",
   "id": "4d33bcb5-04e3-490a-b7b9-150ff2634c31",
   "metadata": {},
   "source": [
    "# Ejercicios String "
   ]
  },
  {
   "cell_type": "markdown",
   "id": "bb5a5c53-9041-4cf0-a262-85612c9906ba",
   "metadata": {},
   "source": [
    "Utiliza las funciones de concatenar, + y repetir strings, *, junto con la función print() para dados los siguientes strings s1, s2, s3 y s4, conseguir el resultado siguiente: Había una vez, un barquito chiquitito. Había una vez, un barquito chiquitito que no podía, que no podía, que no podía navegar"
   ]
  },
  {
   "cell_type": "code",
   "execution_count": 1,
   "id": "5fcb6c5b-1994-498f-a07a-03215ef1ff28",
   "metadata": {
    "tags": []
   },
   "outputs": [
    {
     "name": "stdout",
     "output_type": "stream",
     "text": [
      "Había una vez, un barquito chiquitito Había una vez, un barquito chiquitito que no podía, que no podía, que no podía navegar.\n"
     ]
    }
   ],
   "source": [
    "s1 = \"Había una vez, \"\n",
    "s2 = \"un barquito chiquitito \"\n",
    "s3 = \"que no podía, \"\n",
    "s4 = \"que no podía navegar.\"\n",
    "\n",
    "print((s1 + s2)*2 +(s3 * 2) + s4 )"
   ]
  },
  {
   "cell_type": "markdown",
   "id": "95b010c4-a564-4168-960e-3f11cde70d3e",
   "metadata": {},
   "source": [
    "--- \n",
    "\n",
    "## Ejercicio 2\n",
    "\n",
    "Utiliza la función print() y el comando de salto de línea, \\n, para reproducir exactamente el siguiente texto:\n",
    "\n",
    "\n",
    "```\n",
    "Érase un hombre a una nariz pegado,\n",
    "Érase una nariz superlativa,\n",
    "Érase una alquitara medio viva,\n",
    "Érase un peje espada mal barbado\n",
    "```"
   ]
  },
  {
   "cell_type": "code",
   "execution_count": 2,
   "id": "a7b5a6ae-ba1c-4920-b32f-b53e08aeb7e2",
   "metadata": {
    "tags": []
   },
   "outputs": [
    {
     "name": "stdout",
     "output_type": "stream",
     "text": [
      "Érase un hombre a una nariz pegado,\n",
      "Érase una nariz superlativa,\n",
      "Érase una alquitara medio viva,\n",
      "Érase un peje espada mal barbado\n"
     ]
    }
   ],
   "source": [
    "print(\"Érase un hombre a una nariz pegado,\\nÉrase una nariz superlativa,\\nÉrase una alquitara medio viva,\\nÉrase un peje espada mal barbado\")"
   ]
  },
  {
   "cell_type": "markdown",
   "id": "978aef35-6730-4a9b-8a68-8e21d082874f",
   "metadata": {
    "tags": []
   },
   "source": [
    "--- \n",
    "\n",
    "# Ejercicio 3\n",
    "ransforma el siguiente string s a mayúsculas y muéstralo por pantalla con la función print():\n",
    "\n",
    "s = \"me encantan las matemáticas\"\n"
   ]
  },
  {
   "cell_type": "code",
   "execution_count": 4,
   "id": "ecf2d0f4-9520-4e63-830f-796481c08eed",
   "metadata": {
    "tags": []
   },
   "outputs": [
    {
     "name": "stdout",
     "output_type": "stream",
     "text": [
      "ME ENCANTAN LAS MATEMÁTICAS\n"
     ]
    }
   ],
   "source": [
    "\n",
    "s = \"me encantan las matemáticas\" \n",
    "print(s.upper())"
   ]
  },
  {
   "cell_type": "markdown",
   "id": "c42774f7-f86d-46e8-b7aa-25fdfe5eb46d",
   "metadata": {},
   "source": [
    "---\n",
    "### Ejercicio 4\n",
    "Calcula la longitud del string s\n",
    "s = \"Mi pasión por el chocolate es superior a mis fuerzas\""
   ]
  },
  {
   "cell_type": "code",
   "execution_count": 8,
   "id": "c7f92dcd-b1a6-4b2f-b2f3-837d50c53aba",
   "metadata": {
    "tags": []
   },
   "outputs": [
    {
     "name": "stdout",
     "output_type": "stream",
     "text": [
      "52\n"
     ]
    }
   ],
   "source": [
    "s = \"Mi pasión por el chocolate es superior a mis fuerzas\"\n",
    "print(len(s))"
   ]
  },
  {
   "cell_type": "markdown",
   "id": "f926a7f0-ecb8-4f84-9a52-b00e767a4c2f",
   "metadata": {},
   "source": [
    "---\n",
    "### Ejercicio 5\n",
    "Del string s del ejercicio anterior, obtén el substring chocolate y guárdalo en una variable llamada s_sub.\n",
    "No vale contar, deberás hallar los índices del substring con el método .find() (o el que mejor consideres) y\n",
    "la función len().\n",
    "Finalmente, imprime tu resultado por pantalla"
   ]
  },
  {
   "cell_type": "code",
   "execution_count": 9,
   "id": "ca95f82c-cd86-40f9-975e-b844ba98e5fc",
   "metadata": {
    "tags": []
   },
   "outputs": [
    {
     "name": "stdout",
     "output_type": "stream",
     "text": [
      "17\n"
     ]
    }
   ],
   "source": [
    "s_sub = s.find(\"chocolate\")\n",
    "print(s_sub)"
   ]
  },
  {
   "cell_type": "code",
   "execution_count": 11,
   "id": "7affe535-11b3-4646-8828-23a4c7097243",
   "metadata": {
    "tags": []
   },
   "outputs": [
    {
     "name": "stdout",
     "output_type": "stream",
     "text": [
      "chocolate\n"
     ]
    }
   ],
   "source": [
    "s_sub = s[s_sub:s_sub + len(\"chocolate\")]\n",
    "print(s_sub)"
   ]
  },
  {
   "cell_type": "markdown",
   "id": "973cabac-691c-44f0-80a6-c5b76b42ad9b",
   "metadata": {},
   "source": [
    "---\n",
    "\n",
    "### Ejercicio 6\n",
    "Con la función input(), indícale al usuario que introduzca su nombre y guárdalo en la variable llamada\n",
    "nombre"
   ]
  },
  {
   "cell_type": "code",
   "execution_count": 12,
   "id": "02b4d0d4-2e06-4411-bb74-2c2dddf1ff98",
   "metadata": {
    "tags": []
   },
   "outputs": [
    {
     "name": "stdin",
     "output_type": "stream",
     "text": [
      "Ingrese su nombre yakin\n"
     ]
    }
   ],
   "source": [
    "nombre = input(\"Ingrese su nombre\")"
   ]
  },
  {
   "cell_type": "markdown",
   "id": "6a8857da-9e2d-4312-84d8-db5ab3ee8280",
   "metadata": {},
   "source": [
    "Con la función input(), indícale al usuario que introduzca su apellido y guárdalo en la variable llamada\n",
    "apellido"
   ]
  },
  {
   "cell_type": "code",
   "execution_count": 13,
   "id": "1587e3b8-7acf-4f6d-a8d6-ecc7d73676f1",
   "metadata": {
    "tags": []
   },
   "outputs": [
    {
     "name": "stdin",
     "output_type": "stream",
     "text": [
      "Ingrese su apellido mendez\n"
     ]
    }
   ],
   "source": [
    "apellido = input(\"Ingrese su apellido\") "
   ]
  },
  {
   "cell_type": "markdown",
   "id": "fbc541be-b3c3-4603-9f24-f50e758dc804",
   "metadata": {},
   "source": [
    "Con la función input(), indícale al usuario que introduzca su edad y guárdala en la variable llamada edad.\n",
    "¡Ojo con el tipo de dato!"
   ]
  },
  {
   "cell_type": "code",
   "execution_count": 14,
   "id": "d070178c-e477-439f-ad36-ea23d87f3d1c",
   "metadata": {
    "tags": []
   },
   "outputs": [
    {
     "name": "stdin",
     "output_type": "stream",
     "text": [
      "Ingrese su edad 26\n"
     ]
    }
   ],
   "source": [
    "edad = str(input(\"Ingrese su edad\"))"
   ]
  },
  {
   "cell_type": "markdown",
   "id": "8f842b40-4a73-423f-a377-759b5fd7a326",
   "metadata": {},
   "source": [
    "Con la función input(), indícale al usuario que introduzca la ciudad en la que vive y guárdala en la variable\n",
    "llamada ciudad."
   ]
  },
  {
   "cell_type": "code",
   "execution_count": 15,
   "id": "455aae6f-fec8-41d5-93d5-adbf749d8ea5",
   "metadata": {
    "tags": []
   },
   "outputs": [
    {
     "name": "stdin",
     "output_type": "stream",
     "text": [
      "Que ciudad vives? Vallarta\n"
     ]
    }
   ],
   "source": [
    "ciudad = input(\"Que ciudad vives?\")"
   ]
  },
  {
   "cell_type": "markdown",
   "id": "2ea3782a-205b-4c8a-811b-dce0a43f0888",
   "metadata": {},
   "source": [
    "Con lo hecho en los ejercicios 6, 7, 8 y 9, imprime por pantalla todos los datos introducidos por el usuario\n",
    "tal y como se muestra en el siguiente ejemplo, donde el usuario ha indicado que su nombre es María; su\n",
    "apellido, Santos; su edad, 21; y su ciudad, Palma de Mallorca."
   ]
  },
  {
   "cell_type": "code",
   "execution_count": 16,
   "id": "694eab3f-0440-41e2-8fb0-d7cecee4c6e6",
   "metadata": {
    "tags": []
   },
   "outputs": [
    {
     "name": "stdout",
     "output_type": "stream",
     "text": [
      "Su nombre es yakin, tiene mendez y actualmente vive en 26\n"
     ]
    }
   ],
   "source": [
    "print(\"Su nombre es {}, tiene {} y actualmente vive en {}\".format(nombre,apellido,edad,ciudad))"
   ]
  },
  {
   "cell_type": "code",
   "execution_count": null,
   "id": "a7cf6397-ac8c-41d2-a0f5-59ddcc900c27",
   "metadata": {},
   "outputs": [],
   "source": []
  }
 ],
 "metadata": {
  "kernelspec": {
   "display_name": "Python 3 (ipykernel)",
   "language": "python",
   "name": "python3"
  },
  "language_info": {
   "codemirror_mode": {
    "name": "ipython",
    "version": 3
   },
   "file_extension": ".py",
   "mimetype": "text/x-python",
   "name": "python",
   "nbconvert_exporter": "python",
   "pygments_lexer": "ipython3",
   "version": "3.11.5"
  }
 },
 "nbformat": 4,
 "nbformat_minor": 5
}
