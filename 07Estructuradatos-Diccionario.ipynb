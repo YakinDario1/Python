{
 "cells": [
  {
   "cell_type": "markdown",
   "id": "80a4c0d6-b3bf-4b1e-8d68-969c3694ca4e",
   "metadata": {},
   "source": [
    "# Estructuras de datos: Diccionarios\n",
    "\n",
    "## Diccionario\n",
    "\n",
    "La segunda estructura de datos que veremos son los **diccionarios**. Éstos son un conjunto de elementos no ordenados escritos entre llaves, `{}`, que constan de claves y valores. \n",
    "\n",
    "Cada conjunto `clave: valor` es separado por comas. Las claves funcionan como identificadores y preceden a `:`. A continuación van los valores, que son elementos (numéricos, booleanos, strings, listas, diccionarios...) asociados a esa clave. \n",
    "\n",
    "Los diccionarios, al igual que las listas, son:\n",
    "- hetereogéneos: los elementos pueden ser de distinto tipo en un mismo diccionario\n",
    "- mutables: los elementos pueden ser modificados\n",
    "\n",
    "Un ejemplo de diccionario sería"
   ]
  },
  {
   "cell_type": "code",
   "execution_count": 1,
   "id": "0df98349-84f8-47e2-b1f4-12a8215c77fc",
   "metadata": {
    "tags": []
   },
   "outputs": [
    {
     "name": "stdout",
     "output_type": "stream",
     "text": [
      "{'Jose': 32, 'Marina': 21}\n"
     ]
    }
   ],
   "source": [
    "dicc = {\"Jose\": 32, \"Marina\": 21}\n",
    "print(dicc)"
   ]
  },
  {
   "cell_type": "markdown",
   "id": "ea6b0fa4-fe7d-4d5e-932e-8f5140c587c8",
   "metadata": {},
   "source": [
    "**¡Cuidado!** En `Python`, las claves de un diccionario deben ser únicas. Esto es, no puede haber dos claves que sean exactamente iguales. Si se da que hay dos claves iguales, entonces `Python` se queda con el último valor asociado a dicha clave."
   ]
  },
  {
   "cell_type": "code",
   "execution_count": 2,
   "id": "2d74a212-72df-4216-9e32-8654b8d33b3e",
   "metadata": {
    "tags": []
   },
   "outputs": [
    {
     "name": "stdout",
     "output_type": "stream",
     "text": [
      "{'Jose': 23, 'Marina': 21}\n"
     ]
    }
   ],
   "source": [
    "dicc = {\"Jose\": 32,\n",
    "        \"Marina\": 21,\n",
    "        \"Jose\": 23}\n",
    "print(dicc)"
   ]
  },
  {
   "cell_type": "code",
   "execution_count": 4,
   "id": "7ebbe0c2-b793-4c3a-bbf1-185a937cc9f4",
   "metadata": {},
   "outputs": [
    {
     "data": {
      "text/plain": [
       "{'Jose': 32, 'Marina': 21, 'Elena': 10}"
      ]
     },
     "execution_count": 4,
     "metadata": {},
     "output_type": "execute_result"
    }
   ],
   "source": [
    "dicc = {\"Jose\": 32,\n",
    "        \"Marina\": 21,\n",
    "        \"Elena\": 10}\n",
    "dicc"
   ]
  },
  {
   "cell_type": "code",
   "execution_count": 5,
   "id": "966bf692-8e74-436a-8e3b-3340fedd61b6",
   "metadata": {
    "tags": []
   },
   "outputs": [
    {
     "name": "stdout",
     "output_type": "stream",
     "text": [
      "{'Jose': 32, 'Marina': 21, 'Elena': 10}\n"
     ]
    }
   ],
   "source": [
    "print(dicc)\n"
   ]
  },
  {
   "cell_type": "code",
   "execution_count": 6,
   "id": "28b224a5-25ab-47b0-a7e0-ee7d063dcf77",
   "metadata": {
    "tags": []
   },
   "outputs": [
    {
     "data": {
      "text/plain": [
       "{'Alba': 2, 7: 'a', -5: 'b', 'Javi': 28}"
      ]
     },
     "execution_count": 6,
     "metadata": {},
     "output_type": "execute_result"
    }
   ],
   "source": [
    "dicc = {\"Alba\": 2, 7: \"a\", -5: \"b\", \"Javi\": 28}\n",
    "dicc"
   ]
  },
  {
   "cell_type": "code",
   "execution_count": 7,
   "id": "25f9fd91-537b-41fc-98ad-9e27f6a54642",
   "metadata": {
    "tags": []
   },
   "outputs": [
    {
     "name": "stdout",
     "output_type": "stream",
     "text": [
      "{'Alba': 2, 7: 'a', -5: 'b', 'Javi': 28}\n"
     ]
    }
   ],
   "source": [
    "print(dicc)"
   ]
  },
  {
   "cell_type": "markdown",
   "id": "9b2cd629-ef50-4d96-aba7-bbc75331f1dd",
   "metadata": {},
   "source": [
    "--- \n",
    "### Elementos de un diccionario\n",
    "\n",
    "Anteriormente se ha comentado que los diccionarios no tienen orden. De modo que a sus elementos no se accede por posición, sino que debemos hacerlo mediante sus claves.\n",
    "\n",
    "La sintaxis es `diccionario[clave]`"
   ]
  },
  {
   "cell_type": "code",
   "execution_count": 1,
   "id": "db9735a5-216b-4e05-b1f1-0450a7188246",
   "metadata": {
    "tags": []
   },
   "outputs": [
    {
     "data": {
      "text/plain": [
       "['Ana', 'Borja', 'Carmen']"
      ]
     },
     "execution_count": 1,
     "metadata": {},
     "output_type": "execute_result"
    }
   ],
   "source": [
    "dicc = {\n",
    "    \"names\": [\"Ana\", \"Borja\", \"Carmen\"],\n",
    "    \"ages\" : [31, 25, 16]\n",
    "    }\n",
    "dicc[\"names\"]"
   ]
  },
  {
   "cell_type": "markdown",
   "id": "9d51cd06-ff9e-4abc-8774-ea14763c0551",
   "metadata": {},
   "source": [
    "Poemos acceder a todas las claves de un diccionario con el método `.keys()`\n"
   ]
  },
  {
   "cell_type": "code",
   "execution_count": 2,
   "id": "4529d847-93fe-4b96-8f04-1b8efc90b4ca",
   "metadata": {
    "tags": []
   },
   "outputs": [
    {
     "data": {
      "text/plain": [
       "dict_keys(['names', 'ages'])"
      ]
     },
     "execution_count": 2,
     "metadata": {},
     "output_type": "execute_result"
    }
   ],
   "source": [
    "dicc.keys()"
   ]
  },
  {
   "cell_type": "markdown",
   "id": "8467f919-7739-4445-984b-3c2dbdbaca40",
   "metadata": {},
   "source": [
    "También podemos acceder a todos los valores de un diccionario con el método `.values()`"
   ]
  },
  {
   "cell_type": "code",
   "execution_count": 3,
   "id": "7a0d6eff-b216-4c75-9e6a-bc3bbc15d0e2",
   "metadata": {
    "tags": []
   },
   "outputs": [
    {
     "data": {
      "text/plain": [
       "dict_values([['Ana', 'Borja', 'Carmen'], [31, 25, 16]])"
      ]
     },
     "execution_count": 3,
     "metadata": {},
     "output_type": "execute_result"
    }
   ],
   "source": [
    "dicc.values()"
   ]
  },
  {
   "cell_type": "markdown",
   "id": "73fa0c39-0037-4b8f-a138-3e2c77c9736f",
   "metadata": {},
   "source": [
    "Al ser una estructura mutable, podemos modificar los valores de los diccionarios"
   ]
  },
  {
   "cell_type": "code",
   "execution_count": 4,
   "id": "7e3a6255-8a39-451b-84f8-ac2eafbc1f3d",
   "metadata": {
    "tags": []
   },
   "outputs": [
    {
     "name": "stdout",
     "output_type": "stream",
     "text": [
      "{'names': ['David', 'Emilia', 'Fernando'], 'ages': [31, 25, 36]}\n"
     ]
    }
   ],
   "source": [
    "dicc = {\"names\": [\"Ana\", \"Borja\", \"Carmen\"],\n",
    "        \"ages\": [31, 25, 16]}\n",
    "dicc[\"names\"] = [\"David\", \"Emilia\", \"Fernando\"]\n",
    "dicc[\"ages\"][2] = 36\n",
    "print(dicc)"
   ]
  },
  {
   "cell_type": "markdown",
   "id": "8d73a2f0-d542-4dfd-ac6f-4e73691b7358",
   "metadata": {},
   "source": [
    "También podríamos partir de un diccionario vacío e ir introduciéndole valores asociados a claves. De hecho, podemos hasta pedirle a un usuario que introduzca él los datos."
   ]
  },
  {
   "cell_type": "code",
   "execution_count": 5,
   "id": "8fe38b8b-dc1d-47db-8f8c-63aa68a9488a",
   "metadata": {
    "tags": []
   },
   "outputs": [
    {
     "name": "stdout",
     "output_type": "stream",
     "text": [
      "Introduzca su nombre:\n"
     ]
    },
    {
     "name": "stdin",
     "output_type": "stream",
     "text": [
      " Yakin\n"
     ]
    },
    {
     "name": "stdout",
     "output_type": "stream",
     "text": [
      "Introduzca su edad:\n"
     ]
    },
    {
     "name": "stdin",
     "output_type": "stream",
     "text": [
      " 27\n"
     ]
    },
    {
     "name": "stdout",
     "output_type": "stream",
     "text": [
      "¿Es usted una mujer? Responda f en caso afirmativo y m en caso contrario\n"
     ]
    },
    {
     "name": "stdin",
     "output_type": "stream",
     "text": [
      " m\n"
     ]
    },
    {
     "name": "stdout",
     "output_type": "stream",
     "text": [
      "{'name': 'Yakin', 'age': 27, 'gender': 'male'}\n"
     ]
    }
   ],
   "source": [
    "ficha_usuario = {}\n",
    "print(\"Introduzca su nombre:\")\n",
    "ficha_usuario[\"name\"] = str(input())\n",
    "print(\"Introduzca su edad:\")\n",
    "ficha_usuario[\"age\"] = int(input())\n",
    "print(\"¿Es usted una mujer? Responda f en caso afirmativo y m en caso contrario\")\n",
    "ficha_usuario[\"gender\"] = \"female\" if input() == \"f\" else \"male\"\n",
    "print(ficha_usuario)"
   ]
  },
  {
   "cell_type": "markdown",
   "id": "cd0168ef-5998-42d9-89d2-e343309f5b15",
   "metadata": {},
   "source": [
    "---\n",
    "# Ejercicio\n",
    "\n",
    "Vamos a hacer que el usuario rellene una ficha del cliente y vamos a guardar toda la información en un diccionario. Para ello, vamos a pedir el nombre, los apellidos, la edad, el dni y el dinero total que va a pagar el cliente."
   ]
  },
  {
   "cell_type": "code",
   "execution_count": 7,
   "id": "f6bcd708-7cf4-4280-958a-9ea094e15252",
   "metadata": {
    "tags": []
   },
   "outputs": [
    {
     "name": "stdout",
     "output_type": "stream",
     "text": [
      "Introdusca el nombre del cliente: \n"
     ]
    },
    {
     "name": "stdin",
     "output_type": "stream",
     "text": [
      " Yakin\n"
     ]
    },
    {
     "name": "stdout",
     "output_type": "stream",
     "text": [
      "Introdusca el apellido del cliente: \n"
     ]
    },
    {
     "name": "stdin",
     "output_type": "stream",
     "text": [
      " Mendez\n"
     ]
    },
    {
     "name": "stdout",
     "output_type": "stream",
     "text": [
      "Introdusca el edad del cliente: \n"
     ]
    },
    {
     "name": "stdin",
     "output_type": "stream",
     "text": [
      " 27\n"
     ]
    },
    {
     "name": "stdout",
     "output_type": "stream",
     "text": [
      "Introdusca el DNI del cliente: \n"
     ]
    },
    {
     "name": "stdin",
     "output_type": "stream",
     "text": [
      " MEMY961215\n"
     ]
    },
    {
     "name": "stdout",
     "output_type": "stream",
     "text": [
      "Introdusca el Total a pagar \n"
     ]
    },
    {
     "name": "stdin",
     "output_type": "stream",
     "text": [
      " 25\n"
     ]
    }
   ],
   "source": [
    "cliente = {}\n",
    "print(\"Introdusca el nombre del cliente: \")\n",
    "cliente[\"name\"] = str(input())\n",
    "print(\"Introdusca el apellido del cliente: \")\n",
    "cliente[\"apellido\"] = str(input())\n",
    "print(\"Introdusca el edad del cliente: \")\n",
    "cliente[\"edad\"] = int(input())\n",
    "print(\"Introdusca el DNI del cliente: \")\n",
    "cliente[\"DNI\"] = str(input())\n",
    "print(\"Introdusca el Total a pagar \")\n",
    "cliente[\"total\"] = str(input())"
   ]
  },
  {
   "cell_type": "code",
   "execution_count": 9,
   "id": "9df9c6dd-9aea-4694-a88e-e735ee91e065",
   "metadata": {
    "tags": []
   },
   "outputs": [
    {
     "name": "stdout",
     "output_type": "stream",
     "text": [
      "{'name': 'Yakin', 'apellido': 'Mendez', 'edad': 27, 'DNI': 'MEMY961215', 'total': '25'}\n"
     ]
    }
   ],
   "source": [
    "print(cliente)"
   ]
  },
  {
   "cell_type": "markdown",
   "id": "a6d033b4-aba8-4836-9eb2-f215b41885c6",
   "metadata": {},
   "source": [
    "--- \n",
    "### Tamaño de un diccionario\n",
    "\n",
    "Para saber cuántos elementos contiene un diccionario, podemos usar la función `len()`del siguiente modo:"
   ]
  },
  {
   "cell_type": "code",
   "execution_count": 2,
   "id": "34095e06-d23b-4a67-aa75-5ce01e2cfcc5",
   "metadata": {
    "tags": []
   },
   "outputs": [
    {
     "name": "stdout",
     "output_type": "stream",
     "text": [
      "3\n"
     ]
    }
   ],
   "source": [
    "dicc = {\"fruit\": [\"Manzana\", \"Pera\", \"Naranja\"],\n",
    "        \"price\": [2, 1.5, 1],\n",
    "        \"color\": [\"roja\", \"verde\", \"naranja\"]}\n",
    "        \n",
    "print(len(dicc))"
   ]
  },
  {
   "cell_type": "markdown",
   "id": "e052c6fe-a80b-48c0-bb08-81e012ac3a3a",
   "metadata": {},
   "source": [
    "## Bucles y diccionarios\n",
    "\n",
    "Para recorrer todo el diccionario, podemos hacer uso de un bucle `for`, pues el diccionario es una estructura iterable:"
   ]
  },
  {
   "cell_type": "code",
   "execution_count": 3,
   "id": "c57edfbf-ef6b-48ea-98f6-a55448ba7804",
   "metadata": {
    "tags": []
   },
   "outputs": [
    {
     "name": "stdout",
     "output_type": "stream",
     "text": [
      "username : yakindario\n",
      "name : Yakin\n",
      "age : 22\n",
      "city : PUerto Vallarta\n"
     ]
    }
   ],
   "source": [
    "dicc = {\"username\": \"yakindario\",\n",
    "        \"name\": \"Yakin\",\n",
    "        \"age\": 22,\n",
    "        \"city\": \"PUerto Vallarta\"}\n",
    "\n",
    "for key in dicc:\n",
    "  print(key, \":\", dicc[key])"
   ]
  },
  {
   "cell_type": "markdown",
   "id": "616bf7aa-0ae3-49b2-9a86-823f694028af",
   "metadata": {},
   "source": [
    "### Convertir a Tuplas "
   ]
  },
  {
   "cell_type": "code",
   "execution_count": 4,
   "id": "dd8a2810-acfa-4ee5-9334-e865b326faab",
   "metadata": {
    "tags": []
   },
   "outputs": [
    {
     "data": {
      "text/plain": [
       "dict_items([('username', 'yakindario'), ('name', 'Yakin'), ('age', 22), ('city', 'PUerto Vallarta')])"
      ]
     },
     "execution_count": 4,
     "metadata": {},
     "output_type": "execute_result"
    }
   ],
   "source": [
    "dicc.items()"
   ]
  },
  {
   "cell_type": "code",
   "execution_count": 5,
   "id": "2054dc59-bd15-4d37-b2a9-bb3b2eb96037",
   "metadata": {
    "tags": []
   },
   "outputs": [
    {
     "name": "stdout",
     "output_type": "stream",
     "text": [
      "('username', 'yakindario')\n",
      "('name', 'Yakin')\n",
      "('age', 22)\n",
      "('city', 'PUerto Vallarta')\n"
     ]
    }
   ],
   "source": [
    "for item in dicc.items():\n",
    "  print(item)"
   ]
  },
  {
   "cell_type": "markdown",
   "id": "cab704ce-10a9-436d-aa77-38810b6fcafa",
   "metadata": {},
   "source": [
    "Tuplas, ver las clave y valor separado "
   ]
  },
  {
   "cell_type": "code",
   "execution_count": 6,
   "id": "f4da184f-c77a-493d-be2e-f7347aca8d68",
   "metadata": {
    "tags": []
   },
   "outputs": [
    {
     "name": "stdout",
     "output_type": "stream",
     "text": [
      "username : yakindario\n",
      "name : Yakin\n",
      "age : 22\n",
      "city : PUerto Vallarta\n"
     ]
    }
   ],
   "source": [
    "for key, value in dicc.items():\n",
    "  print(key, \":\", value)"
   ]
  },
  {
   "cell_type": "markdown",
   "id": "97ef5714-1677-402c-8972-c6cb6a9be1b2",
   "metadata": {},
   "source": [
    "## Diccionarios y listas\n",
    "\n",
    "Como se ha mencionado antes, un diccionario puede contener listas u otros diccionarios. Por su parte, una lista también puede contener diccionarios:"
   ]
  },
  {
   "cell_type": "code",
   "execution_count": 7,
   "id": "a42b1af7-666e-44b3-bcec-e40f44cdc448",
   "metadata": {
    "tags": []
   },
   "outputs": [
    {
     "name": "stdout",
     "output_type": "stream",
     "text": [
      "{'name': 'Elisa', 'age': 30, 'gender': 'female', 'ID': [4, 4, 2, 1, 5, 6, 7, 2, 'L'], 'user&password': {'username': 'eli88', 'password': '1234catsareawesome'}}\n",
      "{'name': 'Henry', 'age': 27, 'gender': 'male', 'ID': [1, 1, 0, 1, 3, 8, 6, 9, 'A'], 'user&password': {'username': 'superhenry', 'password': '1432superme'}}\n"
     ]
    }
   ],
   "source": [
    "dicc_1 = {\"name\": \"Elisa\",\n",
    "        \"age\": 30,\n",
    "        \"gender\": \"female\",\n",
    "        \"ID\": [4, 4, 2, 1, 5, 6, 7, 2, \"L\"],\n",
    "        \"user&password\": {\n",
    "            \"username\": \"eli88\",\n",
    "            \"password\": \"1234catsareawesome\"\n",
    "            }\n",
    "          }\n",
    "dicc_2 = {\"name\": \"Henry\",\n",
    "        \"age\": 27,\n",
    "        \"gender\": \"male\",\n",
    "        \"ID\": [1, 1, 0, 1, 3, 8, 6, 9, \"A\"],\n",
    "        \"user&password\": {\n",
    "            \"username\": \"superhenry\",\n",
    "            \"password\": \"1432superme\"\n",
    "            }\n",
    "          }\n",
    "lista = [dicc_1, dicc_2]\n",
    "\n",
    "for item in lista:\n",
    "  print(item)"
   ]
  },
  {
   "cell_type": "markdown",
   "id": "b5966cc6-bbf0-4f38-8dc5-cf129c49ce9f",
   "metadata": {},
   "source": [
    "---\n",
    "# Ejercicio\n",
    "\n",
    "Tenemos un diccionario con 5 claves: `Math`, `English`, `History`, `Science`, `IT`. Cada clave contiene una lista de tamaño 3, donde cada una de esas entradas se corresponde con una nota de 0 a 10. El usuario va a ser quien introduzca esas notas por teclado. Finalmente, para cada clave, mostraremos la media de las 3 notas.\n",
    "\n",
    "PISTA: Necesitarás la función `sum()`."
   ]
  },
  {
   "cell_type": "code",
   "execution_count": 9,
   "id": "14eeb9d3-2317-45dc-aaca-f24a8680818f",
   "metadata": {
    "tags": []
   },
   "outputs": [
    {
     "name": "stdout",
     "output_type": "stream",
     "text": [
      "***  Math  ***\n"
     ]
    },
    {
     "name": "stdin",
     "output_type": "stream",
     "text": [
      "Nota del trimestre 1 9\n",
      "Nota del trimestre 2 8\n",
      "Nota del trimestre 3 9\n"
     ]
    },
    {
     "name": "stdout",
     "output_type": "stream",
     "text": [
      "***  English  ***\n"
     ]
    },
    {
     "name": "stdin",
     "output_type": "stream",
     "text": [
      "Nota del trimestre 1 5\n",
      "Nota del trimestre 2 6\n",
      "Nota del trimestre 3 2\n"
     ]
    },
    {
     "name": "stdout",
     "output_type": "stream",
     "text": [
      "***  History  ***\n"
     ]
    },
    {
     "name": "stdin",
     "output_type": "stream",
     "text": [
      "Nota del trimestre 1 9\n",
      "Nota del trimestre 2 8\n",
      "Nota del trimestre 3 5\n"
     ]
    },
    {
     "name": "stdout",
     "output_type": "stream",
     "text": [
      "***  Science  ***\n"
     ]
    },
    {
     "name": "stdin",
     "output_type": "stream",
     "text": [
      "Nota del trimestre 1 5\n",
      "Nota del trimestre 2 5\n",
      "Nota del trimestre 3 5\n"
     ]
    },
    {
     "name": "stdout",
     "output_type": "stream",
     "text": [
      "***  IT  ***\n"
     ]
    },
    {
     "name": "stdin",
     "output_type": "stream",
     "text": [
      "Nota del trimestre 1 5\n",
      "Nota del trimestre 2 9\n",
      "Nota del trimestre 3 9\n"
     ]
    },
    {
     "name": "stdout",
     "output_type": "stream",
     "text": [
      "/n Medias por asignatrura: \n",
      "Math : 8.666666666666666\n",
      "English : 4.333333333333333\n",
      "History : 7.333333333333333\n",
      "Science : 5.0\n",
      "IT : 7.666666666666667\n"
     ]
    }
   ],
   "source": [
    "subjects = {\"Math\":[],\n",
    "           \"English\": [],\n",
    "           \"History\": [],\n",
    "           \"Science\": [],\n",
    "           \"IT\": []}\n",
    "for key in subjects:\n",
    "    print(\"*** \",key, \" ***\")\n",
    "    for i  in range(1, 4):\n",
    "        subjects[key].append(int(input(f\"Nota del trimestre {i}\")))\n",
    "\n",
    "        \n",
    "print(\"/n Medias por asignatrura: \")\n",
    "for key, val in subjects.items():\n",
    "    print(key, \":\", sum(val)/len(val))\n",
    "    "
   ]
  },
  {
   "cell_type": "markdown",
   "id": "ee0b37db-8223-4307-9a89-186eb7152133",
   "metadata": {},
   "source": [
    "---\n",
    "## Más métodos de diccionarios\n",
    "\n",
    "El método `.clear()` elimina todos los elementos del diccionario dejándolo vacío."
   ]
  },
  {
   "cell_type": "code",
   "execution_count": 10,
   "id": "d7916f98-3a91-4fef-8339-1fe3d71e746d",
   "metadata": {
    "tags": []
   },
   "outputs": [
    {
     "name": "stdout",
     "output_type": "stream",
     "text": [
      "{'a': 4, 'b': 3, 'c': 2, 'd': 1}\n",
      "{}\n"
     ]
    }
   ],
   "source": [
    "dicc = {\"a\": 4, \"b\": 3, \"c\": 2, \"d\": 1}\n",
    "print(dicc)\n",
    "\n",
    "dicc.clear()\n",
    "print(dicc)"
   ]
  },
  {
   "cell_type": "markdown",
   "id": "4dfe2c94-772d-419a-ad94-259b3ac3c234",
   "metadata": {},
   "source": [
    "El método `.copy()` devuelve una copia del diccionario original."
   ]
  },
  {
   "cell_type": "code",
   "execution_count": 11,
   "id": "47f6d7fb-0860-4ec4-a8f8-7e3a0c6756cf",
   "metadata": {
    "tags": []
   },
   "outputs": [
    {
     "name": "stdout",
     "output_type": "stream",
     "text": [
      "{'a': 4, 'b': 3, 'c': 2, 'd': 1}\n"
     ]
    }
   ],
   "source": [
    "dicc = {\"a\": 4, \"b\": 3, \"c\": 2, \"d\": 1}\n",
    "dicc_copy = dicc.copy()\n",
    "\n",
    "print(dicc_copy)"
   ]
  },
  {
   "cell_type": "markdown",
   "id": "ac42a837-acde-4966-b193-ebe47e091fd4",
   "metadata": {},
   "source": [
    "El método .fromkeys() recibe como parámetros un iterable y un valor y devuelve un diccionario que contiene como claves los elementos del iterable con el mismo valor ingresado."
   ]
  },
  {
   "cell_type": "code",
   "execution_count": 12,
   "id": "ffb24e3d-41d2-4e4c-9cf5-7a6c3d62582c",
   "metadata": {
    "tags": []
   },
   "outputs": [
    {
     "name": "stdout",
     "output_type": "stream",
     "text": [
      "{'a': [1, 2, 3, 4], 'b': [1, 2, 3, 4], 'c': [1, 2, 3, 4], 'd': [1, 2, 3, 4], 'e': [1, 2, 3, 4]}\n"
     ]
    }
   ],
   "source": [
    "dicc = dict.fromkeys([\"a\", \"b\", \"c\", \"d\", \"e\"], [1, 2, 3, 4])\n",
    "print(dicc)"
   ]
  },
  {
   "cell_type": "markdown",
   "id": "2a375ac3-4b60-49c7-8113-f027a39eb14c",
   "metadata": {},
   "source": [
    "none"
   ]
  },
  {
   "cell_type": "code",
   "execution_count": 13,
   "id": "a15c74c9-aa5a-43f1-b50a-b86877cfd4af",
   "metadata": {
    "tags": []
   },
   "outputs": [
    {
     "name": "stdout",
     "output_type": "stream",
     "text": [
      "{'a': None, 'b': None, 'c': None, 'd': None, 'e': None}\n"
     ]
    }
   ],
   "source": [
    "dicc = dict.fromkeys([\"a\", \"b\", \"c\", \"d\", \"e\"])\n",
    "print(dicc)"
   ]
  },
  {
   "cell_type": "markdown",
   "id": "d3312fd2-d0a6-4cbd-97ae-dd1742fed4a8",
   "metadata": {},
   "source": [
    "El método `.get()` recibe como parámetro una clave y devuelve el valor de dicha clave. "
   ]
  },
  {
   "cell_type": "code",
   "execution_count": 15,
   "id": "10754610-5f33-4d11-ac65-b665cc5dc033",
   "metadata": {
    "tags": []
   },
   "outputs": [
    {
     "name": "stdout",
     "output_type": "stream",
     "text": [
      "2\n"
     ]
    }
   ],
   "source": [
    "dicc = {\"a\": 1, \"e\": 2, \"i\": 3, \"o\": 4, \"u\": 5}\n",
    "print(dicc.get(\"e\"))"
   ]
  },
  {
   "cell_type": "markdown",
   "id": "e9d810c8-e7a4-4857-9baa-264f6f0dfe4d",
   "metadata": {},
   "source": [
    "El método `.pop()` recibe como parámetro una clave, la elimina y devuelve su valor. "
   ]
  },
  {
   "cell_type": "code",
   "execution_count": 16,
   "id": "03661deb-aa3a-40bc-8f04-00eae6e16113",
   "metadata": {
    "tags": []
   },
   "outputs": [
    {
     "name": "stdout",
     "output_type": "stream",
     "text": [
      "{'a': 1, 'e': 2, 'i': 3, 'o': 4, 'u': 5}\n",
      "3\n",
      "{'a': 1, 'e': 2, 'o': 4, 'u': 5}\n"
     ]
    }
   ],
   "source": [
    "dicc = {\"a\": 1, \"e\": 2, \"i\": 3, \"o\": 4, \"u\": 5}\n",
    "print(dicc)\n",
    "\n",
    "print(dicc.pop(\"i\"))\n",
    "print(dicc)"
   ]
  },
  {
   "cell_type": "markdown",
   "id": "100ae79e-181b-4f6e-b098-99bd6582bcfa",
   "metadata": {},
   "source": [
    "El método `.setdefault()` puede funcionar de dos formas:\n",
    "\n",
    "- Como el método `.get()`\n",
    "- Para agregar un nuevo elemento al diccionario.u"
   ]
  },
  {
   "cell_type": "code",
   "execution_count": 17,
   "id": "de484e75-3189-4881-89b2-5400a100c04c",
   "metadata": {
    "tags": []
   },
   "outputs": [
    {
     "name": "stdout",
     "output_type": "stream",
     "text": [
      "3\n",
      "6\n",
      "{'a': 1, 'e': 2, 'i': 3, 'o': 4, 'u': 5, 'ü': 6}\n"
     ]
    }
   ],
   "source": [
    "# Como .get()\n",
    "dicc = {\"a\": 1, \"e\": 2, \"i\": 3, \"o\": 4, \"u\": 5}\n",
    "print(dicc.setdefault(\"i\"))\n",
    "\n",
    "# Para agregar nuevo elemento\n",
    "print(dicc.setdefault(\"ü\", 6))\n",
    "print(dicc)"
   ]
  },
  {
   "cell_type": "markdown",
   "id": "8708454a-5d48-4322-bc1a-b4ab695b2363",
   "metadata": {},
   "source": [
    "El método .update() recibe como parámetro otro diccionario. En caso de tener claves iguales, actualiza el valor de la clave repetida. En caso de no haber claves iguales, el par clave: valor es agregado al diccionario al que es aplicado el método."
   ]
  },
  {
   "cell_type": "code",
   "execution_count": 18,
   "id": "0d24efa1-d221-4d42-bdb4-8530a2372c83",
   "metadata": {
    "tags": []
   },
   "outputs": [
    {
     "name": "stdout",
     "output_type": "stream",
     "text": [
      "{'a': 1, 'e': 5, 'i': 3, 'o': 4, 'u': 5, 'b': 2, 'c': 3, 'd': 4}\n"
     ]
    }
   ],
   "source": [
    "dicc1 = {\"a\": 1, \"e\": 2, \"i\": 3, \"o\": 4, \"u\": 5}\n",
    "dicc2 = {\"a\": 1, \"b\": 2, \"c\": 3, \"d\": 4, \"e\": 5}\n",
    "dicc1.update(dicc2)\n",
    "\n",
    "print(dicc1)"
   ]
  },
  {
   "cell_type": "markdown",
   "id": "14e59836-a9c4-4694-b09a-e9ca3d3ad756",
   "metadata": {},
   "source": [
    "---\n",
    "# Ejercicio\n",
    "\n",
    "Dado un diccionario, vamos a solicitar al usuario una clave que quiera eliminar y vamos a eliminarla. Al final, le mostraremos el diccionario actualizado."
   ]
  },
  {
   "cell_type": "code",
   "execution_count": 20,
   "id": "eb06c964-3dee-49e2-82d2-7529bd367213",
   "metadata": {
    "tags": []
   },
   "outputs": [
    {
     "name": "stdout",
     "output_type": "stream",
     "text": [
      "Este es el diccionario original: {'a': 1, 'e': 2, 'i': 3, 'o': 4, 'u': 2}\n"
     ]
    },
    {
     "name": "stdin",
     "output_type": "stream",
     "text": [
      "\n",
      "Introduce la clave que quieras eliminar del diccionario:  i\n"
     ]
    },
    {
     "name": "stdout",
     "output_type": "stream",
     "text": [
      "\n",
      "Diccionario Actualizado:  {'a': 1, 'e': 2, 'o': 4, 'u': 2}\n"
     ]
    }
   ],
   "source": [
    "dicc = {\"a\":1, \"e\":2,\"i\":3,\"o\":4,\"u\":2}\n",
    "print(\"Este es el diccionario original:\",dicc)\n",
    "\n",
    "key = input(\"\\nIntroduce la clave que quieras eliminar del diccionario: \")\n",
    "\n",
    "dicc.pop(key)\n",
    "print(\"\\nDiccionario Actualizado: \",dicc)"
   ]
  },
  {
   "cell_type": "markdown",
   "id": "7f74834c-94b0-4804-b832-72dd46936397",
   "metadata": {},
   "source": [
    "---\n",
    "## Construyendo diccionarios con dict()\n",
    "\n",
    "Para convertir un objeto iterable de `Python` a diccionario, hay que usar la función `dict()`"
   ]
  },
  {
   "cell_type": "code",
   "execution_count": 21,
   "id": "c80876ff-fbfa-4e86-ab63-935b45b1ccc7",
   "metadata": {
    "tags": []
   },
   "outputs": [
    {
     "data": {
      "text/plain": [
       "{'x': 1, 'y': 2}"
      ]
     },
     "execution_count": 21,
     "metadata": {},
     "output_type": "execute_result"
    }
   ],
   "source": [
    "l = [[\"x\", 1], [\"y\", 2]]\n",
    "dict(l)"
   ]
  },
  {
   "cell_type": "code",
   "execution_count": 22,
   "id": "09822262-21ba-4023-8b6e-15da2a796aa3",
   "metadata": {
    "tags": []
   },
   "outputs": [
    {
     "name": "stdout",
     "output_type": "stream",
     "text": [
      "{'x': 0, 'y': 1, 'z': -1}\n"
     ]
    }
   ],
   "source": [
    "dicc1 = dict(x = 0, y = 1, z = -1)\n",
    "print(dicc1)"
   ]
  },
  {
   "cell_type": "markdown",
   "id": "77ff8ff9-7d48-46f6-8701-7f3c4be6c9c4",
   "metadata": {},
   "source": [
    "---\n",
    "# Ejercicio\n",
    "\n",
    "Vamos a leer un string por teclado y vamos a devolver un diccionario con la cantidad de apariciones de cada caracter en el string proporcionado por el usuario."
   ]
  },
  {
   "cell_type": "code",
   "execution_count": 1,
   "id": "177d5a71-fd3c-4a2d-a6f2-8d5e8a66573a",
   "metadata": {
    "tags": []
   },
   "outputs": [
    {
     "name": "stdin",
     "output_type": "stream",
     "text": [
      "Introduce una frace:  hola mundo yakin\n"
     ]
    },
    {
     "name": "stdout",
     "output_type": "stream",
     "text": [
      "{'H': 1, 'O': 2, 'L': 1, 'A': 2, 'M': 1, 'U': 1, 'N': 2, 'D': 1, 'Y': 1, 'K': 1, 'I': 1}\n"
     ]
    }
   ],
   "source": [
    "s = input(\"Introduce una frace: \")\n",
    "cout = []\n",
    "letters = {}\n",
    "\n",
    "s = s.lower()\n",
    "for c in s:\n",
    "    if c not in cout and c != \" \":\n",
    "        letters[c.upper()] = s.count(c)\n",
    "\n",
    "print(letters)"
   ]
  },
  {
   "cell_type": "code",
   "execution_count": null,
   "id": "358cb915-7361-406f-820a-730203e621b8",
   "metadata": {},
   "outputs": [],
   "source": []
  }
 ],
 "metadata": {
  "kernelspec": {
   "display_name": "Python 3 (ipykernel)",
   "language": "python",
   "name": "python3"
  },
  "language_info": {
   "codemirror_mode": {
    "name": "ipython",
    "version": 3
   },
   "file_extension": ".py",
   "mimetype": "text/x-python",
   "name": "python",
   "nbconvert_exporter": "python",
   "pygments_lexer": "ipython3",
   "version": "3.11.5"
  }
 },
 "nbformat": 4,
 "nbformat_minor": 5
}
