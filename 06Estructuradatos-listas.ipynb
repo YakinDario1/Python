{
 "cells": [
  {
   "cell_type": "markdown",
   "id": "915b1840-192a-42d0-bf3f-372daafae854",
   "metadata": {},
   "source": [
    "# Estructuras de datos: Listas\n"
   ]
  },
  {
   "cell_type": "markdown",
   "id": "81f44bd7-0163-49ab-acf1-f343467fccdc",
   "metadata": {},
   "source": [
    " La primera estructura de datos que veremos son las **listas**. Éstas son un conjunto de elementos ordenados separados por comas y escritos entre claudators, `[]`. \n",
    "\n",
    "Las listas son:\n",
    "- hetereogéneas: los elementos pueden ser de distinto tipo en una misma lista\n",
    "- mutables: los elementos pueden ser modificados"
   ]
  },
  {
   "cell_type": "code",
   "execution_count": 1,
   "id": "31d4ffcb-8b69-4263-a968-2355fda22412",
   "metadata": {
    "tags": []
   },
   "outputs": [
    {
     "name": "stdout",
     "output_type": "stream",
     "text": [
      "['yakin', 2, 13, 12.2, True]\n"
     ]
    }
   ],
   "source": [
    "n1 = [\"yakin\",2,13,12.2,True]\n",
    "print(n1)"
   ]
  },
  {
   "cell_type": "markdown",
   "id": "1c1c4184-663a-4774-a03b-2ba90340590c",
   "metadata": {},
   "source": [
    "### Tamaño de una lista\n",
    "\n",
    "Para saber la longitud o el tamaño de una lista, podemos hacer uso de la función `len()`"
   ]
  },
  {
   "cell_type": "code",
   "execution_count": 2,
   "id": "da388c26-f425-4022-98db-74ccbf0d0ccd",
   "metadata": {
    "tags": []
   },
   "outputs": [
    {
     "data": {
      "text/plain": [
       "9"
      ]
     },
     "execution_count": 2,
     "metadata": {},
     "output_type": "execute_result"
    }
   ],
   "source": [
    "l = [1, 2, 3, 4, 5, 6, 7, 8, 9]\n",
    "len(l)"
   ]
  },
  {
   "cell_type": "code",
   "execution_count": 3,
   "id": "782b7e2d-ead4-4ccb-b0e8-543e80cace61",
   "metadata": {
    "tags": []
   },
   "outputs": [
    {
     "data": {
      "text/plain": [
       "4"
      ]
     },
     "execution_count": 3,
     "metadata": {},
     "output_type": "execute_result"
    }
   ],
   "source": [
    "l = [\"Zoe\", \"Pablo\", \"Miguel\", \"Silvia\"]\n",
    "len(l)"
   ]
  },
  {
   "cell_type": "markdown",
   "id": "0d7f3071-1057-4cdb-b79e-0c7b06a9a531",
   "metadata": {},
   "source": [
    "Elementos de una lista\n",
    "Cada elemento en la lista tiene su propio índice"
   ]
  },
  {
   "cell_type": "code",
   "execution_count": 4,
   "id": "1ec2edd6-1bcd-4282-b0ea-1fbe7cb12310",
   "metadata": {
    "tags": []
   },
   "outputs": [],
   "source": [
    "names = [\"Maria\", \"Juan\", \"Claudia\", \"Jorge\", \"Avelina\"]"
   ]
  },
  {
   "cell_type": "markdown",
   "id": "b9e51c0a-89a8-40b0-928c-e21984c3adb9",
   "metadata": {},
   "source": [
    "A `María` le corresponde el índice 0; a `Juan`, el 1; a `Claudia` el 2; a `Jorge`, el 3; y a `Avelina`, el 4.\n",
    "\n",
    "**¡Cuidado!** En `Python`, los índices siempre empiezan en 0. De este modo, al primer elemento le corresponde el índice 0; al segundo, el índice 1; y al $n$-ésimo, le corresponde el índice $n−1$."
   ]
  },
  {
   "cell_type": "code",
   "execution_count": 5,
   "id": "cea6c84d-0bfa-4493-8c77-3794b10bdaee",
   "metadata": {
    "tags": []
   },
   "outputs": [
    {
     "name": "stdout",
     "output_type": "stream",
     "text": [
      "Maria\n"
     ]
    }
   ],
   "source": [
    "print(names[0])"
   ]
  },
  {
   "cell_type": "code",
   "execution_count": 6,
   "id": "b9f021f0-6654-4ee9-84bd-e02d9f0e26e2",
   "metadata": {
    "tags": []
   },
   "outputs": [
    {
     "name": "stdout",
     "output_type": "stream",
     "text": [
      "Jorge\n"
     ]
    }
   ],
   "source": [
    "print(names[3])"
   ]
  },
  {
   "cell_type": "markdown",
   "id": "9e414e8e-9eda-4cc0-9a92-a8ec8089d3dd",
   "metadata": {},
   "source": [
    "Podemos añadir nuevos elementos a una lista con el método `.append()`\n"
   ]
  },
  {
   "cell_type": "code",
   "execution_count": 7,
   "id": "26498b59-2688-4695-a80c-6e5d91d5770f",
   "metadata": {
    "tags": []
   },
   "outputs": [
    {
     "name": "stdout",
     "output_type": "stream",
     "text": [
      "['María', 'Cristina', 'Juana']\n",
      "['María', 'Cristina', 'Juana', 'Andrea']\n"
     ]
    }
   ],
   "source": [
    "names = [\"María\", \"Cristina\", \"Juana\"]\n",
    "print(names)\n",
    "\n",
    "names.append(\"Andrea\")\n",
    "print(names)"
   ]
  },
  {
   "cell_type": "markdown",
   "id": "efefe738-a1cf-4260-9ae9-029c21cd9cf2",
   "metadata": {},
   "source": [
    "Si quisiéramos añadir un nuevo elemento a una lista, pero no lo quisiéramos al final, sino en una posición específica, entonces utilizaremos el método `.insert()` al que primero le indicamos el índice donde queremos posicionar el nuevo elemento y, en segundo lugar, indicamos dicho nuevo elemento."
   ]
  },
  {
   "cell_type": "code",
   "execution_count": 8,
   "id": "2110dd7d-4607-4413-9a4e-4b3ff458ce3b",
   "metadata": {
    "tags": []
   },
   "outputs": [
    {
     "name": "stdout",
     "output_type": "stream",
     "text": [
      "['Mario', 'Cristian', 'Juan']\n",
      "['Mario', 'Andrés', 'Cristian', 'Juan']\n",
      "['Mario', 'Andrés', 'Cristian', 'Miguel', 'Juan']\n"
     ]
    }
   ],
   "source": [
    "names = [\"Mario\", \"Cristian\", \"Juan\"]\n",
    "print(names)\n",
    "\n",
    "names.insert(1, \"Andrés\")\n",
    "print(names)\n",
    "names.insert(3, \"Miguel\")\n",
    "print(names)"
   ]
  },
  {
   "cell_type": "markdown",
   "id": "c84536f5-c891-401c-9449-c759762433d5",
   "metadata": {},
   "source": [
    "---\n",
    "## Ejercicio\n",
    "\n",
    "Vamos a pedirle al usuario la longitud de una lista y haremos que introduzca por teclado tantos números enteros como haya indicado, que se guardarán en una lista. Al acabar, imprimiremos la lista."
   ]
  },
  {
   "cell_type": "code",
   "execution_count": 9,
   "id": "0c968707-f1b6-43f9-9d31-25c39e411041",
   "metadata": {
    "tags": []
   },
   "outputs": [
    {
     "name": "stdin",
     "output_type": "stream",
     "text": [
      "Introduce el tamaño de la lista:  5\n",
      " 5 \n",
      " 8\n",
      " 4\n",
      " 6\n",
      " 21\n"
     ]
    },
    {
     "name": "stdout",
     "output_type": "stream",
     "text": [
      "tu lista es:  [5, 8, 4, 6, 21]\n"
     ]
    }
   ],
   "source": [
    "n = int(input(\"Introduce el tamaño de la lista: \"))\n",
    "l = []\n",
    "\n",
    "for i in range(n):\n",
    "    l.append(int(input()))\n",
    "\n",
    "print(\"tu lista es: \", l)"
   ]
  },
  {
   "cell_type": "markdown",
   "id": "55491930-8eaa-48fd-b1c5-5a948d88d442",
   "metadata": {},
   "source": [
    "---\n",
    "## Bucles con listas"
   ]
  },
  {
   "cell_type": "code",
   "execution_count": 10,
   "id": "a6c47556-01b5-44a8-84a3-bab563ba2fae",
   "metadata": {
    "tags": []
   },
   "outputs": [
    {
     "name": "stdout",
     "output_type": "stream",
     "text": [
      "Mario\n",
      "Andrés\n",
      "Cristian\n",
      "Miguel\n",
      "Juan\n"
     ]
    }
   ],
   "source": [
    "for i in range(len(names)):\n",
    "  print(names[i])"
   ]
  },
  {
   "cell_type": "code",
   "execution_count": 12,
   "id": "10724799-1131-49fd-b5f1-03be5bebe9c5",
   "metadata": {
    "tags": []
   },
   "outputs": [
    {
     "name": "stdout",
     "output_type": "stream",
     "text": [
      "Mario\n",
      "Andrés\n",
      "Cristian\n",
      "Miguel\n",
      "Juan\n"
     ]
    }
   ],
   "source": [
    "for name in names:\n",
    "  print(name)"
   ]
  },
  {
   "cell_type": "markdown",
   "id": "a8440db5-41cc-4b88-9a3d-cf63c0240c03",
   "metadata": {},
   "source": [
    "## Concatenación de listas\n",
    "\n",
    "Dadas dos o más listas, podemos concatenarlas haciendo uso de la función `+`"
   ]
  },
  {
   "cell_type": "code",
   "execution_count": 13,
   "id": "4ada9339-37c2-4757-b33b-56b7eb46f3e3",
   "metadata": {
    "tags": []
   },
   "outputs": [
    {
     "name": "stdout",
     "output_type": "stream",
     "text": [
      "[True, 21, 'Marta', 22.5, False, 22, 'Rafa']\n"
     ]
    }
   ],
   "source": [
    "l1 = [True, 21, \"Marta\"]\n",
    "l2 = [22.5, False, 22, \"Rafa\"]\n",
    "print(l1 + l2)"
   ]
  },
  {
   "cell_type": "markdown",
   "id": "4db39486-957d-4ca3-bef1-695702462aba",
   "metadata": {},
   "source": [
    "## Repetición de listas\n",
    "\n",
    "Podemos repetir una misma lista tantas veces como queramos con la función `*`"
   ]
  },
  {
   "cell_type": "code",
   "execution_count": 14,
   "id": "dce3afbc-eb0d-402e-8a65-ccc25806305b",
   "metadata": {
    "tags": []
   },
   "outputs": [
    {
     "name": "stdout",
     "output_type": "stream",
     "text": [
      "['A', 'B', 'C', 'A', 'B', 'C', 'A', 'B', 'C', 'A', 'B', 'C', 'A', 'B', 'C']\n"
     ]
    }
   ],
   "source": [
    "abc = [\"A\", \"B\", \"C\"]\n",
    "print(abc * 5)"
   ]
  },
  {
   "cell_type": "markdown",
   "id": "7e72d34a-8d0f-4748-9d01-8cb73ed9ab47",
   "metadata": {},
   "source": [
    "## Más métodos de listas\n",
    "\n",
    "El método `.count()` recibe un elemento como argumento y cuenta la cantidad de veces que aparece en la lista"
   ]
  },
  {
   "cell_type": "code",
   "execution_count": 15,
   "id": "371c7f48-ca89-44f1-b469-a5391a8132ec",
   "metadata": {
    "tags": []
   },
   "outputs": [
    {
     "name": "stdout",
     "output_type": "stream",
     "text": [
      "El elemento 0 aparece 1 veces\n",
      "El elemento 1 aparece 2 veces\n",
      "El elemento 2 aparece 3 veces\n",
      "El elemento 3 aparece 4 veces\n"
     ]
    }
   ],
   "source": [
    "numbers = [0, 1, 1, 2, 2, 2, 3, 3, 3, 3]\n",
    "\n",
    "counted = []\n",
    "for element in numbers:\n",
    "  if element not in counted:\n",
    "    counted.append(element)\n",
    "    print(\"El elemento {} aparece {} veces\".format(element, numbers.count(element)))"
   ]
  },
  {
   "cell_type": "markdown",
   "id": "01f9622a-06ab-47a7-b557-b0c7a231683a",
   "metadata": {},
   "source": [
    "El método `.extend()` extiende la lista agregando al final el iterable indicado \n"
   ]
  },
  {
   "cell_type": "code",
   "execution_count": 16,
   "id": "59025136-186f-450a-9eeb-ae6765ab3e8f",
   "metadata": {
    "tags": []
   },
   "outputs": [
    {
     "name": "stdout",
     "output_type": "stream",
     "text": [
      "[1, 2, 3, 4, 5]\n",
      "[1, 2, 3, 4, 5, 6]\n",
      "[1, 2, 3, 4, 5, 6, 7, 8]\n",
      "[1, 2, 3, 4, 5, 6, 7, 8, 9, 10, 11, 12, 13, 14, 15]\n"
     ]
    }
   ],
   "source": [
    "numbers = [1, 2, 3, 4, 5]\n",
    "print(numbers)\n",
    "numbers.extend([6])\n",
    "print(numbers)\n",
    "numbers.extend([7, 8])\n",
    "print(numbers)\n",
    "numbers.extend(range(9, 16))\n",
    "print(numbers)"
   ]
  },
  {
   "cell_type": "markdown",
   "id": "5ab38645-a351-4503-a97b-e393ae6a9567",
   "metadata": {},
   "source": [
    "El método `index()` recibe un elemento como argumento y devuelve el índice de la primera aparición en la lista."
   ]
  },
  {
   "cell_type": "code",
   "execution_count": 17,
   "id": "e295a669-9d38-47c9-9ea3-0a4994e44b20",
   "metadata": {
    "tags": []
   },
   "outputs": [
    {
     "name": "stdout",
     "output_type": "stream",
     "text": [
      "3\n",
      "7\n"
     ]
    }
   ],
   "source": [
    "numbers = [0, 1, 1, 2, 2, 2, 3, 4, 3, 4]\n",
    "print(numbers.index(2))\n",
    "print(numbers.index(4)) "
   ]
  },
  {
   "cell_type": "markdown",
   "id": "df9cd6cd-cdb6-407d-b8c1-66854503c11d",
   "metadata": {},
   "source": [
    "El método `.pop()` devuelve el último elemento de la lista y lo borra de la misma."
   ]
  },
  {
   "cell_type": "code",
   "execution_count": 18,
   "id": "cd4afdde-353b-4896-8976-468e4dd9a3af",
   "metadata": {
    "tags": []
   },
   "outputs": [
    {
     "name": "stdout",
     "output_type": "stream",
     "text": [
      "[0, 1, 1, 2, 2, 2, 3, 4, 3, 4]\n",
      "4\n",
      "[0, 1, 1, 2, 2, 2, 3, 4, 3]\n",
      "3\n",
      "[0, 1, 1, 2, 2, 2, 3, 4]\n",
      "4\n",
      "[0, 1, 1, 2, 2, 2, 3]\n",
      "3\n",
      "[0, 1, 1, 2, 2, 2]\n",
      "2\n",
      "[0, 1, 1, 2, 2]\n"
     ]
    }
   ],
   "source": [
    "print(numbers)\n",
    "for i in range(5):\n",
    "    print(numbers.pop())\n",
    "    print(numbers)"
   ]
  },
  {
   "cell_type": "markdown",
   "id": "8b9d1424-4de9-4d2e-a7a4-4318745861ae",
   "metadata": {},
   "source": [
    "El método .remove() recibe como argumento un elemento y borra su primera aparición de la lista.\n",
    "\n"
   ]
  },
  {
   "cell_type": "code",
   "execution_count": 19,
   "id": "066ff3b3-e05e-4406-80f6-114ce4b599bc",
   "metadata": {
    "tags": []
   },
   "outputs": [
    {
     "name": "stdout",
     "output_type": "stream",
     "text": [
      "[0, 1, 2, 3, 4, 5, 6, 7]\n"
     ]
    }
   ],
   "source": [
    "numbers = [0, 1, 2, 4, 3, 4, 5, 6, 7]\n",
    "numbers.remove(4)\n",
    "print(numbers)"
   ]
  },
  {
   "cell_type": "markdown",
   "id": "328ae244-90d8-4de9-9353-c8d3d2b6a3c1",
   "metadata": {},
   "source": [
    "El método `.reverse()` devuelve la lista en orden inverso."
   ]
  },
  {
   "cell_type": "code",
   "execution_count": 20,
   "id": "3cc1eb56-e6a3-4395-a805-de954507b5c4",
   "metadata": {
    "tags": []
   },
   "outputs": [
    {
     "name": "stdout",
     "output_type": "stream",
     "text": [
      "[-3, 3, -2, 2, -1, 1]\n"
     ]
    }
   ],
   "source": [
    "numbers = [1, -1, 2, -2, 3, -3]\n",
    "numbers.reverse()\n",
    "print(numbers)"
   ]
  },
  {
   "cell_type": "markdown",
   "id": "5a01bf52-9376-43b5-8ed0-e81b00e6c62a",
   "metadata": {},
   "source": [
    "El método `.sort()` devuelve la lista en orden. "
   ]
  },
  {
   "cell_type": "code",
   "execution_count": 21,
   "id": "62e560e5-74ab-415b-a4d7-d17826ebe33e",
   "metadata": {
    "tags": []
   },
   "outputs": [
    {
     "name": "stdout",
     "output_type": "stream",
     "text": [
      "[1, 2, 3, 4, 5]\n"
     ]
    }
   ],
   "source": [
    "numbers = [1, 3, 5, 2, 4]\n",
    "numbers.sort()\n",
    "print(numbers)"
   ]
  },
  {
   "cell_type": "markdown",
   "id": "7ebce110-5226-4b4e-bb5d-4be8ae3276c8",
   "metadata": {},
   "source": [
    "Si quisiésemos ordenar los elementos en orden decreciente, podríamos hacer uso del parámetro `reverse` del método `.sort()`:"
   ]
  },
  {
   "cell_type": "code",
   "execution_count": 22,
   "id": "497033a5-0ad6-4758-b629-ab2011e58cd3",
   "metadata": {
    "tags": []
   },
   "outputs": [
    {
     "name": "stdout",
     "output_type": "stream",
     "text": [
      "[5, 4, 3, 2, 1]\n"
     ]
    }
   ],
   "source": [
    "numbers = [1, 3, 5, 2, 4]\n",
    "numbers.sort(reverse = True)\n",
    "print(numbers)"
   ]
  },
  {
   "cell_type": "markdown",
   "id": "7ce3b1a9-8b78-407a-9477-1e1f5cda4085",
   "metadata": {},
   "source": [
    "---\n",
    "# Ejercicio\n",
    "\n",
    "Dada una lista de caracteres, le pediremos al usuario qué elemento quiere eliminar y lo eliminaremos de la lista."
   ]
  },
  {
   "cell_type": "code",
   "execution_count": 26,
   "id": "ef2982ab-e72a-4c91-81a4-7114b1c0914c",
   "metadata": {
    "tags": []
   },
   "outputs": [
    {
     "name": "stdout",
     "output_type": "stream",
     "text": [
      "Esta es una lista original:  ['m', 'a', 'r', 'j', 'b', 'g', 'i', 's', 'f', 'g', 'a']\n"
     ]
    },
    {
     "name": "stdin",
     "output_type": "stream",
     "text": [
      "Introduce el elemento que deseas elimanr  a\n"
     ]
    },
    {
     "name": "stdout",
     "output_type": "stream",
     "text": [
      "Esta es  actualizada  ['m', 'r', 'j', 'b', 'g', 'i', 's', 'f', 'g']\n"
     ]
    }
   ],
   "source": [
    "l = [\"m\", \"a\", \"r\", \"j\", \"b\", \"g\", \"i\", \"s\", \"f\", \"g\",\"a\"]\n",
    "\n",
    "print(\"Esta es una lista original: \", l )\n",
    "c = input(\"Introduce el elemento que deseas elimanr \")\n",
    "\n",
    "for e in l:\n",
    "    if e == c:\n",
    "        l.remove(e)\n",
    "    \n",
    "print(\"Esta es  actualizada \", l)"
   ]
  },
  {
   "cell_type": "markdown",
   "id": "e9de2222-8f4c-4b10-9865-f2e516815d08",
   "metadata": {},
   "source": [
    "# Ejercicio\n",
    "\n",
    "Vamos a pedir al usuario que ingrese 10 números, los guardaremos en una lista y mostraremos la lista ordenada, siendo el usuario quien indique el orden: ascendente o descendente."
   ]
  },
  {
   "cell_type": "code",
   "execution_count": 28,
   "id": "48732439-2156-41cf-a26f-005063a4c03c",
   "metadata": {
    "tags": []
   },
   "outputs": [
    {
     "name": "stdin",
     "output_type": "stream",
     "text": [
      "Si quieres orden descendente, escribe True. De lo contrario, dale a la tecla Enter:  True\n",
      " 8\n",
      " 5\n",
      " 6\n",
      " 9\n",
      " 1\n",
      " 3\n",
      " 5\n",
      " 9\n",
      " 4\n",
      " 6\n"
     ]
    },
    {
     "name": "stdout",
     "output_type": "stream",
     "text": [
      "[9.0, 9.0, 8.0, 6.0, 6.0, 5.0, 5.0, 4.0, 3.0, 1.0]\n"
     ]
    }
   ],
   "source": [
    "reversed = bool(input(\"Si quieres orden descendente, escribe True. De lo contrario, dale a la tecla Enter: \"))\n",
    "\n",
    "l = []\n",
    "\n",
    "for i in range(10):\n",
    "    l.append(float(input()))\n",
    "\n",
    "l.sort(reverse = reversed)\n",
    "print(l)"
   ]
  },
  {
   "cell_type": "markdown",
   "id": "59fbc15f-3dff-423c-822c-de41ccecd029",
   "metadata": {},
   "source": [
    "## Conversión a listas\n",
    "\n",
    "Para convertir un objeto iterable de `Python` a lista, hay que usar la función `list()`"
   ]
  },
  {
   "cell_type": "code",
   "execution_count": 29,
   "id": "8127e25a-aa21-4802-adfa-7bb19b5de22a",
   "metadata": {
    "tags": []
   },
   "outputs": [
    {
     "name": "stdout",
     "output_type": "stream",
     "text": [
      "range(0, 100, 10)\n"
     ]
    }
   ],
   "source": [
    "print(range(0, 100, 10))"
   ]
  },
  {
   "cell_type": "code",
   "execution_count": 30,
   "id": "ab4b0791-4dc2-48e0-a2b0-773168125abf",
   "metadata": {
    "tags": []
   },
   "outputs": [
    {
     "name": "stdout",
     "output_type": "stream",
     "text": [
      "<class 'range'>\n"
     ]
    }
   ],
   "source": [
    "print(type(range(0, 100, 10)))"
   ]
  },
  {
   "cell_type": "code",
   "execution_count": 31,
   "id": "ed873475-6038-4fc7-a83a-f308085aeec7",
   "metadata": {
    "tags": []
   },
   "outputs": [
    {
     "name": "stdout",
     "output_type": "stream",
     "text": [
      "[0, 10, 20, 30, 40, 50, 60, 70, 80, 90]\n"
     ]
    }
   ],
   "source": [
    "print(list(range(0, 100, 10)))"
   ]
  },
  {
   "cell_type": "code",
   "execution_count": 32,
   "id": "b9ff2f85-a590-4dc0-b288-34df1819081d",
   "metadata": {
    "tags": []
   },
   "outputs": [
    {
     "name": "stdout",
     "output_type": "stream",
     "text": [
      "<class 'list'>\n"
     ]
    }
   ],
   "source": [
    "print(type(list(range(0, 100, 10))))"
   ]
  },
  {
   "cell_type": "markdown",
   "id": "a1d37bfd-289e-46a3-aefa-136190123f5a",
   "metadata": {},
   "source": [
    "---\n",
    "# Ejercicio\n",
    "\n",
    "Vamos a convertir los números impares del 0 al 30 a una lista y mostrar los elementos con el fomato \"El valor {} ocupa el índice {}\""
   ]
  },
  {
   "cell_type": "code",
   "execution_count": 33,
   "id": "098c9952-3cd2-49db-b670-cfa1220b3f29",
   "metadata": {
    "tags": []
   },
   "outputs": [
    {
     "name": "stdout",
     "output_type": "stream",
     "text": [
      "El valor 1 ocupa el indice  0 \n",
      "El valor 3 ocupa el indice  1 \n",
      "El valor 5 ocupa el indice  2 \n",
      "El valor 7 ocupa el indice  3 \n",
      "El valor 9 ocupa el indice  4 \n",
      "El valor 11 ocupa el indice  5 \n",
      "El valor 13 ocupa el indice  6 \n",
      "El valor 15 ocupa el indice  7 \n",
      "El valor 17 ocupa el indice  8 \n",
      "El valor 19 ocupa el indice  9 \n",
      "El valor 21 ocupa el indice  10 \n",
      "El valor 23 ocupa el indice  11 \n",
      "El valor 25 ocupa el indice  12 \n",
      "El valor 27 ocupa el indice  13 \n",
      "El valor 29 ocupa el indice  14 \n"
     ]
    }
   ],
   "source": [
    "odd = list(range(1,30,2))\n",
    "\n",
    "for i in range(len(odd)):\n",
    "    print(f\"El valor {odd[i]} ocupa el indice  {i} \")"
   ]
  },
  {
   "cell_type": "markdown",
   "id": "3ba3d6e6-cf70-45a8-a25f-f28026f8a0f9",
   "metadata": {},
   "source": [
    "--- \n",
    "## Listas anidadas\n",
    "\n",
    "Las listas anidadas son listas dentro de listas. Es decir, las listas no solo pueden contener números, strings o datos booleanos, sino que también pueden contener otras listas.\n"
   ]
  },
  {
   "cell_type": "markdown",
   "id": "33ffbb6f-9a1e-4b42-a12c-38f0ac0214fd",
   "metadata": {},
   "source": [
    "#### Ejemplo 1\n",
    "\n",
    "A continuación mostramos una lista anidada, pues consta de 3 elementos:\n",
    "\n",
    "- 1 lista de 3 strings\n",
    "- 1 lista heterogénea de 3 elementos que a su vez contiene una lista con 5 números\n",
    "- 1 número"
   ]
  },
  {
   "cell_type": "code",
   "execution_count": 1,
   "id": "f17e3e4f-45e9-4f2b-9470-d954effae97e",
   "metadata": {
    "tags": []
   },
   "outputs": [
    {
     "name": "stdout",
     "output_type": "stream",
     "text": [
      "[['María', 'Santos', 'Fernández'], ['Juan', [1, 2, 3, 4, 5], 32], 2]\n"
     ]
    }
   ],
   "source": [
    "l = [[\"María\", \"Santos\", \"Fernández\"],\n",
    "     [\"Juan\", [1, 2, 3, 4, 5], 32], \n",
    "     2]\n",
    "print(l)"
   ]
  },
  {
   "cell_type": "code",
   "execution_count": 2,
   "id": "0d258ea5-62d4-492f-ba38-42923c493ee3",
   "metadata": {
    "tags": []
   },
   "outputs": [
    {
     "name": "stdout",
     "output_type": "stream",
     "text": [
      "Fernández\n",
      "5\n"
     ]
    }
   ],
   "source": [
    "print(l[0][2]) # Fernández\n",
    "print(l[1][1][4]) # 5"
   ]
  },
  {
   "cell_type": "markdown",
   "id": "f7a14bac-6493-4299-9910-b3c0105e749c",
   "metadata": {},
   "source": [
    "---\n",
    "### Matrices\n",
    "\n",
    "Hay un tipo muy utilizado de listas anidadas. Se caracteriza por ser una lista de $m$ listas, donde cada una de las listas tiene el mismo número de elementos, $n$. A este tipo de listas se les conoce como matrices."
   ]
  },
  {
   "cell_type": "code",
   "execution_count": 3,
   "id": "88666c97-df89-4d0a-b680-b15fa37ac846",
   "metadata": {
    "tags": []
   },
   "outputs": [],
   "source": [
    "matrix = [[1, 2, 3], [4, 5, 6], [7, 8, 9]]"
   ]
  },
  {
   "cell_type": "markdown",
   "id": "9cc1b865-8904-4bcd-8fc0-a2d61fed0c90",
   "metadata": {},
   "source": [
    "En matemáticas, las matrices se definen del siguiente modo.\n",
    "\n",
    "**Matriz.** Una matriz de dimensiones $m\\times n$ es una tabla formada por elementos dispuestos en $m$ filas y $n$ columnas de la forma\n",
    "\n",
    "$$A = \\begin{pmatrix}\n",
    "a_{11} & a_{12} & \\cdots & a_{1n}\\\\\n",
    "a_{21} & a_{22} & \\cdots & a_{2n}\\\\\n",
    "\\vdots & \\vdots & \\ddots & \\vdots\\\\\n",
    "a_{m1} & a_{m2} & \\cdots & a_{mn}\\end{pmatrix}$$\n",
    "\n",
    "Los elementos de la matriz se representan con doble subíndice, $a_{ij}$, donde el primero indica la fila a la que pertenece y, el segundo, la columna.\n",
    "\n",
    "Entonces, la matriz que hemos definido anteriormente"
   ]
  },
  {
   "cell_type": "code",
   "execution_count": 4,
   "id": "aba9274a-ed4f-4ac5-ac0f-197eb57f6ceb",
   "metadata": {
    "tags": []
   },
   "outputs": [
    {
     "data": {
      "text/plain": [
       "[[1, 2, 3], [4, 5, 6], [7, 8, 9]]"
      ]
     },
     "execution_count": 4,
     "metadata": {},
     "output_type": "execute_result"
    }
   ],
   "source": [
    "matrix"
   ]
  },
  {
   "cell_type": "markdown",
   "id": "06436bea-0d7b-4ee4-939e-94e6c30272d2",
   "metadata": {},
   "source": [
    "escrita en forma de tabla sería: `matrix` $= \\displaystyle\\begin{pmatrix} 1 & 2 & 3\\\\ 4 & 5 & 6\\\\ 7 & 8 & 9\\end{pmatrix}$\n",
    "\n",
    "Para acceder a los elementos de una matriz en `Python`, utilizamos la sintaxis `[][]`, donde primero indicamos la fila y, a continuación, la columna"
   ]
  },
  {
   "cell_type": "code",
   "execution_count": 5,
   "id": "61382d9c-2141-43c6-89b7-0b2094c51c88",
   "metadata": {
    "tags": []
   },
   "outputs": [
    {
     "data": {
      "text/plain": [
       "2"
      ]
     },
     "execution_count": 5,
     "metadata": {},
     "output_type": "execute_result"
    }
   ],
   "source": [
    "matrix[0][1]"
   ]
  },
  {
   "cell_type": "code",
   "execution_count": 6,
   "id": "80df7d93-ca84-49a9-beb8-fad7761e23ab",
   "metadata": {
    "tags": []
   },
   "outputs": [
    {
     "data": {
      "text/plain": [
       "9"
      ]
     },
     "execution_count": 6,
     "metadata": {},
     "output_type": "execute_result"
    }
   ],
   "source": [
    "matrix[2][2]"
   ]
  },
  {
   "cell_type": "markdown",
   "id": "fb1ca1ea-442e-45b1-9cb7-203707c8302c",
   "metadata": {},
   "source": [
    "Podemos mostrar una matriz de `Python` en forma de tabla con un bucle `for`, del siguiente modo"
   ]
  },
  {
   "cell_type": "code",
   "execution_count": 7,
   "id": "38e0ff79-8ce0-4021-b840-82f8d4f08153",
   "metadata": {
    "tags": []
   },
   "outputs": [
    {
     "name": "stdout",
     "output_type": "stream",
     "text": [
      "[1, 2, 3]\n",
      "[4, 5, 6]\n",
      "[7, 8, 9]\n"
     ]
    }
   ],
   "source": [
    "for row in matrix: # Accedemos a las filas de la matrix\n",
    "  print(row)"
   ]
  },
  {
   "cell_type": "code",
   "execution_count": 8,
   "id": "ed22a93b-df35-436d-acc2-9c35c42a677c",
   "metadata": {
    "tags": []
   },
   "outputs": [
    {
     "name": "stdout",
     "output_type": "stream",
     "text": [
      "1\n",
      "2\n",
      "3\n",
      "4\n",
      "5\n",
      "6\n",
      "7\n",
      "8\n",
      "9\n"
     ]
    }
   ],
   "source": [
    "for row in matrix: # Accedemos a las filas\n",
    "  for element in row: # Accedemos a los elementos de las filas\n",
    "    print(element)"
   ]
  },
  {
   "cell_type": "code",
   "execution_count": 9,
   "id": "d226e9bf-bdd9-49d2-a661-a6f59ff3dfe8",
   "metadata": {
    "tags": []
   },
   "outputs": [
    {
     "name": "stdout",
     "output_type": "stream",
     "text": [
      "1 2 3 \n",
      "4 5 6 \n",
      "7 8 9 \n"
     ]
    }
   ],
   "source": [
    "# m es el número de filas y n, el de columnas\n",
    "m = len(matrix)\n",
    "n = len(matrix[0])\n",
    "\n",
    "for i in range(m):\n",
    "  for j in range(n):\n",
    "    print(matrix[i][j], end = \" \")\n",
    "  print(\"\")"
   ]
  },
  {
   "cell_type": "code",
   "execution_count": 10,
   "id": "de6b9a45-b63b-4714-95c9-6099ebbd08b0",
   "metadata": {
    "tags": []
   },
   "outputs": [
    {
     "name": "stdout",
     "output_type": "stream",
     "text": [
      "1 2 3 \n",
      "4 5 6 \n",
      "7 8 9 \n"
     ]
    }
   ],
   "source": [
    "for row in matrix:\n",
    "  for element in row:\n",
    "    print(element, end = \" \")\n",
    "  print(\"\")\n"
   ]
  },
  {
   "cell_type": "markdown",
   "id": "faaac1a3-6fbe-4857-b590-9708d9c64083",
   "metadata": {
    "tags": []
   },
   "source": [
    "---\n",
    "#### Suma de matrices\n",
    "\n",
    "Para poder sumar dos matrices, necesitamos que tengan la misma dimensión. Entonces, dadas $A$ y $B$ dos matrices con dimensión $m\\times n$, su suma será una matriz de dimensión $m\\times n$ y sus elementos se obtienen del siguiente modo:\n",
    "\n",
    "$$\\begin{array}{lll}A + B &=& (a_{ij})_{m\\times n} + (b_{ij})_{m\\times n} = (a_{ij} + b_{ij})_{m\\times n}\\\\ \n",
    "&=&\\begin{pmatrix} \n",
    "a_{11} & a_{12} & \\cdots & a_{1n}\\\\\n",
    "a_{21} & a_{22} & \\cdots & a_{2n}\\\\\n",
    "\\vdots & \\vdots & \\ddots & \\vdots\\\\\n",
    "a_{m1} & a_{m2} & \\cdots & a_{mn}\\\\\n",
    "\\end{pmatrix} + \\begin{pmatrix} \n",
    "b_{11} &b_{12} & \\cdots &b_{1n}\\\\\n",
    "b_{21} &b_{22} & \\cdots &b_{2n}\\\\\n",
    "\\vdots & \\vdots & \\ddots & \\vdots\\\\\n",
    "b_{m1} &b_{m2} & \\cdots & b_{mn}\\\\\n",
    "\\end{pmatrix} = \\begin{pmatrix} \n",
    "a_{11} + b_{11} & a_{12} + b_{12} & \\cdots & a_{1n} + b_{1n}\\\\\n",
    "a_{21} + b_{21} & a_{22} + b_{22} & \\cdots & a_{2n} + b_{2n}\\\\\n",
    "\\vdots & \\vdots & \\ddots & \\vdots\\\\\n",
    "a_{m1} + b_{m1} & a_{m2} + b_{m2} & \\cdots & a_{mn} + b_{mn}\\\\\n",
    "\\end{pmatrix}\n",
    "\\end{array}$$"
   ]
  },
  {
   "cell_type": "markdown",
   "id": "7ae70462-8139-4185-b8a8-b961f4166891",
   "metadata": {},
   "source": [
    "Dadas dos matrices con la misma dimensión, las podemos usar haciendo uso de bucles `for` anidados."
   ]
  },
  {
   "cell_type": "code",
   "execution_count": 15,
   "id": "202acf7c-0e74-49e5-a75b-c1005b81dca6",
   "metadata": {
    "tags": []
   },
   "outputs": [
    {
     "name": "stdout",
     "output_type": "stream",
     "text": [
      "[[0, -2, -3], [0, 3, 5], [-1, 1, -3]]\n"
     ]
    }
   ],
   "source": [
    "A = [[1, 0, -3], [2, 0, 1], [-1, -1, 0]]\n",
    "B = [[-1, -2, 0], [-2, 3, 4], [0, 2, -3]]\n",
    "\n",
    "m = len(A)\n",
    "n = len(A[0])\n",
    "\n",
    "if len(A) == len(B) and len(A[0]) == len(B[0]):\n",
    "  C = []\n",
    "\n",
    "  for i in range(m):\n",
    "    C.append([])\n",
    "    for j in range(n):\n",
    "      C[i].append(A[i][j] + B[i][j])\n",
    "\n",
    "  print(C)\n",
    "\n",
    "else:\n",
    "  print(\"No se puede realizar la suma, pues las dimensiones de las matrices no coinciden.\")"
   ]
  },
  {
   "cell_type": "code",
   "execution_count": 16,
   "id": "491f0f3e-57c2-40da-8d71-dfc8ca03ee43",
   "metadata": {
    "tags": []
   },
   "outputs": [
    {
     "name": "stdout",
     "output_type": "stream",
     "text": [
      "[0, -2, -3]\n",
      "[0, 3, 5]\n",
      "[-1, 1, -3]\n"
     ]
    }
   ],
   "source": [
    "for row in C:\n",
    "  print(row)"
   ]
  },
  {
   "cell_type": "markdown",
   "id": "9346bd3a-af4e-44c7-a2d5-44dcbd895721",
   "metadata": {},
   "source": [
    "#### Producto de matrices\n",
    "\n",
    "Para poder multiplicar matrices, necesitamos que la matriz de la izquierda tenga el mismo número de columnas que número de filas tiene la matriz de la derecha. Entonces, dadas las matrices $A$ y $B$ de dimensiones $m\\times n$ y $n\\times p$ respectivamente, su producto será una matriz de dimensión $m\\times p$ y se obtiene del siguiente modo:\n",
    "\n",
    "$$\\begin{array}{lll}A\\cdot B &=& (a_{ij})_{m\\times n}\\cdot (b_{ij})_{n\\times p} = \\left(\\sum_{k = 1}^n a_{ik}\\cdot b_{kj}\\right)_{m\\times p}\\\\\n",
    "&=& \\begin{pmatrix} \n",
    "a_{11} & a_{12} & \\cdots & a_{1n}\\\\\n",
    "a_{21} & a_{22} & \\cdots & a_{2n}\\\\\n",
    "\\vdots & \\vdots & \\ddots & \\vdots\\\\\n",
    "a_{m1} & a_{m2} & \\cdots & a_{mn}\\\\\n",
    "\\end{pmatrix} \\cdot \\begin{pmatrix} \n",
    "b_{11} &b_{12} & \\cdots &b_{1p}\\\\\n",
    "b_{21} &b_{22} & \\cdots &b_{2p}\\\\\n",
    "\\vdots & \\vdots & \\ddots & \\vdots\\\\\n",
    "b_{n1} &b_{n2} & \\cdots & b_{np}\\\\\n",
    "\\end{pmatrix} = \\begin{pmatrix} \n",
    "a_{11}\\cdot b_{11} + a_{12} \\cdot b_{21} + \\cdots + a_{1n}\\cdot b_{n1} & \\sum_{k = 1}^n a_{1k}\\cdot b_{k2} & \\cdots & \\sum_{k = 1}^n a_{1k}\\cdot b_{kp}\\\\\n",
    "a_{21}\\cdot b_{11} + a_{22} \\cdot b_{21} + \\cdots + a_{2n}\\cdot b_{n1} & \\sum_{k = 1}^n a_{2k}\\cdot b_{k2} & \\cdots & \\sum_{k = 1}^n a_{2k}\\cdot b_{kp}\\\\\n",
    "\\vdots & \\vdots & \\ddots & \\vdots\\\\\n",
    "a_{m1}\\cdot b_{11} + a_{m2} \\cdot b_{21} + \\cdots + a_{mn}\\cdot b_{n1} & \\sum_{k = 1}^n a_{mk}\\cdot b_{k2} & \\cdots & \\sum_{k = 1}^n a_{mk}\\cdot b_{kp}\n",
    "\\end{pmatrix}\\end{array}$$\n",
    "\n",
    "Dadas dos matrices, la primera con el mismo número de columnas que filas tiene la segunda, podemos multiplicarlas del siguiente modo:"
   ]
  },
  {
   "cell_type": "code",
   "execution_count": 17,
   "id": "4a1abd4b-b23e-4e5d-a151-1b3b0dd2bea9",
   "metadata": {
    "tags": []
   },
   "outputs": [],
   "source": [
    "A = [[1, 0, -3, 2], [2, 0, 1, 1], [-1, 0, -1, 0]]\n",
    "B = [[-1, -2, 0], [-2, 3, 0], [0, 0, -3], [1, 1, -1]]\n",
    "\n",
    "m, n, p = len(A), len(B), len(B[0])\n",
    "\n",
    "C = []\n",
    "\n",
    "for i in range(m):\n",
    "  C.append([])\n",
    "  for j in range(p):\n",
    "    elemento = 0\n",
    "    for k in range(n):\n",
    "      elemento = elemento + A[i][k] * B[k][j]\n",
    "    C[i].append(elemento)"
   ]
  },
  {
   "cell_type": "markdown",
   "id": "99d1f257-bc37-4ffc-97d4-0b18b63e4a42",
   "metadata": {
    "tags": []
   },
   "source": [
    "El resultado de multiplicar las matrices $A$ y $B$ ha sido\n",
    "\n",
    "$$\\begin{array}{lll} A\\cdot B &=& \n",
    "\\begin{pmatrix}\n",
    "1 & 0 & -3 & 2\\\\\n",
    "2 & 0 & 1 & 1\\\\\n",
    "-1 & 0 & -1 & 0\n",
    "\\end{pmatrix}\\cdot\\begin{pmatrix}\n",
    "-1 & -2 & 0\\\\\n",
    "-2 & 3 & 0\\\\\n",
    "0 & 0 & -3\\\\\n",
    "1 & 1 & -1\n",
    "\\end{pmatrix}\\\\ &=& \\begin{pmatrix}\n",
    "1\\cdot (-1) + 0\\cdot (-2) -3\\cdot 0 + 2\\cdot 1 & 1\\cdot (-2) + 0\\cdot 3 -3\\cdot 0 + 2\\cdot 1 & 1\\cdot 0 + 0\\cdot 0 -3\\cdot (-3) + 2\\cdot (-1)\\\\\n",
    "2\\cdot (-1) + 0\\cdot (-2) + 1\\cdot 0 + 1\\cdot 1  & 2\\cdot (-2) + 0\\cdot 3 + 1\\cdot 0 + 1\\cdot 1 & 2\\cdot 0 + 0\\cdot 0 + 1\\cdot (-3) + 1\\cdot (-1)\\\\\n",
    "-1\\cdot (-1) + 0\\cdot (-2) -1\\cdot 0 + 0\\cdot 1  & -1\\cdot (-2) + 0\\cdot 3 -1\\cdot 0 + 0\\cdot 1 & -1\\cdot 0 + 0\\cdot 0 -1\\cdot (-3) + 0\\cdot (-1)\n",
    "\\end{pmatrix}\\\\ &=& \\begin{pmatrix}\n",
    "1 & 0 & 7\\\\\n",
    "-1 & -3 & -4\\\\\n",
    "1 & 2 & 3\n",
    "\\end{pmatrix}\n",
    "\\end{array}$$"
   ]
  },
  {
   "cell_type": "code",
   "execution_count": 19,
   "id": "18c432fe-9678-49df-bae1-675530c6eee6",
   "metadata": {
    "tags": []
   },
   "outputs": [
    {
     "name": "stdout",
     "output_type": "stream",
     "text": [
      "[1, 0, 7]\n",
      "[-1, -3, -4]\n",
      "[1, 2, 3]\n"
     ]
    }
   ],
   "source": [
    "for row in C:\n",
    "  print(row)"
   ]
  },
  {
   "cell_type": "markdown",
   "id": "dcb28f29-0ab7-433e-8ffa-b30961a293e9",
   "metadata": {},
   "source": [
    "---\n",
    "# Ejercicio\n",
    "\n",
    "Vamos a crear manualmente una matriz de tamaño 4 x 4 y guardarla en una lista."
   ]
  },
  {
   "cell_type": "code",
   "execution_count": 25,
   "id": "253c141b-60e8-4e9d-9933-3e0d4b632afc",
   "metadata": {
    "tags": []
   },
   "outputs": [
    {
     "name": "stdin",
     "output_type": "stream",
     "text": [
      "Introduce el elemento 0, 0 1\n",
      "Introduce el elemento 0, 1 2\n",
      "Introduce el elemento 0, 2 3\n",
      "Introduce el elemento 0, 3 4\n",
      "Introduce el elemento 1, 0 1\n",
      "Introduce el elemento 1, 1 0\n",
      "Introduce el elemento 1, 2 -1\n",
      "Introduce el elemento 1, 3 -2\n",
      "Introduce el elemento 2, 0 -3\n",
      "Introduce el elemento 2, 1 9\n",
      "Introduce el elemento 2, 2 8\n",
      "Introduce el elemento 2, 3 7\n",
      "Introduce el elemento 3, 0 6\n",
      "Introduce el elemento 3, 1 5\n",
      "Introduce el elemento 3, 2 1\n",
      "Introduce el elemento 3, 3 -2\n"
     ]
    },
    {
     "name": "stdout",
     "output_type": "stream",
     "text": [
      "1.0  2.0  1.0  2.0  \n",
      "1.0  0.0  -1.0 -2.0 \n",
      "-3.0 9.0  8.0  7.0  \n",
      "6.0  5.0  1.0  -2.0 \n"
     ]
    }
   ],
   "source": [
    "### A = []\n",
    "for i in range(4):\n",
    "    A.append([])\n",
    "    for j in range(4):\n",
    "        A[i].append(float(input(f\"Introduce el elemento {i}, {j}\")))\n",
    "        \n",
    "for i in range(4):\n",
    "    for j in range(4):\n",
    "        print(A[i][j], end = \"  \" if A[i][j] >= 0 else \" \")\n",
    "    print(\"\")"
   ]
  },
  {
   "cell_type": "markdown",
   "id": "2d7d6b16-33dd-4a87-bd47-e438fc299572",
   "metadata": {},
   "source": [
    "Vamos a sumar dos matrices con listas. Ambas matrices serán proporcionadas por el usuario, así como la dimensión de las matrices."
   ]
  },
  {
   "cell_type": "code",
   "execution_count": 4,
   "id": "84b1e3aa-1555-4222-9df2-f092a119a16e",
   "metadata": {
    "tags": []
   },
   "outputs": [
    {
     "name": "stdin",
     "output_type": "stream",
     "text": [
      "Numero de filas de las matrices: 2\n",
      "Numero de columnas de las matrices: 2\n"
     ]
    },
    {
     "name": "stdout",
     "output_type": "stream",
     "text": [
      "\n",
      " === matriz A === \n"
     ]
    },
    {
     "name": "stdin",
     "output_type": "stream",
     "text": [
      "Introduce ele elemento 0,0 2\n",
      "Introduce ele elemento 0,1 2\n",
      "Introduce ele elemento 1,0 3\n",
      "Introduce ele elemento 1,1 3\n"
     ]
    },
    {
     "name": "stdout",
     "output_type": "stream",
     "text": [
      "\n",
      " === matriz B === \n"
     ]
    },
    {
     "name": "stdin",
     "output_type": "stream",
     "text": [
      "Introduce ele elemento 0,0 5\n",
      "Introduce ele elemento 0,1 5\n",
      "Introduce ele elemento 1,0 6\n",
      "Introduce ele elemento 1,1 6\n"
     ]
    },
    {
     "name": "stdout",
     "output_type": "stream",
     "text": [
      "\n",
      " === Suma === \n",
      "7.0 7.0 9.0 9.0 "
     ]
    }
   ],
   "source": [
    "n = int(input(\"Numero de filas de las matrices:\"))\n",
    "m = int(input(\"Numero de columnas de las matrices:\"))\n",
    "\n",
    "A = []\n",
    "print(\"\\n === matriz A === \")\n",
    "for i in range(n):\n",
    "    A.append([])\n",
    "    for j in range(m):\n",
    "        A[i].append(float(input(f\"Introduce ele elemento {i},{j}\")))\n",
    "        \n",
    "B = []\n",
    "print(\"\\n === matriz B === \")\n",
    "for i in range(n):\n",
    "    B.append([])\n",
    "    for j in range(m):\n",
    "        B[i].append(float(input(f\"Introduce ele elemento {i},{j}\")))  \n",
    "        \n",
    "C = []\n",
    "print(\"\\n === Suma === \")\n",
    "for i in range(n):\n",
    "    C.append([])\n",
    "    for j in range(m):\n",
    "        C[i].append(A[i][j] + B[i][j])\n",
    "for i in range(n):\n",
    "    for j in range(m):\n",
    "        print(C[i][j], end = \" \" if C[i][j] >= 0 else \" \")\n",
    "    print(\"\")\n",
    "        \n"
   ]
  },
  {
   "cell_type": "markdown",
   "id": "3f66ad14-4a4c-443a-a57a-2a3b78e38e7f",
   "metadata": {},
   "source": [
    "# Ejercicio\n",
    "\n",
    "Vamos a calcular el producto de dos matrices con listas. Ambas matrices serán dadas por el usuario así como las dimensiones de ambas."
   ]
  },
  {
   "cell_type": "code",
   "execution_count": 5,
   "id": "d0f645a0-9101-401e-99fc-16c7ae85cab3",
   "metadata": {
    "tags": []
   },
   "outputs": [
    {
     "name": "stdin",
     "output_type": "stream",
     "text": [
      "Número de filas de la matriz A:  2\n",
      "Número de columnas de la matriz A:  2\n",
      "Número de columnas de la matriz B:  2\n"
     ]
    },
    {
     "name": "stdout",
     "output_type": "stream",
     "text": [
      "\n",
      "=== Matriz A ===\n"
     ]
    },
    {
     "name": "stdin",
     "output_type": "stream",
     "text": [
      "Introduce el elemento (0,0)  5\n",
      "Introduce el elemento (0,1)  1\n",
      "Introduce el elemento (1,0)  2\n",
      "Introduce el elemento (1,1)  3\n"
     ]
    },
    {
     "name": "stdout",
     "output_type": "stream",
     "text": [
      "\n",
      "=== Matriz B ===\n"
     ]
    },
    {
     "name": "stdin",
     "output_type": "stream",
     "text": [
      "Introduce el elemento (0,0)  6\n",
      "Introduce el elemento (0,1)  5\n",
      "Introduce el elemento (1,0)  7\n",
      "Introduce el elemento (1,1)  4\n"
     ]
    },
    {
     "name": "stdout",
     "output_type": "stream",
     "text": [
      "\n",
      "=== Matriz A · B ===\n",
      "37.0  29.0  \n",
      "33.0  22.0  \n"
     ]
    }
   ],
   "source": [
    "n = int(input(\"Número de filas de la matriz A: \"))\n",
    "m = int(input(\"Número de columnas de la matriz A: \"))\n",
    "p = int(input(\"Número de columnas de la matriz B: \"))\n",
    "\n",
    "A = []\n",
    "print(\"\\n=== Matriz A ===\")\n",
    "for i in range(n):\n",
    "  A.append([])\n",
    "  for j in range(m):\n",
    "    A[i].append(float(input(\"Introduce el elemento ({},{}) \".format(i,j))))\n",
    "\n",
    "B = []\n",
    "print(\"\\n=== Matriz B ===\")\n",
    "for i in range(m):\n",
    "  B.append([])\n",
    "  for j in range(p):\n",
    "    B[i].append(float(input(\"Introduce el elemento ({},{}) \".format(i,j))))\n",
    "\n",
    "C = []\n",
    "for i in range(n):\n",
    "  C.append([])\n",
    "  for j in range(p):\n",
    "    elemento = 0\n",
    "    for k in range(m):\n",
    "      elemento += A[i][k] * B[k][j]\n",
    "    C[i].append(elemento)\n",
    "\n",
    "print(\"\\n=== Matriz A · B ===\")\n",
    "for i in range(n):\n",
    "  for j in range(p):\n",
    "    print(C[i][j], end = \"  \" if C[i][j] >= 0 else \" \")\n",
    "  print(\"\")"
   ]
  },
  {
   "cell_type": "markdown",
   "id": "f133f224-10b0-4cd7-b0da-4e0cca1ca1ac",
   "metadata": {},
   "source": [
    "---\n",
    "### Matrices con `numpy`\n",
    "\n",
    "Existe una forma más sencilla de trabajar con matricdes y es gracias a la librería `numpy`. Para importarla, simplemente hay que ejecutar la siguiente línea de código."
   ]
  },
  {
   "cell_type": "code",
   "execution_count": 6,
   "id": "33e3f3e1-ee5a-4ea1-b8fa-6cf665ad55b3",
   "metadata": {
    "tags": []
   },
   "outputs": [],
   "source": [
    "import numpy as np"
   ]
  },
  {
   "cell_type": "code",
   "execution_count": 7,
   "id": "7220fcbf-19e5-480e-bb34-4509395256a8",
   "metadata": {
    "tags": []
   },
   "outputs": [
    {
     "name": "stdout",
     "output_type": "stream",
     "text": [
      "[[6.90303559e-310 6.90303559e-310 6.90300357e-310]\n",
      " [6.90300357e-310 6.90300357e-310 6.90300357e-310]]\n"
     ]
    }
   ],
   "source": [
    "A = np.empty((2, 3)) # 2 filas y 3 columnas\n",
    "print(A)"
   ]
  },
  {
   "cell_type": "markdown",
   "id": "d9cdfd28-e224-4dba-ac99-73eca0828f63",
   "metadata": {},
   "source": [
    "Para crear una matriz vacía con las mismas dimensiones de otra matriz definida anteriormente, usamos el método .empty_like(), al que le indicamos por parámetro la matriz existente"
   ]
  },
  {
   "cell_type": "code",
   "execution_count": 8,
   "id": "bf1e9add-1245-493a-866e-17481c379102",
   "metadata": {
    "tags": []
   },
   "outputs": [
    {
     "name": "stdout",
     "output_type": "stream",
     "text": [
      "[[6.90303559e-310 6.90303559e-310 6.90300357e-310]\n",
      " [6.90300357e-310 6.90300357e-310 6.90300357e-310]]\n"
     ]
    }
   ],
   "source": [
    "B = np.empty_like(A) # Tendrá 2 filas y 3 columnas\n",
    "print(B)"
   ]
  },
  {
   "cell_type": "markdown",
   "id": "d9bf4a2c-51ef-46b1-a463-1a8d0a0cacaf",
   "metadata": {},
   "source": [
    "Para crear una matriz nula, usamos el método `.zeros()`, al que le indicamos por parámetro las dimensiones"
   ]
  },
  {
   "cell_type": "code",
   "execution_count": 12,
   "id": "50e9e7d6-cc59-4346-b457-3ea453b04b97",
   "metadata": {
    "tags": []
   },
   "outputs": [
    {
     "name": "stdout",
     "output_type": "stream",
     "text": [
      "[[0. 0. 0. 0. 0.]\n",
      " [0. 0. 0. 0. 0.]\n",
      " [0. 0. 0. 0. 0.]]\n"
     ]
    }
   ],
   "source": [
    "C = np.zeros((3, 5)) # Matriz nula de dimensiones 3 x 5\n",
    "print(C)"
   ]
  },
  {
   "cell_type": "markdown",
   "id": "72c97ed4-1f90-4c0e-a726-a5bc31594e06",
   "metadata": {},
   "source": [
    "Para crear una matriz de ceros con las mismas dimensiones de otra matriz definida anteriormente, usamos el método .zeros_like(), al que le indicamos por parámetro la matriz existente"
   ]
  },
  {
   "cell_type": "code",
   "execution_count": 10,
   "id": "9ff63419-c346-4367-9337-30db9793ff88",
   "metadata": {
    "tags": []
   },
   "outputs": [
    {
     "name": "stdout",
     "output_type": "stream",
     "text": [
      "[[0. 0. 0.]\n",
      " [0. 0. 0.]]\n"
     ]
    }
   ],
   "source": [
    "D = np.zeros_like(A) # Tendrá 2 filas y 3 columnas y todos sus elementos valdrán 0\n",
    "print(D)"
   ]
  },
  {
   "cell_type": "markdown",
   "id": "c81a808c-8ac4-4786-9b07-a3472dc8d3c3",
   "metadata": {},
   "source": [
    "Para crear una matriz de unos, usamos el método `.ones()`, al que le indicamos por parámetro las dimensiones"
   ]
  },
  {
   "cell_type": "code",
   "execution_count": 11,
   "id": "4e964b70-5fbd-4bf9-9779-e5272401cede",
   "metadata": {
    "tags": []
   },
   "outputs": [
    {
     "name": "stdout",
     "output_type": "stream",
     "text": [
      "[[1. 1. 1. 1.]]\n"
     ]
    }
   ],
   "source": [
    "E = np.ones((1, 4)) # Matriz de unos de dimensiones 1 x 4\n",
    "print(E)"
   ]
  },
  {
   "cell_type": "markdown",
   "id": "d9e34bd1-4da8-4982-b7d7-042d28983fdd",
   "metadata": {},
   "source": [
    "Para crear una matriz de unos con las mismas dimensiones de otra matriz definida anteriormente, usamos el método .ones_like(), al que le indicamos por parámetro la matriz existente"
   ]
  },
  {
   "cell_type": "code",
   "execution_count": 13,
   "id": "8c9827ae-7bf6-48db-b784-8db01f12d025",
   "metadata": {
    "tags": []
   },
   "outputs": [
    {
     "name": "stdout",
     "output_type": "stream",
     "text": [
      "[[1. 1. 1. 1. 1.]\n",
      " [1. 1. 1. 1. 1.]\n",
      " [1. 1. 1. 1. 1.]]\n"
     ]
    }
   ],
   "source": [
    "F = np.ones_like(C) # Tendrá 3 filas y 5 columnas y todos sus elementos valdrán 1\n",
    "print(F)"
   ]
  },
  {
   "cell_type": "markdown",
   "id": "d349df86-04ee-41a4-8320-de888a398e0f",
   "metadata": {},
   "source": [
    "Podemos crear matrices de numpy a partir de listas con el método `.matrix()`"
   ]
  },
  {
   "cell_type": "code",
   "execution_count": 14,
   "id": "4d7a3804-bbfb-400a-a22a-0db4de662723",
   "metadata": {
    "tags": []
   },
   "outputs": [
    {
     "name": "stdout",
     "output_type": "stream",
     "text": [
      "[[ 1  0 -3  2]\n",
      " [ 2  0  1  1]\n",
      " [-1  0 -1  0]]\n"
     ]
    }
   ],
   "source": [
    "M = np.matrix([[1, 0, -3, 2], [2, 0, 1, 1], [-1, 0, -1, 0]])\n",
    "print(M)"
   ]
  },
  {
   "cell_type": "markdown",
   "id": "1386712f-5707-4c95-9975-41c10257076b",
   "metadata": {},
   "source": [
    "Para saber las dimensiones de una matriz, podemos utilizar el método `.shape`\n"
   ]
  },
  {
   "cell_type": "code",
   "execution_count": 15,
   "id": "01cd3ae2-f16b-40c5-98fe-495bb4653ebe",
   "metadata": {
    "tags": []
   },
   "outputs": [
    {
     "data": {
      "text/plain": [
       "(3, 4)"
      ]
     },
     "execution_count": 15,
     "metadata": {},
     "output_type": "execute_result"
    }
   ],
   "source": [
    "M.shape"
   ]
  },
  {
   "cell_type": "markdown",
   "id": "c2e4246b-b49c-491f-bd18-82c1063c2b99",
   "metadata": {},
   "source": [
    "Ahora es más sencillo sumar matrices, pues solamente necesitamos la función `+`"
   ]
  },
  {
   "cell_type": "code",
   "execution_count": 16,
   "id": "a736f5d7-6cce-4e2b-a003-a70145529764",
   "metadata": {
    "tags": []
   },
   "outputs": [
    {
     "data": {
      "text/plain": [
       "matrix([[ 0, -2, -3],\n",
       "        [ 0,  3,  1],\n",
       "        [-1, -1, -3]])"
      ]
     },
     "execution_count": 16,
     "metadata": {},
     "output_type": "execute_result"
    }
   ],
   "source": [
    "A = np.matrix([[1, 0, -3], [2, 0, 1], [-1, -1, 0]])\n",
    "B = np.matrix([[-1, -2, 0], [-2, 3, 0], [0, 0, -3]])\n",
    "matrixSum = A + B\n",
    "matrixSum"
   ]
  },
  {
   "cell_type": "markdown",
   "id": "d2f0c5e0-596f-435a-93ba-e89fc675d9d5",
   "metadata": {},
   "source": [
    "También es más sencillo hacer el producto matricial $A\\cdot B$ con el método `.dot()`"
   ]
  },
  {
   "cell_type": "code",
   "execution_count": 17,
   "id": "d22365be-c7ac-44fc-aa1e-1158fc6c6aa8",
   "metadata": {
    "tags": []
   },
   "outputs": [
    {
     "data": {
      "text/plain": [
       "matrix([[ 1,  0,  7],\n",
       "        [-1, -3, -4],\n",
       "        [ 1,  2,  3]])"
      ]
     },
     "execution_count": 17,
     "metadata": {},
     "output_type": "execute_result"
    }
   ],
   "source": [
    "A = np.matrix([[1, 0, -3, 2], [2, 0, 1, 1], [-1, 0, -1, 0]])\n",
    "B = np.matrix([[-1, -2, 0], [-2, 3, 0], [0, 0, -3], [1, 1, -1]])\n",
    "\n",
    "matrixProd = A.dot(B)\n",
    "matrixProd"
   ]
  },
  {
   "cell_type": "markdown",
   "id": "612268a8-4568-4282-bf24-45d566e74467",
   "metadata": {},
   "source": [
    "Gracias a `numpy`, también es mucho más sencillo mostrar una matriz en forma de tabla, pues nos basta con hacer uso de la función `print()`:"
   ]
  },
  {
   "cell_type": "code",
   "execution_count": 18,
   "id": "5d3e681c-6e49-43dc-ba6c-7a8acc88dfe4",
   "metadata": {
    "tags": []
   },
   "outputs": [
    {
     "name": "stdout",
     "output_type": "stream",
     "text": [
      "[[ 0 -2 -3]\n",
      " [ 0  3  1]\n",
      " [-1 -1 -3]]\n",
      "[[ 1  0  7]\n",
      " [-1 -3 -4]\n",
      " [ 1  2  3]]\n"
     ]
    }
   ],
   "source": [
    "print(matrixSum)\n",
    "print(matrixProd)"
   ]
  },
  {
   "cell_type": "markdown",
   "id": "e7488854-1f1f-4e5a-a512-12c5a0949d08",
   "metadata": {},
   "source": [
    "---\n",
    "# Ejercicio\n",
    "\n",
    "Vamos a introducir manualmente una matriz con `numpy` donde las dimensiones son proporcionadas por el usuario."
   ]
  },
  {
   "cell_type": "code",
   "execution_count": 19,
   "id": "75d34384-0b8f-4c57-9732-052916ce639d",
   "metadata": {
    "tags": []
   },
   "outputs": [
    {
     "name": "stdin",
     "output_type": "stream",
     "text": [
      "Número de filas:  2\n",
      "Número de columnas:  2\n",
      "Introduce el elemento (0,0)  2\n",
      "Introduce el elemento (0,1)  2\n",
      "Introduce el elemento (1,0)  4\n",
      "Introduce el elemento (1,1)  4\n"
     ]
    },
    {
     "name": "stdout",
     "output_type": "stream",
     "text": [
      "\n",
      "=== Matriz A ===\n",
      "[[2. 2.]\n",
      " [4. 4.]]\n"
     ]
    }
   ],
   "source": [
    "n = int(input(\"Número de filas: \"))\n",
    "m = int(input(\"Número de columnas: \")) \n",
    "\n",
    "A = np.empty((n, m))\n",
    "\n",
    "for i in range(n):\n",
    "  for j in range(m):\n",
    "    A[i, j] = float(input(\"Introduce el elemento ({},{}) \".format(i, j)))\n",
    "\n",
    "print(\"\\n=== Matriz A ===\")\n",
    "print(A)"
   ]
  },
  {
   "cell_type": "markdown",
   "id": "c59962fd-ac1f-49fb-9b15-1ba6185e076d",
   "metadata": {},
   "source": [
    "# Ejercicio\n",
    "\n",
    "Vamos a sumar dos matrices con `numpy`. Ambas matrices las proporcionará el usuario, así como sus dimensiones."
   ]
  },
  {
   "cell_type": "code",
   "execution_count": 20,
   "id": "87cb2d7a-48f9-4533-a986-af789c52146f",
   "metadata": {
    "tags": []
   },
   "outputs": [
    {
     "name": "stdin",
     "output_type": "stream",
     "text": [
      "Número de filas:  2\n",
      "Número de columnas:  2\n"
     ]
    },
    {
     "name": "stdout",
     "output_type": "stream",
     "text": [
      "\n",
      "=== Matriz A ===\n"
     ]
    },
    {
     "name": "stdin",
     "output_type": "stream",
     "text": [
      "Introduce el elemento (0,0)  2\n",
      "Introduce el elemento (0,1)  2\n",
      "Introduce el elemento (1,0)  4\n",
      "Introduce el elemento (1,1)  4\n"
     ]
    },
    {
     "name": "stdout",
     "output_type": "stream",
     "text": [
      "\n",
      "=== Matriz B ===\n"
     ]
    },
    {
     "name": "stdin",
     "output_type": "stream",
     "text": [
      "Introduce el elemento (0,0)  8\n",
      "Introduce el elemento (0,1)  8\n",
      "Introduce el elemento (1,0)  12\n",
      "Introduce el elemento (1,1)  12\n"
     ]
    },
    {
     "name": "stdout",
     "output_type": "stream",
     "text": [
      "\n",
      "=== Matriz A + B ===\n",
      "[[10. 10.]\n",
      " [16. 16.]]\n"
     ]
    }
   ],
   "source": [
    "import numpy as np\n",
    "n = int(input(\"Número de filas: \"))\n",
    "m = int(input(\"Número de columnas: \"))\n",
    "\n",
    "A = np.empty((n, m))\n",
    "print(\"\\n=== Matriz A ===\")\n",
    "for i in range(n):\n",
    "  for j in range(m):\n",
    "    A[i, j] = float(input(\"Introduce el elemento ({},{}) \".format(i, j)))\n",
    "\n",
    "B = np.empty((n, m))\n",
    "print(\"\\n=== Matriz B ===\")\n",
    "for i in range(n):\n",
    "  for j in range(m):\n",
    "    B[i, j] = float(input(\"Introduce el elemento ({},{}) \".format(i, j)))\n",
    "\n",
    "print(\"\\n=== Matriz A + B ===\")\n",
    "print(A + B)"
   ]
  },
  {
   "cell_type": "code",
   "execution_count": null,
   "id": "d4faa9de-8270-47c7-bbbd-fc10c258797f",
   "metadata": {},
   "outputs": [],
   "source": []
  }
 ],
 "metadata": {
  "kernelspec": {
   "display_name": "Python 3 (ipykernel)",
   "language": "python",
   "name": "python3"
  },
  "language_info": {
   "codemirror_mode": {
    "name": "ipython",
    "version": 3
   },
   "file_extension": ".py",
   "mimetype": "text/x-python",
   "name": "python",
   "nbconvert_exporter": "python",
   "pygments_lexer": "ipython3",
   "version": "3.11.5"
  }
 },
 "nbformat": 4,
 "nbformat_minor": 5
}
