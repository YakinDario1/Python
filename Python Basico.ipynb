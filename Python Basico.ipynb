{
 "cells": [
  {
   "cell_type": "markdown",
   "id": "e88dd99e",
   "metadata": {},
   "source": [
    "# Basico en Python "
   ]
  },
  {
   "cell_type": "markdown",
   "id": "d43d5bfe-560b-4dfe-9408-5a14cf5b3d70",
   "metadata": {},
   "source": [
    "**Variable** "
   ]
  },
  {
   "cell_type": "markdown",
   "id": "2df77cd4-861b-4695-a88e-d9a00bf8cae6",
   "metadata": {},
   "source": [
    "Una \"variable\" es un identificador que se utiliza para almacenar datos en la memoria de la computadora. Las variables son como contenedores o etiquetas que se utilizan para representar valores o datos, como números, cadenas de texto, objetos, etc. Cada variable tiene un nombre único que se utiliza para acceder a su contenido."
   ]
  },
  {
   "cell_type": "markdown",
   "id": "434410d5-0f56-48eb-89b0-6b3bcc03b763",
   "metadata": {},
   "source": [
    "**Asignación de un variable** "
   ]
  },
  {
   "cell_type": "code",
   "execution_count": 1,
   "id": "ac0e5486-9617-4286-acdd-0b9d5a5c93c2",
   "metadata": {
    "tags": []
   },
   "outputs": [
    {
     "data": {
      "text/plain": [
       "'yakin'"
      ]
     },
     "execution_count": 1,
     "metadata": {},
     "output_type": "execute_result"
    }
   ],
   "source": [
    "miVariable = \"yakin\"\n",
    "miVariable"
   ]
  },
  {
   "cell_type": "code",
   "execution_count": 2,
   "id": "7b2d53ff-53ee-40dd-b9df-fbcb9867b52f",
   "metadata": {
    "tags": []
   },
   "outputs": [
    {
     "data": {
      "text/plain": [
       "2"
      ]
     },
     "execution_count": 2,
     "metadata": {},
     "output_type": "execute_result"
    }
   ],
   "source": [
    "y = 2\n",
    "y "
   ]
  },
  {
   "cell_type": "markdown",
   "id": "4c7bb4f5-b45e-4760-bd25-ecf95b30bc40",
   "metadata": {},
   "source": [
    "---"
   ]
  },
  {
   "cell_type": "markdown",
   "id": "e102b376-4b62-40d0-9afa-01141e2e982e",
   "metadata": {},
   "source": [
    "**Declaracion multivariable**"
   ]
  },
  {
   "cell_type": "code",
   "execution_count": 3,
   "id": "53f077a7-11c1-4eb4-b7ce-368856885b2e",
   "metadata": {
    "tags": []
   },
   "outputs": [],
   "source": [
    "age, name = 26, \"yakindario\""
   ]
  },
  {
   "cell_type": "code",
   "execution_count": 4,
   "id": "8f87256b-b3dc-48d4-925b-393add328a7a",
   "metadata": {
    "tags": []
   },
   "outputs": [
    {
     "data": {
      "text/plain": [
       "26"
      ]
     },
     "execution_count": 4,
     "metadata": {},
     "output_type": "execute_result"
    }
   ],
   "source": [
    "age"
   ]
  },
  {
   "cell_type": "code",
   "execution_count": 5,
   "id": "de8c86f7-0900-40d4-bf19-b61b83e833ff",
   "metadata": {
    "tags": []
   },
   "outputs": [
    {
     "data": {
      "text/plain": [
       "'yakindario'"
      ]
     },
     "execution_count": 5,
     "metadata": {},
     "output_type": "execute_result"
    }
   ],
   "source": [
    "name"
   ]
  },
  {
   "cell_type": "markdown",
   "id": "3f2048a6-8c88-4344-aa4b-8b918b5e0f84",
   "metadata": {},
   "source": [
    "---"
   ]
  },
  {
   "cell_type": "markdown",
   "id": "60831914-d0fe-49e6-920e-e9db297af14b",
   "metadata": {},
   "source": [
    "**Declaracion de variable numerico**"
   ]
  },
  {
   "cell_type": "code",
   "execution_count": 6,
   "id": "618a21c5-8a70-43ef-bbb1-4af37a290791",
   "metadata": {
    "tags": []
   },
   "outputs": [
    {
     "data": {
      "text/plain": [
       "11"
      ]
     },
     "execution_count": 6,
     "metadata": {},
     "output_type": "execute_result"
    }
   ],
   "source": [
    "x = 10 \n",
    "x +  1"
   ]
  },
  {
   "cell_type": "code",
   "execution_count": 7,
   "id": "41ba9bd8-dcb5-4eda-9a76-9d7bfb7983ac",
   "metadata": {
    "tags": []
   },
   "outputs": [
    {
     "data": {
      "text/plain": [
       "4"
      ]
     },
     "execution_count": 7,
     "metadata": {},
     "output_type": "execute_result"
    }
   ],
   "source": [
    "y = 2 \n",
    "y += 2 # suma mas dos \n",
    "y"
   ]
  },
  {
   "cell_type": "code",
   "execution_count": 8,
   "id": "c67e9d97-f516-46ef-9d3b-7f209ac4fff5",
   "metadata": {
    "tags": []
   },
   "outputs": [
    {
     "name": "stdout",
     "output_type": "stream",
     "text": [
      "3\n",
      "6\n"
     ]
    }
   ],
   "source": [
    "y -= 1 # resta \n",
    "print(y)\n",
    "\n",
    "y *= 2 # Multiplica \n",
    "print(y)"
   ]
  },
  {
   "cell_type": "code",
   "execution_count": 9,
   "id": "7a5ff9e9-dcdb-49c7-8813-90c2a77322e7",
   "metadata": {
    "tags": []
   },
   "outputs": [
    {
     "name": "stdout",
     "output_type": "stream",
     "text": [
      "3.0\n",
      "1.0\n",
      "1\n",
      "9\n"
     ]
    }
   ],
   "source": [
    "y /= 2 # divide \n",
    "print(y)\n",
    "\n",
    "y //= 2 #Divide y resultado es numero entero \n",
    "print(y)\n",
    "\n",
    "b = 15\n",
    "b %= 7 # Calcular un modulo \n",
    "print(b)\n",
    "\n",
    "c = 3 \n",
    "c **= 2 # La pontecia de un numero \n",
    "print(c)"
   ]
  },
  {
   "cell_type": "markdown",
   "id": "06309b2a-109c-460b-8b5f-fe1d58db0d70",
   "metadata": {},
   "source": [
    "---"
   ]
  },
  {
   "cell_type": "markdown",
   "id": "6d277f16-3db7-4c39-bcd1-59ccf1567ff6",
   "metadata": {},
   "source": [
    "**Comentario**"
   ]
  },
  {
   "cell_type": "code",
   "execution_count": 10,
   "id": "2c457a6b-fd44-4526-9cf7-145a3c383277",
   "metadata": {
    "tags": []
   },
   "outputs": [
    {
     "name": "stdout",
     "output_type": "stream",
     "text": [
      "Hola mundo\n"
     ]
    }
   ],
   "source": [
    "saludo = \"Hola mundo\" # COMENTARIO Asignacion de variable \n",
    "print(saludo)"
   ]
  },
  {
   "cell_type": "markdown",
   "id": "6f611e24-ac36-454b-b75f-c7ab878d41a0",
   "metadata": {},
   "source": [
    "---"
   ]
  },
  {
   "cell_type": "markdown",
   "id": "ec600e6c-6a54-4310-8134-0538d516e074",
   "metadata": {},
   "source": [
    "**La funcion import**\n",
    "\n",
    "La declaración **`import`** en Python se utiliza para cargar módulos en un programa. Los módulos son archivos de Python que contienen variables, funciones y clases que puedes usar en tu programa."
   ]
  },
  {
   "cell_type": "code",
   "execution_count": null,
   "id": "74bf68a6-2b6e-4079-b56a-3d571b5dcaa3",
   "metadata": {},
   "outputs": [],
   "source": []
  }
 ],
 "metadata": {
  "kernelspec": {
   "display_name": "Python 3 (ipykernel)",
   "language": "python",
   "name": "python3"
  },
  "language_info": {
   "codemirror_mode": {
    "name": "ipython",
    "version": 3
   },
   "file_extension": ".py",
   "mimetype": "text/x-python",
   "name": "python",
   "nbconvert_exporter": "python",
   "pygments_lexer": "ipython3",
   "version": "3.11.5"
  }
 },
 "nbformat": 4,
 "nbformat_minor": 5
}
